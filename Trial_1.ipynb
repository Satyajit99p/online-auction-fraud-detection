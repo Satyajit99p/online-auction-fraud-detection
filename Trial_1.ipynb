{
  "nbformat": 4,
  "nbformat_minor": 0,
  "metadata": {
    "colab": {
      "name": "Trial_1.ipynb",
      "provenance": [],
      "collapsed_sections": [],
      "authorship_tag": "ABX9TyPioeS8AqcrAJYWsv9HzCZz",
      "include_colab_link": true
    },
    "kernelspec": {
      "name": "python3",
      "display_name": "Python 3"
    },
    "accelerator": "GPU"
  },
  "cells": [
    {
      "cell_type": "markdown",
      "metadata": {
        "id": "view-in-github",
        "colab_type": "text"
      },
      "source": [
        "<a href=\"https://colab.research.google.com/github/Satyajit99p/online-auction-fraud-detection/blob/master/Trial_1.ipynb\" target=\"_parent\"><img src=\"https://colab.research.google.com/assets/colab-badge.svg\" alt=\"Open In Colab\"/></a>"
      ]
    },
    {
      "cell_type": "code",
      "metadata": {
        "id": "SL4YSaKO7uzu"
      },
      "source": [
        "from google.colab import drive"
      ],
      "execution_count": 3,
      "outputs": []
    },
    {
      "cell_type": "code",
      "metadata": {
        "id": "t2NtPDWN8LNs",
        "outputId": "2dc99a42-8f6f-4e92-93a4-6c433a266ddd",
        "colab": {
          "base_uri": "https://localhost:8080/",
          "height": 34
        }
      },
      "source": [
        "drive.mount('/content/drive')"
      ],
      "execution_count": 4,
      "outputs": [
        {
          "output_type": "stream",
          "text": [
            "Mounted at /content/drive\n"
          ],
          "name": "stdout"
        }
      ]
    },
    {
      "cell_type": "code",
      "metadata": {
        "id": "KUoW3Axh8clO",
        "outputId": "11752667-6923-458e-ada2-7606510e1382",
        "colab": {
          "base_uri": "https://localhost:8080/",
          "height": 35
        }
      },
      "source": [
        "import os\n",
        "os.getcwd()"
      ],
      "execution_count": 5,
      "outputs": [
        {
          "output_type": "execute_result",
          "data": {
            "application/vnd.google.colaboratory.intrinsic+json": {
              "type": "string"
            },
            "text/plain": [
              "'/content'"
            ]
          },
          "metadata": {
            "tags": []
          },
          "execution_count": 5
        }
      ]
    },
    {
      "cell_type": "code",
      "metadata": {
        "id": "wuQfeDPL8oD1"
      },
      "source": [
        "os.chdir('/content/drive/My Drive/online auction fraud detection')"
      ],
      "execution_count": 6,
      "outputs": []
    },
    {
      "cell_type": "markdown",
      "metadata": {
        "id": "EmO15gGJOYPx"
      },
      "source": [
        "PREPROCESSING\n"
      ]
    },
    {
      "cell_type": "code",
      "metadata": {
        "id": "btf9h-hL85Y0",
        "outputId": "473a15fe-d154-4aed-c46c-353068b61afd",
        "colab": {
          "base_uri": "https://localhost:8080/",
          "height": 71
        }
      },
      "source": [
        "import pandas as pd\n",
        "import numpy as np\n",
        "import seaborn as sb"
      ],
      "execution_count": 7,
      "outputs": [
        {
          "output_type": "stream",
          "text": [
            "/usr/local/lib/python3.6/dist-packages/statsmodels/tools/_testing.py:19: FutureWarning: pandas.util.testing is deprecated. Use the functions in the public API at pandas.testing instead.\n",
            "  import pandas.util.testing as tm\n"
          ],
          "name": "stderr"
        }
      ]
    },
    {
      "cell_type": "code",
      "metadata": {
        "id": "DPEG4Sdj9Doz"
      },
      "source": [
        "data=pd.read_csv('Online Auction_Shill Bidding Dataset.csv')"
      ],
      "execution_count": 8,
      "outputs": []
    },
    {
      "cell_type": "code",
      "metadata": {
        "id": "c3MUnIBJ9Pur",
        "outputId": "08e49fe1-5f87-4f48-b415-a2765410f3d7",
        "colab": {
          "base_uri": "https://localhost:8080/",
          "height": 317
        }
      },
      "source": [
        "data.describe()"
      ],
      "execution_count": 9,
      "outputs": [
        {
          "output_type": "execute_result",
          "data": {
            "text/html": [
              "<div>\n",
              "<style scoped>\n",
              "    .dataframe tbody tr th:only-of-type {\n",
              "        vertical-align: middle;\n",
              "    }\n",
              "\n",
              "    .dataframe tbody tr th {\n",
              "        vertical-align: top;\n",
              "    }\n",
              "\n",
              "    .dataframe thead th {\n",
              "        text-align: right;\n",
              "    }\n",
              "</style>\n",
              "<table border=\"1\" class=\"dataframe\">\n",
              "  <thead>\n",
              "    <tr style=\"text-align: right;\">\n",
              "      <th></th>\n",
              "      <th>Record_ID</th>\n",
              "      <th>Auction_ID</th>\n",
              "      <th>Bidder_Tendency</th>\n",
              "      <th>Bidding_Ratio</th>\n",
              "      <th>Successive_Outbidding</th>\n",
              "      <th>Last_Bidding</th>\n",
              "      <th>Auction_Bids</th>\n",
              "      <th>Starting_Price_Average</th>\n",
              "      <th>Early_Bidding</th>\n",
              "      <th>Winning_Ratio</th>\n",
              "      <th>Auction_Duration</th>\n",
              "      <th>Class</th>\n",
              "    </tr>\n",
              "  </thead>\n",
              "  <tbody>\n",
              "    <tr>\n",
              "      <th>count</th>\n",
              "      <td>6321.000000</td>\n",
              "      <td>6321.000000</td>\n",
              "      <td>6321.000000</td>\n",
              "      <td>6321.000000</td>\n",
              "      <td>6321.000000</td>\n",
              "      <td>6321.000000</td>\n",
              "      <td>6321.000000</td>\n",
              "      <td>6321.000000</td>\n",
              "      <td>6321.000000</td>\n",
              "      <td>6321.000000</td>\n",
              "      <td>6321.000000</td>\n",
              "      <td>6321.000000</td>\n",
              "    </tr>\n",
              "    <tr>\n",
              "      <th>mean</th>\n",
              "      <td>7535.829457</td>\n",
              "      <td>1241.388230</td>\n",
              "      <td>0.142541</td>\n",
              "      <td>0.127670</td>\n",
              "      <td>0.103781</td>\n",
              "      <td>0.463119</td>\n",
              "      <td>0.231606</td>\n",
              "      <td>0.472821</td>\n",
              "      <td>0.430683</td>\n",
              "      <td>0.367731</td>\n",
              "      <td>4.615093</td>\n",
              "      <td>0.106787</td>\n",
              "    </tr>\n",
              "    <tr>\n",
              "      <th>std</th>\n",
              "      <td>4364.759137</td>\n",
              "      <td>735.770789</td>\n",
              "      <td>0.197084</td>\n",
              "      <td>0.131530</td>\n",
              "      <td>0.279698</td>\n",
              "      <td>0.380097</td>\n",
              "      <td>0.255252</td>\n",
              "      <td>0.489912</td>\n",
              "      <td>0.380785</td>\n",
              "      <td>0.436573</td>\n",
              "      <td>2.466629</td>\n",
              "      <td>0.308867</td>\n",
              "    </tr>\n",
              "    <tr>\n",
              "      <th>min</th>\n",
              "      <td>1.000000</td>\n",
              "      <td>5.000000</td>\n",
              "      <td>0.000000</td>\n",
              "      <td>0.011765</td>\n",
              "      <td>0.000000</td>\n",
              "      <td>0.000000</td>\n",
              "      <td>0.000000</td>\n",
              "      <td>0.000000</td>\n",
              "      <td>0.000000</td>\n",
              "      <td>0.000000</td>\n",
              "      <td>1.000000</td>\n",
              "      <td>0.000000</td>\n",
              "    </tr>\n",
              "    <tr>\n",
              "      <th>25%</th>\n",
              "      <td>3778.000000</td>\n",
              "      <td>589.000000</td>\n",
              "      <td>0.027027</td>\n",
              "      <td>0.043478</td>\n",
              "      <td>0.000000</td>\n",
              "      <td>0.047928</td>\n",
              "      <td>0.000000</td>\n",
              "      <td>0.000000</td>\n",
              "      <td>0.026620</td>\n",
              "      <td>0.000000</td>\n",
              "      <td>3.000000</td>\n",
              "      <td>0.000000</td>\n",
              "    </tr>\n",
              "    <tr>\n",
              "      <th>50%</th>\n",
              "      <td>7591.000000</td>\n",
              "      <td>1246.000000</td>\n",
              "      <td>0.062500</td>\n",
              "      <td>0.083333</td>\n",
              "      <td>0.000000</td>\n",
              "      <td>0.440937</td>\n",
              "      <td>0.142857</td>\n",
              "      <td>0.000000</td>\n",
              "      <td>0.360104</td>\n",
              "      <td>0.000000</td>\n",
              "      <td>5.000000</td>\n",
              "      <td>0.000000</td>\n",
              "    </tr>\n",
              "    <tr>\n",
              "      <th>75%</th>\n",
              "      <td>11277.000000</td>\n",
              "      <td>1867.000000</td>\n",
              "      <td>0.166667</td>\n",
              "      <td>0.166667</td>\n",
              "      <td>0.000000</td>\n",
              "      <td>0.860363</td>\n",
              "      <td>0.454545</td>\n",
              "      <td>0.993593</td>\n",
              "      <td>0.826761</td>\n",
              "      <td>0.851852</td>\n",
              "      <td>7.000000</td>\n",
              "      <td>0.000000</td>\n",
              "    </tr>\n",
              "    <tr>\n",
              "      <th>max</th>\n",
              "      <td>15144.000000</td>\n",
              "      <td>2538.000000</td>\n",
              "      <td>1.000000</td>\n",
              "      <td>1.000000</td>\n",
              "      <td>1.000000</td>\n",
              "      <td>0.999900</td>\n",
              "      <td>0.788235</td>\n",
              "      <td>0.999935</td>\n",
              "      <td>0.999900</td>\n",
              "      <td>1.000000</td>\n",
              "      <td>10.000000</td>\n",
              "      <td>1.000000</td>\n",
              "    </tr>\n",
              "  </tbody>\n",
              "</table>\n",
              "</div>"
            ],
            "text/plain": [
              "          Record_ID   Auction_ID  ...  Auction_Duration        Class\n",
              "count   6321.000000  6321.000000  ...       6321.000000  6321.000000\n",
              "mean    7535.829457  1241.388230  ...          4.615093     0.106787\n",
              "std     4364.759137   735.770789  ...          2.466629     0.308867\n",
              "min        1.000000     5.000000  ...          1.000000     0.000000\n",
              "25%     3778.000000   589.000000  ...          3.000000     0.000000\n",
              "50%     7591.000000  1246.000000  ...          5.000000     0.000000\n",
              "75%    11277.000000  1867.000000  ...          7.000000     0.000000\n",
              "max    15144.000000  2538.000000  ...         10.000000     1.000000\n",
              "\n",
              "[8 rows x 12 columns]"
            ]
          },
          "metadata": {
            "tags": []
          },
          "execution_count": 9
        }
      ]
    },
    {
      "cell_type": "code",
      "metadata": {
        "id": "MUuIQbIp9SOD",
        "outputId": "5ce9e6b4-d719-4f3b-ec52-107e905abb8b",
        "colab": {
          "base_uri": "https://localhost:8080/",
          "height": 357
        }
      },
      "source": [
        "data.info()"
      ],
      "execution_count": 10,
      "outputs": [
        {
          "output_type": "stream",
          "text": [
            "<class 'pandas.core.frame.DataFrame'>\n",
            "RangeIndex: 6321 entries, 0 to 6320\n",
            "Data columns (total 13 columns):\n",
            " #   Column                  Non-Null Count  Dtype  \n",
            "---  ------                  --------------  -----  \n",
            " 0   Record_ID               6321 non-null   int64  \n",
            " 1   Auction_ID              6321 non-null   int64  \n",
            " 2   Bidder_ID               6321 non-null   object \n",
            " 3   Bidder_Tendency         6321 non-null   float64\n",
            " 4   Bidding_Ratio           6321 non-null   float64\n",
            " 5   Successive_Outbidding   6321 non-null   float64\n",
            " 6   Last_Bidding            6321 non-null   float64\n",
            " 7   Auction_Bids            6321 non-null   float64\n",
            " 8   Starting_Price_Average  6321 non-null   float64\n",
            " 9   Early_Bidding           6321 non-null   float64\n",
            " 10  Winning_Ratio           6321 non-null   float64\n",
            " 11  Auction_Duration        6321 non-null   int64  \n",
            " 12  Class                   6321 non-null   int64  \n",
            "dtypes: float64(8), int64(4), object(1)\n",
            "memory usage: 642.1+ KB\n"
          ],
          "name": "stdout"
        }
      ]
    },
    {
      "cell_type": "code",
      "metadata": {
        "id": "KUyFnmsd9Vg6",
        "outputId": "b8cfe69e-a7d2-4f64-c89d-c0e24b41d0c8",
        "colab": {
          "base_uri": "https://localhost:8080/",
          "height": 379
        }
      },
      "source": [
        "data.head(10)"
      ],
      "execution_count": 11,
      "outputs": [
        {
          "output_type": "execute_result",
          "data": {
            "text/html": [
              "<div>\n",
              "<style scoped>\n",
              "    .dataframe tbody tr th:only-of-type {\n",
              "        vertical-align: middle;\n",
              "    }\n",
              "\n",
              "    .dataframe tbody tr th {\n",
              "        vertical-align: top;\n",
              "    }\n",
              "\n",
              "    .dataframe thead th {\n",
              "        text-align: right;\n",
              "    }\n",
              "</style>\n",
              "<table border=\"1\" class=\"dataframe\">\n",
              "  <thead>\n",
              "    <tr style=\"text-align: right;\">\n",
              "      <th></th>\n",
              "      <th>Record_ID</th>\n",
              "      <th>Auction_ID</th>\n",
              "      <th>Bidder_ID</th>\n",
              "      <th>Bidder_Tendency</th>\n",
              "      <th>Bidding_Ratio</th>\n",
              "      <th>Successive_Outbidding</th>\n",
              "      <th>Last_Bidding</th>\n",
              "      <th>Auction_Bids</th>\n",
              "      <th>Starting_Price_Average</th>\n",
              "      <th>Early_Bidding</th>\n",
              "      <th>Winning_Ratio</th>\n",
              "      <th>Auction_Duration</th>\n",
              "      <th>Class</th>\n",
              "    </tr>\n",
              "  </thead>\n",
              "  <tbody>\n",
              "    <tr>\n",
              "      <th>0</th>\n",
              "      <td>1</td>\n",
              "      <td>732</td>\n",
              "      <td>_***i</td>\n",
              "      <td>0.200000</td>\n",
              "      <td>0.400000</td>\n",
              "      <td>0.0</td>\n",
              "      <td>0.000028</td>\n",
              "      <td>0.000000</td>\n",
              "      <td>0.993593</td>\n",
              "      <td>0.000028</td>\n",
              "      <td>0.666667</td>\n",
              "      <td>5</td>\n",
              "      <td>0</td>\n",
              "    </tr>\n",
              "    <tr>\n",
              "      <th>1</th>\n",
              "      <td>2</td>\n",
              "      <td>732</td>\n",
              "      <td>g***r</td>\n",
              "      <td>0.024390</td>\n",
              "      <td>0.200000</td>\n",
              "      <td>0.0</td>\n",
              "      <td>0.013123</td>\n",
              "      <td>0.000000</td>\n",
              "      <td>0.993593</td>\n",
              "      <td>0.013123</td>\n",
              "      <td>0.944444</td>\n",
              "      <td>5</td>\n",
              "      <td>0</td>\n",
              "    </tr>\n",
              "    <tr>\n",
              "      <th>2</th>\n",
              "      <td>3</td>\n",
              "      <td>732</td>\n",
              "      <td>t***p</td>\n",
              "      <td>0.142857</td>\n",
              "      <td>0.200000</td>\n",
              "      <td>0.0</td>\n",
              "      <td>0.003042</td>\n",
              "      <td>0.000000</td>\n",
              "      <td>0.993593</td>\n",
              "      <td>0.003042</td>\n",
              "      <td>1.000000</td>\n",
              "      <td>5</td>\n",
              "      <td>0</td>\n",
              "    </tr>\n",
              "    <tr>\n",
              "      <th>3</th>\n",
              "      <td>4</td>\n",
              "      <td>732</td>\n",
              "      <td>7***n</td>\n",
              "      <td>0.100000</td>\n",
              "      <td>0.200000</td>\n",
              "      <td>0.0</td>\n",
              "      <td>0.097477</td>\n",
              "      <td>0.000000</td>\n",
              "      <td>0.993593</td>\n",
              "      <td>0.097477</td>\n",
              "      <td>1.000000</td>\n",
              "      <td>5</td>\n",
              "      <td>0</td>\n",
              "    </tr>\n",
              "    <tr>\n",
              "      <th>4</th>\n",
              "      <td>5</td>\n",
              "      <td>900</td>\n",
              "      <td>z***z</td>\n",
              "      <td>0.051282</td>\n",
              "      <td>0.222222</td>\n",
              "      <td>0.0</td>\n",
              "      <td>0.001318</td>\n",
              "      <td>0.000000</td>\n",
              "      <td>0.000000</td>\n",
              "      <td>0.001242</td>\n",
              "      <td>0.500000</td>\n",
              "      <td>7</td>\n",
              "      <td>0</td>\n",
              "    </tr>\n",
              "    <tr>\n",
              "      <th>5</th>\n",
              "      <td>8</td>\n",
              "      <td>900</td>\n",
              "      <td>i***e</td>\n",
              "      <td>0.038462</td>\n",
              "      <td>0.111111</td>\n",
              "      <td>0.0</td>\n",
              "      <td>0.016844</td>\n",
              "      <td>0.000000</td>\n",
              "      <td>0.000000</td>\n",
              "      <td>0.016844</td>\n",
              "      <td>0.800000</td>\n",
              "      <td>7</td>\n",
              "      <td>0</td>\n",
              "    </tr>\n",
              "    <tr>\n",
              "      <th>6</th>\n",
              "      <td>10</td>\n",
              "      <td>900</td>\n",
              "      <td>m***p</td>\n",
              "      <td>0.400000</td>\n",
              "      <td>0.222222</td>\n",
              "      <td>0.0</td>\n",
              "      <td>0.006781</td>\n",
              "      <td>0.000000</td>\n",
              "      <td>0.000000</td>\n",
              "      <td>0.006774</td>\n",
              "      <td>0.750000</td>\n",
              "      <td>7</td>\n",
              "      <td>0</td>\n",
              "    </tr>\n",
              "    <tr>\n",
              "      <th>7</th>\n",
              "      <td>12</td>\n",
              "      <td>900</td>\n",
              "      <td>k***a</td>\n",
              "      <td>0.137931</td>\n",
              "      <td>0.444444</td>\n",
              "      <td>1.0</td>\n",
              "      <td>0.768044</td>\n",
              "      <td>0.000000</td>\n",
              "      <td>0.000000</td>\n",
              "      <td>0.016311</td>\n",
              "      <td>1.000000</td>\n",
              "      <td>7</td>\n",
              "      <td>1</td>\n",
              "    </tr>\n",
              "    <tr>\n",
              "      <th>8</th>\n",
              "      <td>13</td>\n",
              "      <td>2370</td>\n",
              "      <td>g***r</td>\n",
              "      <td>0.121951</td>\n",
              "      <td>0.185185</td>\n",
              "      <td>1.0</td>\n",
              "      <td>0.035021</td>\n",
              "      <td>0.333333</td>\n",
              "      <td>0.993528</td>\n",
              "      <td>0.023963</td>\n",
              "      <td>0.944444</td>\n",
              "      <td>7</td>\n",
              "      <td>1</td>\n",
              "    </tr>\n",
              "    <tr>\n",
              "      <th>9</th>\n",
              "      <td>27</td>\n",
              "      <td>600</td>\n",
              "      <td>e***t</td>\n",
              "      <td>0.155172</td>\n",
              "      <td>0.346154</td>\n",
              "      <td>0.5</td>\n",
              "      <td>0.570994</td>\n",
              "      <td>0.307692</td>\n",
              "      <td>0.993593</td>\n",
              "      <td>0.413788</td>\n",
              "      <td>0.611111</td>\n",
              "      <td>7</td>\n",
              "      <td>1</td>\n",
              "    </tr>\n",
              "  </tbody>\n",
              "</table>\n",
              "</div>"
            ],
            "text/plain": [
              "   Record_ID  Auction_ID Bidder_ID  ...  Winning_Ratio  Auction_Duration  Class\n",
              "0          1         732     _***i  ...       0.666667                 5      0\n",
              "1          2         732     g***r  ...       0.944444                 5      0\n",
              "2          3         732     t***p  ...       1.000000                 5      0\n",
              "3          4         732     7***n  ...       1.000000                 5      0\n",
              "4          5         900     z***z  ...       0.500000                 7      0\n",
              "5          8         900     i***e  ...       0.800000                 7      0\n",
              "6         10         900     m***p  ...       0.750000                 7      0\n",
              "7         12         900     k***a  ...       1.000000                 7      1\n",
              "8         13        2370     g***r  ...       0.944444                 7      1\n",
              "9         27         600     e***t  ...       0.611111                 7      1\n",
              "\n",
              "[10 rows x 13 columns]"
            ]
          },
          "metadata": {
            "tags": []
          },
          "execution_count": 11
        }
      ]
    },
    {
      "cell_type": "code",
      "metadata": {
        "id": "LhS_aQ2qSnL5",
        "outputId": "6bd9b745-894d-4049-d934-908f53901db0",
        "colab": {
          "base_uri": "https://localhost:8080/",
          "height": 34
        }
      },
      "source": [
        "data.shape"
      ],
      "execution_count": 12,
      "outputs": [
        {
          "output_type": "execute_result",
          "data": {
            "text/plain": [
              "(6321, 13)"
            ]
          },
          "metadata": {
            "tags": []
          },
          "execution_count": 12
        }
      ]
    },
    {
      "cell_type": "code",
      "metadata": {
        "id": "PSQQQhByQWe9",
        "outputId": "6b540039-0154-4736-fb5a-4633431823e8",
        "colab": {
          "base_uri": "https://localhost:8080/",
          "height": 34
        }
      },
      "source": [
        "df=data.iloc[:,3:]\n",
        "type(df)"
      ],
      "execution_count": 13,
      "outputs": [
        {
          "output_type": "execute_result",
          "data": {
            "text/plain": [
              "pandas.core.frame.DataFrame"
            ]
          },
          "metadata": {
            "tags": []
          },
          "execution_count": 13
        }
      ]
    },
    {
      "cell_type": "code",
      "metadata": {
        "id": "KEOsk-v1Sqz-",
        "outputId": "b5de708c-f6b0-4215-a180-a0a773637280",
        "colab": {
          "base_uri": "https://localhost:8080/",
          "height": 34
        }
      },
      "source": [
        "df.shape"
      ],
      "execution_count": 14,
      "outputs": [
        {
          "output_type": "execute_result",
          "data": {
            "text/plain": [
              "(6321, 10)"
            ]
          },
          "metadata": {
            "tags": []
          },
          "execution_count": 14
        }
      ]
    },
    {
      "cell_type": "code",
      "metadata": {
        "id": "F4-tkClGRnLC",
        "outputId": "5c24f5c6-4a4b-4972-938e-1d628300c4b0",
        "colab": {
          "base_uri": "https://localhost:8080/",
          "height": 379
        }
      },
      "source": [
        "df.head(10)"
      ],
      "execution_count": 15,
      "outputs": [
        {
          "output_type": "execute_result",
          "data": {
            "text/html": [
              "<div>\n",
              "<style scoped>\n",
              "    .dataframe tbody tr th:only-of-type {\n",
              "        vertical-align: middle;\n",
              "    }\n",
              "\n",
              "    .dataframe tbody tr th {\n",
              "        vertical-align: top;\n",
              "    }\n",
              "\n",
              "    .dataframe thead th {\n",
              "        text-align: right;\n",
              "    }\n",
              "</style>\n",
              "<table border=\"1\" class=\"dataframe\">\n",
              "  <thead>\n",
              "    <tr style=\"text-align: right;\">\n",
              "      <th></th>\n",
              "      <th>Bidder_Tendency</th>\n",
              "      <th>Bidding_Ratio</th>\n",
              "      <th>Successive_Outbidding</th>\n",
              "      <th>Last_Bidding</th>\n",
              "      <th>Auction_Bids</th>\n",
              "      <th>Starting_Price_Average</th>\n",
              "      <th>Early_Bidding</th>\n",
              "      <th>Winning_Ratio</th>\n",
              "      <th>Auction_Duration</th>\n",
              "      <th>Class</th>\n",
              "    </tr>\n",
              "  </thead>\n",
              "  <tbody>\n",
              "    <tr>\n",
              "      <th>0</th>\n",
              "      <td>0.200000</td>\n",
              "      <td>0.400000</td>\n",
              "      <td>0.0</td>\n",
              "      <td>0.000028</td>\n",
              "      <td>0.000000</td>\n",
              "      <td>0.993593</td>\n",
              "      <td>0.000028</td>\n",
              "      <td>0.666667</td>\n",
              "      <td>5</td>\n",
              "      <td>0</td>\n",
              "    </tr>\n",
              "    <tr>\n",
              "      <th>1</th>\n",
              "      <td>0.024390</td>\n",
              "      <td>0.200000</td>\n",
              "      <td>0.0</td>\n",
              "      <td>0.013123</td>\n",
              "      <td>0.000000</td>\n",
              "      <td>0.993593</td>\n",
              "      <td>0.013123</td>\n",
              "      <td>0.944444</td>\n",
              "      <td>5</td>\n",
              "      <td>0</td>\n",
              "    </tr>\n",
              "    <tr>\n",
              "      <th>2</th>\n",
              "      <td>0.142857</td>\n",
              "      <td>0.200000</td>\n",
              "      <td>0.0</td>\n",
              "      <td>0.003042</td>\n",
              "      <td>0.000000</td>\n",
              "      <td>0.993593</td>\n",
              "      <td>0.003042</td>\n",
              "      <td>1.000000</td>\n",
              "      <td>5</td>\n",
              "      <td>0</td>\n",
              "    </tr>\n",
              "    <tr>\n",
              "      <th>3</th>\n",
              "      <td>0.100000</td>\n",
              "      <td>0.200000</td>\n",
              "      <td>0.0</td>\n",
              "      <td>0.097477</td>\n",
              "      <td>0.000000</td>\n",
              "      <td>0.993593</td>\n",
              "      <td>0.097477</td>\n",
              "      <td>1.000000</td>\n",
              "      <td>5</td>\n",
              "      <td>0</td>\n",
              "    </tr>\n",
              "    <tr>\n",
              "      <th>4</th>\n",
              "      <td>0.051282</td>\n",
              "      <td>0.222222</td>\n",
              "      <td>0.0</td>\n",
              "      <td>0.001318</td>\n",
              "      <td>0.000000</td>\n",
              "      <td>0.000000</td>\n",
              "      <td>0.001242</td>\n",
              "      <td>0.500000</td>\n",
              "      <td>7</td>\n",
              "      <td>0</td>\n",
              "    </tr>\n",
              "    <tr>\n",
              "      <th>5</th>\n",
              "      <td>0.038462</td>\n",
              "      <td>0.111111</td>\n",
              "      <td>0.0</td>\n",
              "      <td>0.016844</td>\n",
              "      <td>0.000000</td>\n",
              "      <td>0.000000</td>\n",
              "      <td>0.016844</td>\n",
              "      <td>0.800000</td>\n",
              "      <td>7</td>\n",
              "      <td>0</td>\n",
              "    </tr>\n",
              "    <tr>\n",
              "      <th>6</th>\n",
              "      <td>0.400000</td>\n",
              "      <td>0.222222</td>\n",
              "      <td>0.0</td>\n",
              "      <td>0.006781</td>\n",
              "      <td>0.000000</td>\n",
              "      <td>0.000000</td>\n",
              "      <td>0.006774</td>\n",
              "      <td>0.750000</td>\n",
              "      <td>7</td>\n",
              "      <td>0</td>\n",
              "    </tr>\n",
              "    <tr>\n",
              "      <th>7</th>\n",
              "      <td>0.137931</td>\n",
              "      <td>0.444444</td>\n",
              "      <td>1.0</td>\n",
              "      <td>0.768044</td>\n",
              "      <td>0.000000</td>\n",
              "      <td>0.000000</td>\n",
              "      <td>0.016311</td>\n",
              "      <td>1.000000</td>\n",
              "      <td>7</td>\n",
              "      <td>1</td>\n",
              "    </tr>\n",
              "    <tr>\n",
              "      <th>8</th>\n",
              "      <td>0.121951</td>\n",
              "      <td>0.185185</td>\n",
              "      <td>1.0</td>\n",
              "      <td>0.035021</td>\n",
              "      <td>0.333333</td>\n",
              "      <td>0.993528</td>\n",
              "      <td>0.023963</td>\n",
              "      <td>0.944444</td>\n",
              "      <td>7</td>\n",
              "      <td>1</td>\n",
              "    </tr>\n",
              "    <tr>\n",
              "      <th>9</th>\n",
              "      <td>0.155172</td>\n",
              "      <td>0.346154</td>\n",
              "      <td>0.5</td>\n",
              "      <td>0.570994</td>\n",
              "      <td>0.307692</td>\n",
              "      <td>0.993593</td>\n",
              "      <td>0.413788</td>\n",
              "      <td>0.611111</td>\n",
              "      <td>7</td>\n",
              "      <td>1</td>\n",
              "    </tr>\n",
              "  </tbody>\n",
              "</table>\n",
              "</div>"
            ],
            "text/plain": [
              "   Bidder_Tendency  Bidding_Ratio  ...  Auction_Duration  Class\n",
              "0         0.200000       0.400000  ...                 5      0\n",
              "1         0.024390       0.200000  ...                 5      0\n",
              "2         0.142857       0.200000  ...                 5      0\n",
              "3         0.100000       0.200000  ...                 5      0\n",
              "4         0.051282       0.222222  ...                 7      0\n",
              "5         0.038462       0.111111  ...                 7      0\n",
              "6         0.400000       0.222222  ...                 7      0\n",
              "7         0.137931       0.444444  ...                 7      1\n",
              "8         0.121951       0.185185  ...                 7      1\n",
              "9         0.155172       0.346154  ...                 7      1\n",
              "\n",
              "[10 rows x 10 columns]"
            ]
          },
          "metadata": {
            "tags": []
          },
          "execution_count": 15
        }
      ]
    },
    {
      "cell_type": "code",
      "metadata": {
        "id": "kkrII5t8Qi4-"
      },
      "source": [
        "# Data is preprocessed\n",
        "# As there is a classification issue addressed, outliers are not present.\n",
        "# There is no missing values and all rows contain polished data.\n",
        "# 'Record_ID','Auction_ID','Bidder_ID' are non-influential in determing the desired classification.so they are omitted."
      ],
      "execution_count": 16,
      "outputs": []
    },
    {
      "cell_type": "markdown",
      "metadata": {
        "id": "D6exmly6S2lm"
      },
      "source": [
        "MODEL CREATION AND TRAINING"
      ]
    },
    {
      "cell_type": "code",
      "metadata": {
        "id": "-f0TshdkS9B0"
      },
      "source": [
        "import tensorflow as tf\n",
        "import keras\n",
        "from keras.callbacks import *"
      ],
      "execution_count": 17,
      "outputs": []
    },
    {
      "cell_type": "code",
      "metadata": {
        "id": "fvG4057AY5U3",
        "outputId": "da148c0c-f545-4368-dde6-6687cf516678",
        "colab": {
          "base_uri": "https://localhost:8080/",
          "height": 51
        }
      },
      "source": [
        "features=df.iloc[:,:9]\n",
        "labels=df.iloc[:,-1]\n",
        "\n",
        "print(features.shape)\n",
        "print(labels.shape)"
      ],
      "execution_count": 18,
      "outputs": [
        {
          "output_type": "stream",
          "text": [
            "(6321, 9)\n",
            "(6321,)\n"
          ],
          "name": "stdout"
        }
      ]
    },
    {
      "cell_type": "code",
      "metadata": {
        "id": "e2zxK0ICThPd"
      },
      "source": [
        "from sklearn.model_selection import train_test_split\n",
        "\n",
        "x_train_full,x_test,y_train_full,y_test=train_test_split(features,labels,random_state=9)\n",
        "x_train,x_valid,y_train,y_valid=train_test_split(x_train_full,y_train_full,random_state=9)"
      ],
      "execution_count": 19,
      "outputs": []
    },
    {
      "cell_type": "code",
      "metadata": {
        "id": "WG6HuLR-awvn",
        "outputId": "9f2f20b4-79ee-4696-ca35-d5d2e090d3af",
        "colab": {
          "base_uri": "https://localhost:8080/",
          "height": 34
        }
      },
      "source": [
        "x_train.shape"
      ],
      "execution_count": 20,
      "outputs": [
        {
          "output_type": "execute_result",
          "data": {
            "text/plain": [
              "(3555, 9)"
            ]
          },
          "metadata": {
            "tags": []
          },
          "execution_count": 20
        }
      ]
    },
    {
      "cell_type": "code",
      "metadata": {
        "id": "0G5IIMJEa_Na",
        "outputId": "59836e51-0c8e-45cb-a2a9-cb1546d4c387",
        "colab": {
          "base_uri": "https://localhost:8080/",
          "height": 34
        }
      },
      "source": [
        "y_train.shape"
      ],
      "execution_count": 21,
      "outputs": [
        {
          "output_type": "execute_result",
          "data": {
            "text/plain": [
              "(3555,)"
            ]
          },
          "metadata": {
            "tags": []
          },
          "execution_count": 21
        }
      ]
    },
    {
      "cell_type": "code",
      "metadata": {
        "id": "TLbwCDw3bE4S",
        "outputId": "781bfba7-0c86-4571-bf57-a3675922e669",
        "colab": {
          "base_uri": "https://localhost:8080/",
          "height": 34
        }
      },
      "source": [
        "x_test.shape"
      ],
      "execution_count": 22,
      "outputs": [
        {
          "output_type": "execute_result",
          "data": {
            "text/plain": [
              "(1581, 9)"
            ]
          },
          "metadata": {
            "tags": []
          },
          "execution_count": 22
        }
      ]
    },
    {
      "cell_type": "code",
      "metadata": {
        "id": "JAXzp9DgbHTS",
        "outputId": "c3955ea4-b1ef-479b-de04-abee340f043a",
        "colab": {
          "base_uri": "https://localhost:8080/",
          "height": 34
        }
      },
      "source": [
        "y_test.shape"
      ],
      "execution_count": 23,
      "outputs": [
        {
          "output_type": "execute_result",
          "data": {
            "text/plain": [
              "(1581,)"
            ]
          },
          "metadata": {
            "tags": []
          },
          "execution_count": 23
        }
      ]
    },
    {
      "cell_type": "code",
      "metadata": {
        "id": "ZQ8rQ6YBbK81",
        "outputId": "6c376b7d-6128-46c7-9e6d-1bc79c4ff31b",
        "colab": {
          "base_uri": "https://localhost:8080/",
          "height": 34
        }
      },
      "source": [
        "x_valid.shape"
      ],
      "execution_count": 24,
      "outputs": [
        {
          "output_type": "execute_result",
          "data": {
            "text/plain": [
              "(1185, 9)"
            ]
          },
          "metadata": {
            "tags": []
          },
          "execution_count": 24
        }
      ]
    },
    {
      "cell_type": "code",
      "metadata": {
        "id": "WCAws7iLbPiz",
        "outputId": "c75cb473-c849-4bdc-ef70-1f292389f1eb",
        "colab": {
          "base_uri": "https://localhost:8080/",
          "height": 34
        }
      },
      "source": [
        "y_valid.shape"
      ],
      "execution_count": 25,
      "outputs": [
        {
          "output_type": "execute_result",
          "data": {
            "text/plain": [
              "(1185,)"
            ]
          },
          "metadata": {
            "tags": []
          },
          "execution_count": 25
        }
      ]
    },
    {
      "cell_type": "code",
      "metadata": {
        "id": "3KmZqtebbQvq"
      },
      "source": [
        "# there is consistent division of the dataset into the training testing and validation biparts\n",
        "# 3555+1581+1185=6321"
      ],
      "execution_count": 26,
      "outputs": []
    },
    {
      "cell_type": "code",
      "metadata": {
        "id": "RsWEHp7HcFhn"
      },
      "source": [
        "np.random.seed(42)\n",
        "tf.random.set_seed(42)"
      ],
      "execution_count": 27,
      "outputs": []
    },
    {
      "cell_type": "markdown",
      "metadata": {
        "id": "yk_YlzxEcog_"
      },
      "source": [
        "**SEQUENTIAL MODEL**"
      ]
    },
    {
      "cell_type": "code",
      "metadata": {
        "id": "4c9C4ItXckq-"
      },
      "source": [
        "model=keras.models.Sequential([\n",
        "                               keras.layers.Dense(60,kernel_initializer='uniform',activation='relu',input_shape=[9]),\n",
        "                               keras.layers.Dense(60,kernel_initializer='uniform',activation='relu'),\n",
        "                               keras.layers.Dense(1,activation='sigmoid')\n",
        "])"
      ],
      "execution_count": 122,
      "outputs": []
    },
    {
      "cell_type": "code",
      "metadata": {
        "id": "iWA4djZhdJTw",
        "outputId": "e0db0938-5cdf-4632-f8f8-02ae3b2717c0",
        "colab": {
          "base_uri": "https://localhost:8080/",
          "height": 255
        }
      },
      "source": [
        "model.summary()"
      ],
      "execution_count": 123,
      "outputs": [
        {
          "output_type": "stream",
          "text": [
            "Model: \"sequential\"\n",
            "_________________________________________________________________\n",
            "Layer (type)                 Output Shape              Param #   \n",
            "=================================================================\n",
            "dense (Dense)                (None, 60)                600       \n",
            "_________________________________________________________________\n",
            "dense_1 (Dense)              (None, 60)                3660      \n",
            "_________________________________________________________________\n",
            "dense_2 (Dense)              (None, 1)                 61        \n",
            "=================================================================\n",
            "Total params: 4,321\n",
            "Trainable params: 4,321\n",
            "Non-trainable params: 0\n",
            "_________________________________________________________________\n"
          ],
          "name": "stdout"
        }
      ]
    },
    {
      "cell_type": "code",
      "metadata": {
        "id": "QQ3zZgdndYP8"
      },
      "source": [
        "model.compile(optimizer='adam',\n",
        "              loss='mean_squared_error',\n",
        "              metrics=['accuracy'])"
      ],
      "execution_count": 124,
      "outputs": []
    },
    {
      "cell_type": "code",
      "metadata": {
        "id": "WNfwqi0epAsz"
      },
      "source": [
        "checkpoint=keras.callbacks.ModelCheckpoint('best-Model.h5',save_best_only=True)\n",
        "early=keras.callbacks.EarlyStopping(patience=20,restore_best_weights=True)"
      ],
      "execution_count": 125,
      "outputs": []
    },
    {
      "cell_type": "code",
      "metadata": {
        "id": "u_FrFJsojeK-",
        "outputId": "525932dc-7d36-4b2e-d205-0f1fafe04bb0",
        "colab": {
          "base_uri": "https://localhost:8080/",
          "height": 1000
        }
      },
      "source": [
        "model.fit(x_train,y_train,epochs=200,batch_size=10,validation_data=(x_valid,y_valid),callbacks=[checkpoint,early])"
      ],
      "execution_count": 126,
      "outputs": [
        {
          "output_type": "stream",
          "text": [
            "Epoch 1/200\n",
            "356/356 [==============================] - 1s 3ms/step - loss: 0.0645 - accuracy: 0.9367 - val_loss: 0.0164 - val_accuracy: 0.9688\n",
            "Epoch 2/200\n",
            "356/356 [==============================] - 1s 3ms/step - loss: 0.0166 - accuracy: 0.9783 - val_loss: 0.0149 - val_accuracy: 0.9806\n",
            "Epoch 3/200\n",
            "356/356 [==============================] - 1s 3ms/step - loss: 0.0164 - accuracy: 0.9747 - val_loss: 0.0136 - val_accuracy: 0.9789\n",
            "Epoch 4/200\n",
            "356/356 [==============================] - 1s 3ms/step - loss: 0.0143 - accuracy: 0.9778 - val_loss: 0.0170 - val_accuracy: 0.9747\n",
            "Epoch 5/200\n",
            "356/356 [==============================] - 1s 2ms/step - loss: 0.0144 - accuracy: 0.9786 - val_loss: 0.0152 - val_accuracy: 0.9747\n",
            "Epoch 6/200\n",
            "356/356 [==============================] - 1s 3ms/step - loss: 0.0131 - accuracy: 0.9814 - val_loss: 0.0147 - val_accuracy: 0.9772\n",
            "Epoch 7/200\n",
            "356/356 [==============================] - 1s 2ms/step - loss: 0.0122 - accuracy: 0.9820 - val_loss: 0.0158 - val_accuracy: 0.9781\n",
            "Epoch 8/200\n",
            "356/356 [==============================] - 1s 3ms/step - loss: 0.0115 - accuracy: 0.9828 - val_loss: 0.0142 - val_accuracy: 0.9781\n",
            "Epoch 9/200\n",
            "356/356 [==============================] - 1s 3ms/step - loss: 0.0098 - accuracy: 0.9868 - val_loss: 0.0128 - val_accuracy: 0.9806\n",
            "Epoch 10/200\n",
            "356/356 [==============================] - 1s 3ms/step - loss: 0.0087 - accuracy: 0.9879 - val_loss: 0.0114 - val_accuracy: 0.9848\n",
            "Epoch 11/200\n",
            "356/356 [==============================] - 1s 3ms/step - loss: 0.0070 - accuracy: 0.9918 - val_loss: 0.0104 - val_accuracy: 0.9865\n",
            "Epoch 12/200\n",
            "356/356 [==============================] - 1s 3ms/step - loss: 0.0061 - accuracy: 0.9941 - val_loss: 0.0098 - val_accuracy: 0.9882\n",
            "Epoch 13/200\n",
            "356/356 [==============================] - 1s 3ms/step - loss: 0.0055 - accuracy: 0.9941 - val_loss: 0.0082 - val_accuracy: 0.9916\n",
            "Epoch 14/200\n",
            "356/356 [==============================] - 1s 3ms/step - loss: 0.0039 - accuracy: 0.9963 - val_loss: 0.0082 - val_accuracy: 0.9907\n",
            "Epoch 15/200\n",
            "356/356 [==============================] - 1s 3ms/step - loss: 0.0038 - accuracy: 0.9961 - val_loss: 0.0079 - val_accuracy: 0.9916\n",
            "Epoch 16/200\n",
            "356/356 [==============================] - 1s 3ms/step - loss: 0.0035 - accuracy: 0.9972 - val_loss: 0.0083 - val_accuracy: 0.9899\n",
            "Epoch 17/200\n",
            "356/356 [==============================] - 1s 3ms/step - loss: 0.0033 - accuracy: 0.9963 - val_loss: 0.0081 - val_accuracy: 0.9916\n",
            "Epoch 18/200\n",
            "356/356 [==============================] - 1s 3ms/step - loss: 0.0034 - accuracy: 0.9958 - val_loss: 0.0062 - val_accuracy: 0.9932\n",
            "Epoch 19/200\n",
            "356/356 [==============================] - 1s 3ms/step - loss: 0.0027 - accuracy: 0.9972 - val_loss: 0.0069 - val_accuracy: 0.9924\n",
            "Epoch 20/200\n",
            "356/356 [==============================] - 1s 3ms/step - loss: 0.0027 - accuracy: 0.9972 - val_loss: 0.0059 - val_accuracy: 0.9932\n",
            "Epoch 21/200\n",
            "356/356 [==============================] - 1s 3ms/step - loss: 0.0024 - accuracy: 0.9977 - val_loss: 0.0069 - val_accuracy: 0.9932\n",
            "Epoch 22/200\n",
            "356/356 [==============================] - 1s 3ms/step - loss: 0.0027 - accuracy: 0.9972 - val_loss: 0.0065 - val_accuracy: 0.9932\n",
            "Epoch 23/200\n",
            "356/356 [==============================] - 1s 3ms/step - loss: 0.0024 - accuracy: 0.9977 - val_loss: 0.0062 - val_accuracy: 0.9932\n",
            "Epoch 24/200\n",
            "356/356 [==============================] - 1s 3ms/step - loss: 0.0024 - accuracy: 0.9969 - val_loss: 0.0065 - val_accuracy: 0.9932\n",
            "Epoch 25/200\n",
            "356/356 [==============================] - 1s 3ms/step - loss: 0.0024 - accuracy: 0.9975 - val_loss: 0.0059 - val_accuracy: 0.9932\n",
            "Epoch 26/200\n",
            "356/356 [==============================] - 1s 3ms/step - loss: 0.0018 - accuracy: 0.9983 - val_loss: 0.0061 - val_accuracy: 0.9932\n",
            "Epoch 27/200\n",
            "356/356 [==============================] - 1s 2ms/step - loss: 0.0025 - accuracy: 0.9969 - val_loss: 0.0081 - val_accuracy: 0.9907\n",
            "Epoch 28/200\n",
            "356/356 [==============================] - 1s 3ms/step - loss: 0.0024 - accuracy: 0.9975 - val_loss: 0.0065 - val_accuracy: 0.9932\n",
            "Epoch 29/200\n",
            "356/356 [==============================] - 1s 3ms/step - loss: 0.0019 - accuracy: 0.9983 - val_loss: 0.0064 - val_accuracy: 0.9932\n",
            "Epoch 30/200\n",
            "356/356 [==============================] - 1s 3ms/step - loss: 0.0021 - accuracy: 0.9977 - val_loss: 0.0059 - val_accuracy: 0.9924\n",
            "Epoch 31/200\n",
            "356/356 [==============================] - 1s 3ms/step - loss: 0.0019 - accuracy: 0.9983 - val_loss: 0.0063 - val_accuracy: 0.9924\n",
            "Epoch 32/200\n",
            "356/356 [==============================] - 1s 3ms/step - loss: 0.0020 - accuracy: 0.9977 - val_loss: 0.0067 - val_accuracy: 0.9924\n",
            "Epoch 33/200\n",
            "356/356 [==============================] - 1s 3ms/step - loss: 0.0017 - accuracy: 0.9983 - val_loss: 0.0071 - val_accuracy: 0.9924\n",
            "Epoch 34/200\n",
            "356/356 [==============================] - 1s 3ms/step - loss: 0.0022 - accuracy: 0.9975 - val_loss: 0.0092 - val_accuracy: 0.9882\n",
            "Epoch 35/200\n",
            "356/356 [==============================] - 1s 3ms/step - loss: 0.0020 - accuracy: 0.9983 - val_loss: 0.0067 - val_accuracy: 0.9932\n",
            "Epoch 36/200\n",
            "356/356 [==============================] - 1s 3ms/step - loss: 0.0017 - accuracy: 0.9983 - val_loss: 0.0066 - val_accuracy: 0.9932\n",
            "Epoch 37/200\n",
            "356/356 [==============================] - 1s 2ms/step - loss: 0.0024 - accuracy: 0.9972 - val_loss: 0.0069 - val_accuracy: 0.9932\n",
            "Epoch 38/200\n",
            "356/356 [==============================] - 1s 2ms/step - loss: 0.0023 - accuracy: 0.9969 - val_loss: 0.0066 - val_accuracy: 0.9932\n",
            "Epoch 39/200\n",
            "356/356 [==============================] - 1s 3ms/step - loss: 0.0018 - accuracy: 0.9983 - val_loss: 0.0066 - val_accuracy: 0.9924\n",
            "Epoch 40/200\n",
            "356/356 [==============================] - 1s 3ms/step - loss: 0.0026 - accuracy: 0.9963 - val_loss: 0.0111 - val_accuracy: 0.9873\n"
          ],
          "name": "stdout"
        },
        {
          "output_type": "execute_result",
          "data": {
            "text/plain": [
              "<tensorflow.python.keras.callbacks.History at 0x7fbb9583d400>"
            ]
          },
          "metadata": {
            "tags": []
          },
          "execution_count": 126
        }
      ]
    },
    {
      "cell_type": "code",
      "metadata": {
        "id": "hemGuemvpnzf"
      },
      "source": [
        "trial=keras.models.load_model('best-Model.h5')"
      ],
      "execution_count": 127,
      "outputs": []
    },
    {
      "cell_type": "code",
      "metadata": {
        "id": "GqFIpEtXpoNh",
        "outputId": "259e759f-cc8a-40db-fc07-d05ce425e1d6",
        "colab": {
          "base_uri": "https://localhost:8080/",
          "height": 34
        }
      },
      "source": [
        "test=model.evaluate(x_test,y_test)"
      ],
      "execution_count": 128,
      "outputs": [
        {
          "output_type": "stream",
          "text": [
            "50/50 [==============================] - 0s 2ms/step - loss: 0.0039 - accuracy: 0.9956\n"
          ],
          "name": "stdout"
        }
      ]
    },
    {
      "cell_type": "code",
      "metadata": {
        "id": "1U9UdldRjtQv"
      },
      "source": [
        "keras.backend.clear_session()"
      ],
      "execution_count": 129,
      "outputs": []
    },
    {
      "cell_type": "code",
      "metadata": {
        "id": "HMPaY8vJvGMt"
      },
      "source": [
        "del model"
      ],
      "execution_count": 130,
      "outputs": []
    },
    {
      "cell_type": "markdown",
      "metadata": {
        "id": "_lQAfToYs5nB"
      },
      "source": [
        "FUNCTIONAL MODEL"
      ]
    },
    {
      "cell_type": "code",
      "metadata": {
        "id": "H4i9EzI6qcjS"
      },
      "source": [
        "input1=keras.layers.Input(shape=x_train.shape[1:])\n",
        "hidden1=keras.layers.Dense(60,kernel_initializer='uniform',activation='relu')(input1)\n",
        "hidden2=keras.layers.Dense(60,kernel_initializer='uniform',activation='relu')(hidden1)\n",
        "concat=keras.layers.concatenate([input1,hidden2])\n",
        "output=keras.layers.Dense(1,activation='sigmoid')(concat)\n",
        "model=keras.models.Model(inputs=[input1],outputs=[output])"
      ],
      "execution_count": 143,
      "outputs": []
    },
    {
      "cell_type": "code",
      "metadata": {
        "id": "AMvgLRHqt4xN",
        "outputId": "30ad6cb6-359d-4acf-b692-cef3e478e262",
        "colab": {
          "base_uri": "https://localhost:8080/",
          "height": 340
        }
      },
      "source": [
        "model.summary()"
      ],
      "execution_count": 144,
      "outputs": [
        {
          "output_type": "stream",
          "text": [
            "Model: \"functional_1\"\n",
            "__________________________________________________________________________________________________\n",
            "Layer (type)                    Output Shape         Param #     Connected to                     \n",
            "==================================================================================================\n",
            "input_1 (InputLayer)            [(None, 9)]          0                                            \n",
            "__________________________________________________________________________________________________\n",
            "dense (Dense)                   (None, 60)           600         input_1[0][0]                    \n",
            "__________________________________________________________________________________________________\n",
            "dense_1 (Dense)                 (None, 60)           3660        dense[0][0]                      \n",
            "__________________________________________________________________________________________________\n",
            "concatenate (Concatenate)       (None, 69)           0           input_1[0][0]                    \n",
            "                                                                 dense_1[0][0]                    \n",
            "__________________________________________________________________________________________________\n",
            "dense_2 (Dense)                 (None, 1)            70          concatenate[0][0]                \n",
            "==================================================================================================\n",
            "Total params: 4,330\n",
            "Trainable params: 4,330\n",
            "Non-trainable params: 0\n",
            "__________________________________________________________________________________________________\n"
          ],
          "name": "stdout"
        }
      ]
    },
    {
      "cell_type": "code",
      "metadata": {
        "id": "iMQ0VqcFt7bX"
      },
      "source": [
        "model.compile(loss='mean_squared_error',\n",
        "              optimizer='adam',\n",
        "              metrics=['accuracy'])"
      ],
      "execution_count": 145,
      "outputs": []
    },
    {
      "cell_type": "code",
      "metadata": {
        "id": "XzVvKCx6uOz1"
      },
      "source": [
        "checkpoint=keras.callbacks.ModelCheckpoint('best-Model.h5',save_best_only=True)\n",
        "early=keras.callbacks.EarlyStopping(patience=20,restore_best_weights=True)"
      ],
      "execution_count": 146,
      "outputs": []
    },
    {
      "cell_type": "code",
      "metadata": {
        "id": "dc6G1XOPuVWN",
        "outputId": "fb34e88d-0c70-4647-d49e-249b1a731483",
        "colab": {
          "base_uri": "https://localhost:8080/",
          "height": 1000
        }
      },
      "source": [
        "model.fit(x_train,y_train,epochs=200,batch_size=10,validation_data=(x_valid,y_valid),callbacks=[checkpoint,early])"
      ],
      "execution_count": 147,
      "outputs": [
        {
          "output_type": "stream",
          "text": [
            "Epoch 1/200\n",
            "356/356 [==============================] - 1s 3ms/step - loss: 0.0860 - accuracy: 0.8762 - val_loss: 0.0167 - val_accuracy: 0.9671\n",
            "Epoch 2/200\n",
            "356/356 [==============================] - 1s 3ms/step - loss: 0.0171 - accuracy: 0.9769 - val_loss: 0.0149 - val_accuracy: 0.9814\n",
            "Epoch 3/200\n",
            "356/356 [==============================] - 1s 3ms/step - loss: 0.0176 - accuracy: 0.9744 - val_loss: 0.0133 - val_accuracy: 0.9806\n",
            "Epoch 4/200\n",
            "356/356 [==============================] - 1s 3ms/step - loss: 0.0157 - accuracy: 0.9755 - val_loss: 0.0176 - val_accuracy: 0.9764\n",
            "Epoch 5/200\n",
            "356/356 [==============================] - 1s 3ms/step - loss: 0.0159 - accuracy: 0.9769 - val_loss: 0.0162 - val_accuracy: 0.9781\n",
            "Epoch 6/200\n",
            "356/356 [==============================] - 1s 3ms/step - loss: 0.0153 - accuracy: 0.9786 - val_loss: 0.0142 - val_accuracy: 0.9764\n",
            "Epoch 7/200\n",
            "356/356 [==============================] - 1s 3ms/step - loss: 0.0141 - accuracy: 0.9795 - val_loss: 0.0160 - val_accuracy: 0.9755\n",
            "Epoch 8/200\n",
            "356/356 [==============================] - 1s 3ms/step - loss: 0.0146 - accuracy: 0.9792 - val_loss: 0.0155 - val_accuracy: 0.9764\n",
            "Epoch 9/200\n",
            "356/356 [==============================] - 1s 3ms/step - loss: 0.0135 - accuracy: 0.9817 - val_loss: 0.0172 - val_accuracy: 0.9713\n",
            "Epoch 10/200\n",
            "356/356 [==============================] - 1s 3ms/step - loss: 0.0141 - accuracy: 0.9775 - val_loss: 0.0155 - val_accuracy: 0.9772\n",
            "Epoch 11/200\n",
            "356/356 [==============================] - 1s 3ms/step - loss: 0.0133 - accuracy: 0.9812 - val_loss: 0.0165 - val_accuracy: 0.9764\n",
            "Epoch 12/200\n",
            "356/356 [==============================] - 1s 3ms/step - loss: 0.0128 - accuracy: 0.9823 - val_loss: 0.0156 - val_accuracy: 0.9772\n",
            "Epoch 13/200\n",
            "356/356 [==============================] - 1s 3ms/step - loss: 0.0122 - accuracy: 0.9823 - val_loss: 0.0148 - val_accuracy: 0.9789\n",
            "Epoch 14/200\n",
            "356/356 [==============================] - 1s 3ms/step - loss: 0.0111 - accuracy: 0.9837 - val_loss: 0.0148 - val_accuracy: 0.9772\n",
            "Epoch 15/200\n",
            "356/356 [==============================] - 1s 3ms/step - loss: 0.0105 - accuracy: 0.9859 - val_loss: 0.0129 - val_accuracy: 0.9814\n",
            "Epoch 16/200\n",
            "356/356 [==============================] - 1s 3ms/step - loss: 0.0080 - accuracy: 0.9904 - val_loss: 0.0108 - val_accuracy: 0.9865\n",
            "Epoch 17/200\n",
            "356/356 [==============================] - 1s 3ms/step - loss: 0.0060 - accuracy: 0.9944 - val_loss: 0.0101 - val_accuracy: 0.9899\n",
            "Epoch 18/200\n",
            "356/356 [==============================] - 1s 3ms/step - loss: 0.0074 - accuracy: 0.9916 - val_loss: 0.0080 - val_accuracy: 0.9924\n",
            "Epoch 19/200\n",
            "356/356 [==============================] - 1s 3ms/step - loss: 0.0046 - accuracy: 0.9955 - val_loss: 0.0082 - val_accuracy: 0.9907\n",
            "Epoch 20/200\n",
            "356/356 [==============================] - 1s 3ms/step - loss: 0.0038 - accuracy: 0.9961 - val_loss: 0.0073 - val_accuracy: 0.9916\n",
            "Epoch 21/200\n",
            "356/356 [==============================] - 1s 3ms/step - loss: 0.0039 - accuracy: 0.9963 - val_loss: 0.0078 - val_accuracy: 0.9916\n",
            "Epoch 22/200\n",
            "356/356 [==============================] - 1s 3ms/step - loss: 0.0035 - accuracy: 0.9966 - val_loss: 0.0071 - val_accuracy: 0.9916\n",
            "Epoch 23/200\n",
            "356/356 [==============================] - 1s 3ms/step - loss: 0.0032 - accuracy: 0.9963 - val_loss: 0.0066 - val_accuracy: 0.9924\n",
            "Epoch 24/200\n",
            "356/356 [==============================] - 1s 3ms/step - loss: 0.0030 - accuracy: 0.9972 - val_loss: 0.0062 - val_accuracy: 0.9932\n",
            "Epoch 25/200\n",
            "356/356 [==============================] - 1s 3ms/step - loss: 0.0033 - accuracy: 0.9969 - val_loss: 0.0066 - val_accuracy: 0.9932\n",
            "Epoch 26/200\n",
            "356/356 [==============================] - 1s 3ms/step - loss: 0.0032 - accuracy: 0.9963 - val_loss: 0.0094 - val_accuracy: 0.9899\n",
            "Epoch 27/200\n",
            "356/356 [==============================] - 1s 3ms/step - loss: 0.0028 - accuracy: 0.9972 - val_loss: 0.0065 - val_accuracy: 0.9932\n",
            "Epoch 28/200\n",
            "356/356 [==============================] - 1s 3ms/step - loss: 0.0024 - accuracy: 0.9980 - val_loss: 0.0070 - val_accuracy: 0.9916\n",
            "Epoch 29/200\n",
            "356/356 [==============================] - 1s 3ms/step - loss: 0.0024 - accuracy: 0.9977 - val_loss: 0.0095 - val_accuracy: 0.9873\n",
            "Epoch 30/200\n",
            "356/356 [==============================] - 1s 3ms/step - loss: 0.0029 - accuracy: 0.9969 - val_loss: 0.0065 - val_accuracy: 0.9932\n",
            "Epoch 31/200\n",
            "356/356 [==============================] - 1s 3ms/step - loss: 0.0026 - accuracy: 0.9972 - val_loss: 0.0071 - val_accuracy: 0.9924\n",
            "Epoch 32/200\n",
            "356/356 [==============================] - 1s 3ms/step - loss: 0.0021 - accuracy: 0.9980 - val_loss: 0.0066 - val_accuracy: 0.9916\n",
            "Epoch 33/200\n",
            "356/356 [==============================] - 1s 3ms/step - loss: 0.0022 - accuracy: 0.9980 - val_loss: 0.0067 - val_accuracy: 0.9924\n",
            "Epoch 34/200\n",
            "356/356 [==============================] - 1s 3ms/step - loss: 0.0037 - accuracy: 0.9949 - val_loss: 0.0069 - val_accuracy: 0.9924\n",
            "Epoch 35/200\n",
            "356/356 [==============================] - 1s 3ms/step - loss: 0.0023 - accuracy: 0.9980 - val_loss: 0.0073 - val_accuracy: 0.9932\n",
            "Epoch 36/200\n",
            "356/356 [==============================] - 1s 3ms/step - loss: 0.0024 - accuracy: 0.9975 - val_loss: 0.0067 - val_accuracy: 0.9932\n",
            "Epoch 37/200\n",
            "356/356 [==============================] - 1s 3ms/step - loss: 0.0020 - accuracy: 0.9977 - val_loss: 0.0065 - val_accuracy: 0.9916\n",
            "Epoch 38/200\n",
            "356/356 [==============================] - 1s 3ms/step - loss: 0.0031 - accuracy: 0.9961 - val_loss: 0.0066 - val_accuracy: 0.9924\n",
            "Epoch 39/200\n",
            "356/356 [==============================] - 1s 3ms/step - loss: 0.0022 - accuracy: 0.9980 - val_loss: 0.0066 - val_accuracy: 0.9932\n",
            "Epoch 40/200\n",
            "356/356 [==============================] - 1s 3ms/step - loss: 0.0022 - accuracy: 0.9977 - val_loss: 0.0066 - val_accuracy: 0.9932\n",
            "Epoch 41/200\n",
            "356/356 [==============================] - 1s 2ms/step - loss: 0.0018 - accuracy: 0.9983 - val_loss: 0.0066 - val_accuracy: 0.9932\n",
            "Epoch 42/200\n",
            "356/356 [==============================] - 1s 3ms/step - loss: 0.0019 - accuracy: 0.9983 - val_loss: 0.0063 - val_accuracy: 0.9932\n",
            "Epoch 43/200\n",
            "356/356 [==============================] - 1s 3ms/step - loss: 0.0018 - accuracy: 0.9983 - val_loss: 0.0062 - val_accuracy: 0.9924\n",
            "Epoch 44/200\n",
            "356/356 [==============================] - 1s 3ms/step - loss: 0.0021 - accuracy: 0.9977 - val_loss: 0.0066 - val_accuracy: 0.9932\n"
          ],
          "name": "stdout"
        },
        {
          "output_type": "execute_result",
          "data": {
            "text/plain": [
              "<tensorflow.python.keras.callbacks.History at 0x7fbb95c94320>"
            ]
          },
          "metadata": {
            "tags": []
          },
          "execution_count": 147
        }
      ]
    },
    {
      "cell_type": "code",
      "metadata": {
        "id": "ydBFYeQjufdV"
      },
      "source": [
        "trial=keras.models.load_model('best-Model.h5')"
      ],
      "execution_count": 148,
      "outputs": []
    },
    {
      "cell_type": "code",
      "metadata": {
        "id": "X3zOSarVumn9",
        "outputId": "e4fd467d-43eb-4cc7-91fb-b866633b19ab",
        "colab": {
          "base_uri": "https://localhost:8080/",
          "height": 34
        }
      },
      "source": [
        "test=model.evaluate(x_test,y_test)"
      ],
      "execution_count": 149,
      "outputs": [
        {
          "output_type": "stream",
          "text": [
            "50/50 [==============================] - 0s 2ms/step - loss: 0.0041 - accuracy: 0.9956\n"
          ],
          "name": "stdout"
        }
      ]
    },
    {
      "cell_type": "code",
      "metadata": {
        "id": "OwzodsM9uq6V"
      },
      "source": [
        "keras.backend.clear_session()"
      ],
      "execution_count": 150,
      "outputs": []
    },
    {
      "cell_type": "code",
      "metadata": {
        "id": "vWjqh48cuzBs"
      },
      "source": [
        "del model"
      ],
      "execution_count": 151,
      "outputs": []
    },
    {
      "cell_type": "code",
      "metadata": {
        "id": "-G569k8Fu-9k"
      },
      "source": [
        ""
      ],
      "execution_count": null,
      "outputs": []
    }
  ]
}