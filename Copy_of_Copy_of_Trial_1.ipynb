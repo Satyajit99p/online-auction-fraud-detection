{
  "nbformat": 4,
  "nbformat_minor": 0,
  "metadata": {
    "colab": {
      "name": "Copy of Copy of Trial_1.ipynb",
      "provenance": [],
      "collapsed_sections": [],
      "mount_file_id": "1T4NT7VZvT1VkLvPglaWqHb8fRvIn4qeb",
      "authorship_tag": "ABX9TyMjCn4gEqwLljLgurJse/hH",
      "include_colab_link": true
    },
    "kernelspec": {
      "name": "python3",
      "display_name": "Python 3"
    },
    "accelerator": "GPU"
  },
  "cells": [
    {
      "cell_type": "markdown",
      "metadata": {
        "id": "view-in-github",
        "colab_type": "text"
      },
      "source": [
        "<a href=\"https://colab.research.google.com/github/Satyajit99p/online-auction-fraud-detection/blob/master/Copy_of_Copy_of_Trial_1.ipynb\" target=\"_parent\"><img src=\"https://colab.research.google.com/assets/colab-badge.svg\" alt=\"Open In Colab\"/></a>"
      ]
    },
    {
      "cell_type": "code",
      "metadata": {
        "id": "SL4YSaKO7uzu"
      },
      "source": [
        "from google.colab import drive"
      ],
      "execution_count": null,
      "outputs": []
    },
    {
      "cell_type": "code",
      "metadata": {
        "id": "FVc2HkgnHaDP"
      },
      "source": [
        "from google.colab import drive\n",
        "drive.mount('/content/drive')"
      ],
      "execution_count": null,
      "outputs": []
    },
    {
      "cell_type": "code",
      "metadata": {
        "id": "t2NtPDWN8LNs",
        "colab": {
          "base_uri": "https://localhost:8080/",
          "height": 34
        },
        "outputId": "aa6b87d3-b76a-4c67-8eb7-6c698fdcc756"
      },
      "source": [
        "drive.mount('/content/drive')"
      ],
      "execution_count": null,
      "outputs": [
        {
          "output_type": "stream",
          "text": [
            "Mounted at /content/drive\n"
          ],
          "name": "stdout"
        }
      ]
    },
    {
      "cell_type": "code",
      "metadata": {
        "id": "KUoW3Axh8clO",
        "colab": {
          "base_uri": "https://localhost:8080/",
          "height": 35
        },
        "outputId": "f6dc35a0-ae7b-4f34-bdb4-c6a9d3c11704"
      },
      "source": [
        "import os\n",
        "os.getcwd()"
      ],
      "execution_count": 2,
      "outputs": [
        {
          "output_type": "execute_result",
          "data": {
            "application/vnd.google.colaboratory.intrinsic+json": {
              "type": "string"
            },
            "text/plain": [
              "'/content'"
            ]
          },
          "metadata": {
            "tags": []
          },
          "execution_count": 2
        }
      ]
    },
    {
      "cell_type": "code",
      "metadata": {
        "id": "wuQfeDPL8oD1"
      },
      "source": [
        "os.chdir('/content/drive/My Drive/online auction fraud detection')"
      ],
      "execution_count": 3,
      "outputs": []
    },
    {
      "cell_type": "markdown",
      "metadata": {
        "id": "EmO15gGJOYPx"
      },
      "source": [
        "PREPROCESSING\n"
      ]
    },
    {
      "cell_type": "code",
      "metadata": {
        "id": "btf9h-hL85Y0"
      },
      "source": [
        "import pandas as pd\n",
        "import numpy as np\n",
        "import seaborn as sb"
      ],
      "execution_count": 4,
      "outputs": []
    },
    {
      "cell_type": "code",
      "metadata": {
        "id": "DPEG4Sdj9Doz"
      },
      "source": [
        "data=pd.read_csv('Online Auction_Shill Bidding Dataset.csv')"
      ],
      "execution_count": 5,
      "outputs": []
    },
    {
      "cell_type": "code",
      "metadata": {
        "id": "c3MUnIBJ9Pur",
        "colab": {
          "base_uri": "https://localhost:8080/",
          "height": 317
        },
        "outputId": "2b4d63ee-3263-4a09-fda5-9d2de514a419"
      },
      "source": [
        "data.describe()"
      ],
      "execution_count": 6,
      "outputs": [
        {
          "output_type": "execute_result",
          "data": {
            "text/html": [
              "<div>\n",
              "<style scoped>\n",
              "    .dataframe tbody tr th:only-of-type {\n",
              "        vertical-align: middle;\n",
              "    }\n",
              "\n",
              "    .dataframe tbody tr th {\n",
              "        vertical-align: top;\n",
              "    }\n",
              "\n",
              "    .dataframe thead th {\n",
              "        text-align: right;\n",
              "    }\n",
              "</style>\n",
              "<table border=\"1\" class=\"dataframe\">\n",
              "  <thead>\n",
              "    <tr style=\"text-align: right;\">\n",
              "      <th></th>\n",
              "      <th>Record_ID</th>\n",
              "      <th>Auction_ID</th>\n",
              "      <th>Bidder_Tendency</th>\n",
              "      <th>Bidding_Ratio</th>\n",
              "      <th>Successive_Outbidding</th>\n",
              "      <th>Last_Bidding</th>\n",
              "      <th>Auction_Bids</th>\n",
              "      <th>Starting_Price_Average</th>\n",
              "      <th>Early_Bidding</th>\n",
              "      <th>Winning_Ratio</th>\n",
              "      <th>Auction_Duration</th>\n",
              "      <th>Class</th>\n",
              "    </tr>\n",
              "  </thead>\n",
              "  <tbody>\n",
              "    <tr>\n",
              "      <th>count</th>\n",
              "      <td>6321.000000</td>\n",
              "      <td>6321.000000</td>\n",
              "      <td>6321.000000</td>\n",
              "      <td>6321.000000</td>\n",
              "      <td>6321.000000</td>\n",
              "      <td>6321.000000</td>\n",
              "      <td>6321.000000</td>\n",
              "      <td>6321.000000</td>\n",
              "      <td>6321.000000</td>\n",
              "      <td>6321.000000</td>\n",
              "      <td>6321.000000</td>\n",
              "      <td>6321.000000</td>\n",
              "    </tr>\n",
              "    <tr>\n",
              "      <th>mean</th>\n",
              "      <td>7535.829457</td>\n",
              "      <td>1241.388230</td>\n",
              "      <td>0.142541</td>\n",
              "      <td>0.127670</td>\n",
              "      <td>0.103781</td>\n",
              "      <td>0.463119</td>\n",
              "      <td>0.231606</td>\n",
              "      <td>0.472821</td>\n",
              "      <td>0.430683</td>\n",
              "      <td>0.367731</td>\n",
              "      <td>4.615093</td>\n",
              "      <td>0.106787</td>\n",
              "    </tr>\n",
              "    <tr>\n",
              "      <th>std</th>\n",
              "      <td>4364.759137</td>\n",
              "      <td>735.770789</td>\n",
              "      <td>0.197084</td>\n",
              "      <td>0.131530</td>\n",
              "      <td>0.279698</td>\n",
              "      <td>0.380097</td>\n",
              "      <td>0.255252</td>\n",
              "      <td>0.489912</td>\n",
              "      <td>0.380785</td>\n",
              "      <td>0.436573</td>\n",
              "      <td>2.466629</td>\n",
              "      <td>0.308867</td>\n",
              "    </tr>\n",
              "    <tr>\n",
              "      <th>min</th>\n",
              "      <td>1.000000</td>\n",
              "      <td>5.000000</td>\n",
              "      <td>0.000000</td>\n",
              "      <td>0.011765</td>\n",
              "      <td>0.000000</td>\n",
              "      <td>0.000000</td>\n",
              "      <td>0.000000</td>\n",
              "      <td>0.000000</td>\n",
              "      <td>0.000000</td>\n",
              "      <td>0.000000</td>\n",
              "      <td>1.000000</td>\n",
              "      <td>0.000000</td>\n",
              "    </tr>\n",
              "    <tr>\n",
              "      <th>25%</th>\n",
              "      <td>3778.000000</td>\n",
              "      <td>589.000000</td>\n",
              "      <td>0.027027</td>\n",
              "      <td>0.043478</td>\n",
              "      <td>0.000000</td>\n",
              "      <td>0.047928</td>\n",
              "      <td>0.000000</td>\n",
              "      <td>0.000000</td>\n",
              "      <td>0.026620</td>\n",
              "      <td>0.000000</td>\n",
              "      <td>3.000000</td>\n",
              "      <td>0.000000</td>\n",
              "    </tr>\n",
              "    <tr>\n",
              "      <th>50%</th>\n",
              "      <td>7591.000000</td>\n",
              "      <td>1246.000000</td>\n",
              "      <td>0.062500</td>\n",
              "      <td>0.083333</td>\n",
              "      <td>0.000000</td>\n",
              "      <td>0.440937</td>\n",
              "      <td>0.142857</td>\n",
              "      <td>0.000000</td>\n",
              "      <td>0.360104</td>\n",
              "      <td>0.000000</td>\n",
              "      <td>5.000000</td>\n",
              "      <td>0.000000</td>\n",
              "    </tr>\n",
              "    <tr>\n",
              "      <th>75%</th>\n",
              "      <td>11277.000000</td>\n",
              "      <td>1867.000000</td>\n",
              "      <td>0.166667</td>\n",
              "      <td>0.166667</td>\n",
              "      <td>0.000000</td>\n",
              "      <td>0.860363</td>\n",
              "      <td>0.454545</td>\n",
              "      <td>0.993593</td>\n",
              "      <td>0.826761</td>\n",
              "      <td>0.851852</td>\n",
              "      <td>7.000000</td>\n",
              "      <td>0.000000</td>\n",
              "    </tr>\n",
              "    <tr>\n",
              "      <th>max</th>\n",
              "      <td>15144.000000</td>\n",
              "      <td>2538.000000</td>\n",
              "      <td>1.000000</td>\n",
              "      <td>1.000000</td>\n",
              "      <td>1.000000</td>\n",
              "      <td>0.999900</td>\n",
              "      <td>0.788235</td>\n",
              "      <td>0.999935</td>\n",
              "      <td>0.999900</td>\n",
              "      <td>1.000000</td>\n",
              "      <td>10.000000</td>\n",
              "      <td>1.000000</td>\n",
              "    </tr>\n",
              "  </tbody>\n",
              "</table>\n",
              "</div>"
            ],
            "text/plain": [
              "          Record_ID   Auction_ID  ...  Auction_Duration        Class\n",
              "count   6321.000000  6321.000000  ...       6321.000000  6321.000000\n",
              "mean    7535.829457  1241.388230  ...          4.615093     0.106787\n",
              "std     4364.759137   735.770789  ...          2.466629     0.308867\n",
              "min        1.000000     5.000000  ...          1.000000     0.000000\n",
              "25%     3778.000000   589.000000  ...          3.000000     0.000000\n",
              "50%     7591.000000  1246.000000  ...          5.000000     0.000000\n",
              "75%    11277.000000  1867.000000  ...          7.000000     0.000000\n",
              "max    15144.000000  2538.000000  ...         10.000000     1.000000\n",
              "\n",
              "[8 rows x 12 columns]"
            ]
          },
          "metadata": {
            "tags": []
          },
          "execution_count": 6
        }
      ]
    },
    {
      "cell_type": "code",
      "metadata": {
        "id": "MUuIQbIp9SOD",
        "colab": {
          "base_uri": "https://localhost:8080/"
        },
        "outputId": "7493ca82-76b0-416d-cdaa-eb154a5231b9"
      },
      "source": [
        "data.info()"
      ],
      "execution_count": 7,
      "outputs": [
        {
          "output_type": "stream",
          "text": [
            "<class 'pandas.core.frame.DataFrame'>\n",
            "RangeIndex: 6321 entries, 0 to 6320\n",
            "Data columns (total 13 columns):\n",
            " #   Column                  Non-Null Count  Dtype  \n",
            "---  ------                  --------------  -----  \n",
            " 0   Record_ID               6321 non-null   int64  \n",
            " 1   Auction_ID              6321 non-null   int64  \n",
            " 2   Bidder_ID               6321 non-null   object \n",
            " 3   Bidder_Tendency         6321 non-null   float64\n",
            " 4   Bidding_Ratio           6321 non-null   float64\n",
            " 5   Successive_Outbidding   6321 non-null   float64\n",
            " 6   Last_Bidding            6321 non-null   float64\n",
            " 7   Auction_Bids            6321 non-null   float64\n",
            " 8   Starting_Price_Average  6321 non-null   float64\n",
            " 9   Early_Bidding           6321 non-null   float64\n",
            " 10  Winning_Ratio           6321 non-null   float64\n",
            " 11  Auction_Duration        6321 non-null   int64  \n",
            " 12  Class                   6321 non-null   int64  \n",
            "dtypes: float64(8), int64(4), object(1)\n",
            "memory usage: 642.1+ KB\n"
          ],
          "name": "stdout"
        }
      ]
    },
    {
      "cell_type": "code",
      "metadata": {
        "id": "KUyFnmsd9Vg6",
        "colab": {
          "base_uri": "https://localhost:8080/",
          "height": 379
        },
        "outputId": "5ba41628-d41a-4e69-e205-ddea64b90e1f"
      },
      "source": [
        "data.head(10)"
      ],
      "execution_count": 8,
      "outputs": [
        {
          "output_type": "execute_result",
          "data": {
            "text/html": [
              "<div>\n",
              "<style scoped>\n",
              "    .dataframe tbody tr th:only-of-type {\n",
              "        vertical-align: middle;\n",
              "    }\n",
              "\n",
              "    .dataframe tbody tr th {\n",
              "        vertical-align: top;\n",
              "    }\n",
              "\n",
              "    .dataframe thead th {\n",
              "        text-align: right;\n",
              "    }\n",
              "</style>\n",
              "<table border=\"1\" class=\"dataframe\">\n",
              "  <thead>\n",
              "    <tr style=\"text-align: right;\">\n",
              "      <th></th>\n",
              "      <th>Record_ID</th>\n",
              "      <th>Auction_ID</th>\n",
              "      <th>Bidder_ID</th>\n",
              "      <th>Bidder_Tendency</th>\n",
              "      <th>Bidding_Ratio</th>\n",
              "      <th>Successive_Outbidding</th>\n",
              "      <th>Last_Bidding</th>\n",
              "      <th>Auction_Bids</th>\n",
              "      <th>Starting_Price_Average</th>\n",
              "      <th>Early_Bidding</th>\n",
              "      <th>Winning_Ratio</th>\n",
              "      <th>Auction_Duration</th>\n",
              "      <th>Class</th>\n",
              "    </tr>\n",
              "  </thead>\n",
              "  <tbody>\n",
              "    <tr>\n",
              "      <th>0</th>\n",
              "      <td>1</td>\n",
              "      <td>732</td>\n",
              "      <td>_***i</td>\n",
              "      <td>0.200000</td>\n",
              "      <td>0.400000</td>\n",
              "      <td>0.0</td>\n",
              "      <td>0.000028</td>\n",
              "      <td>0.000000</td>\n",
              "      <td>0.993593</td>\n",
              "      <td>0.000028</td>\n",
              "      <td>0.666667</td>\n",
              "      <td>5</td>\n",
              "      <td>0</td>\n",
              "    </tr>\n",
              "    <tr>\n",
              "      <th>1</th>\n",
              "      <td>2</td>\n",
              "      <td>732</td>\n",
              "      <td>g***r</td>\n",
              "      <td>0.024390</td>\n",
              "      <td>0.200000</td>\n",
              "      <td>0.0</td>\n",
              "      <td>0.013123</td>\n",
              "      <td>0.000000</td>\n",
              "      <td>0.993593</td>\n",
              "      <td>0.013123</td>\n",
              "      <td>0.944444</td>\n",
              "      <td>5</td>\n",
              "      <td>0</td>\n",
              "    </tr>\n",
              "    <tr>\n",
              "      <th>2</th>\n",
              "      <td>3</td>\n",
              "      <td>732</td>\n",
              "      <td>t***p</td>\n",
              "      <td>0.142857</td>\n",
              "      <td>0.200000</td>\n",
              "      <td>0.0</td>\n",
              "      <td>0.003042</td>\n",
              "      <td>0.000000</td>\n",
              "      <td>0.993593</td>\n",
              "      <td>0.003042</td>\n",
              "      <td>1.000000</td>\n",
              "      <td>5</td>\n",
              "      <td>0</td>\n",
              "    </tr>\n",
              "    <tr>\n",
              "      <th>3</th>\n",
              "      <td>4</td>\n",
              "      <td>732</td>\n",
              "      <td>7***n</td>\n",
              "      <td>0.100000</td>\n",
              "      <td>0.200000</td>\n",
              "      <td>0.0</td>\n",
              "      <td>0.097477</td>\n",
              "      <td>0.000000</td>\n",
              "      <td>0.993593</td>\n",
              "      <td>0.097477</td>\n",
              "      <td>1.000000</td>\n",
              "      <td>5</td>\n",
              "      <td>0</td>\n",
              "    </tr>\n",
              "    <tr>\n",
              "      <th>4</th>\n",
              "      <td>5</td>\n",
              "      <td>900</td>\n",
              "      <td>z***z</td>\n",
              "      <td>0.051282</td>\n",
              "      <td>0.222222</td>\n",
              "      <td>0.0</td>\n",
              "      <td>0.001318</td>\n",
              "      <td>0.000000</td>\n",
              "      <td>0.000000</td>\n",
              "      <td>0.001242</td>\n",
              "      <td>0.500000</td>\n",
              "      <td>7</td>\n",
              "      <td>0</td>\n",
              "    </tr>\n",
              "    <tr>\n",
              "      <th>5</th>\n",
              "      <td>8</td>\n",
              "      <td>900</td>\n",
              "      <td>i***e</td>\n",
              "      <td>0.038462</td>\n",
              "      <td>0.111111</td>\n",
              "      <td>0.0</td>\n",
              "      <td>0.016844</td>\n",
              "      <td>0.000000</td>\n",
              "      <td>0.000000</td>\n",
              "      <td>0.016844</td>\n",
              "      <td>0.800000</td>\n",
              "      <td>7</td>\n",
              "      <td>0</td>\n",
              "    </tr>\n",
              "    <tr>\n",
              "      <th>6</th>\n",
              "      <td>10</td>\n",
              "      <td>900</td>\n",
              "      <td>m***p</td>\n",
              "      <td>0.400000</td>\n",
              "      <td>0.222222</td>\n",
              "      <td>0.0</td>\n",
              "      <td>0.006781</td>\n",
              "      <td>0.000000</td>\n",
              "      <td>0.000000</td>\n",
              "      <td>0.006774</td>\n",
              "      <td>0.750000</td>\n",
              "      <td>7</td>\n",
              "      <td>0</td>\n",
              "    </tr>\n",
              "    <tr>\n",
              "      <th>7</th>\n",
              "      <td>12</td>\n",
              "      <td>900</td>\n",
              "      <td>k***a</td>\n",
              "      <td>0.137931</td>\n",
              "      <td>0.444444</td>\n",
              "      <td>1.0</td>\n",
              "      <td>0.768044</td>\n",
              "      <td>0.000000</td>\n",
              "      <td>0.000000</td>\n",
              "      <td>0.016311</td>\n",
              "      <td>1.000000</td>\n",
              "      <td>7</td>\n",
              "      <td>1</td>\n",
              "    </tr>\n",
              "    <tr>\n",
              "      <th>8</th>\n",
              "      <td>13</td>\n",
              "      <td>2370</td>\n",
              "      <td>g***r</td>\n",
              "      <td>0.121951</td>\n",
              "      <td>0.185185</td>\n",
              "      <td>1.0</td>\n",
              "      <td>0.035021</td>\n",
              "      <td>0.333333</td>\n",
              "      <td>0.993528</td>\n",
              "      <td>0.023963</td>\n",
              "      <td>0.944444</td>\n",
              "      <td>7</td>\n",
              "      <td>1</td>\n",
              "    </tr>\n",
              "    <tr>\n",
              "      <th>9</th>\n",
              "      <td>27</td>\n",
              "      <td>600</td>\n",
              "      <td>e***t</td>\n",
              "      <td>0.155172</td>\n",
              "      <td>0.346154</td>\n",
              "      <td>0.5</td>\n",
              "      <td>0.570994</td>\n",
              "      <td>0.307692</td>\n",
              "      <td>0.993593</td>\n",
              "      <td>0.413788</td>\n",
              "      <td>0.611111</td>\n",
              "      <td>7</td>\n",
              "      <td>1</td>\n",
              "    </tr>\n",
              "  </tbody>\n",
              "</table>\n",
              "</div>"
            ],
            "text/plain": [
              "   Record_ID  Auction_ID Bidder_ID  ...  Winning_Ratio  Auction_Duration  Class\n",
              "0          1         732     _***i  ...       0.666667                 5      0\n",
              "1          2         732     g***r  ...       0.944444                 5      0\n",
              "2          3         732     t***p  ...       1.000000                 5      0\n",
              "3          4         732     7***n  ...       1.000000                 5      0\n",
              "4          5         900     z***z  ...       0.500000                 7      0\n",
              "5          8         900     i***e  ...       0.800000                 7      0\n",
              "6         10         900     m***p  ...       0.750000                 7      0\n",
              "7         12         900     k***a  ...       1.000000                 7      1\n",
              "8         13        2370     g***r  ...       0.944444                 7      1\n",
              "9         27         600     e***t  ...       0.611111                 7      1\n",
              "\n",
              "[10 rows x 13 columns]"
            ]
          },
          "metadata": {
            "tags": []
          },
          "execution_count": 8
        }
      ]
    },
    {
      "cell_type": "code",
      "metadata": {
        "id": "LhS_aQ2qSnL5",
        "colab": {
          "base_uri": "https://localhost:8080/"
        },
        "outputId": "0ba6399e-8580-4312-b5a4-14d4b6ebc3e6"
      },
      "source": [
        "data.shape"
      ],
      "execution_count": 9,
      "outputs": [
        {
          "output_type": "execute_result",
          "data": {
            "text/plain": [
              "(6321, 13)"
            ]
          },
          "metadata": {
            "tags": []
          },
          "execution_count": 9
        }
      ]
    },
    {
      "cell_type": "code",
      "metadata": {
        "id": "PSQQQhByQWe9",
        "colab": {
          "base_uri": "https://localhost:8080/"
        },
        "outputId": "c262313b-75e1-46a1-a25d-7e144f56b0f9"
      },
      "source": [
        "df=data.iloc[:,3:]\n",
        "type(df)"
      ],
      "execution_count": 10,
      "outputs": [
        {
          "output_type": "execute_result",
          "data": {
            "text/plain": [
              "pandas.core.frame.DataFrame"
            ]
          },
          "metadata": {
            "tags": []
          },
          "execution_count": 10
        }
      ]
    },
    {
      "cell_type": "code",
      "metadata": {
        "id": "KEOsk-v1Sqz-",
        "colab": {
          "base_uri": "https://localhost:8080/"
        },
        "outputId": "89d90100-493a-4411-d510-6543358f5022"
      },
      "source": [
        "df.shape"
      ],
      "execution_count": 11,
      "outputs": [
        {
          "output_type": "execute_result",
          "data": {
            "text/plain": [
              "(6321, 10)"
            ]
          },
          "metadata": {
            "tags": []
          },
          "execution_count": 11
        }
      ]
    },
    {
      "cell_type": "code",
      "metadata": {
        "id": "F4-tkClGRnLC",
        "colab": {
          "base_uri": "https://localhost:8080/",
          "height": 379
        },
        "outputId": "f2f45161-1f6b-4dc4-feb3-cb4cdd1294e0"
      },
      "source": [
        "df.head(10)"
      ],
      "execution_count": 12,
      "outputs": [
        {
          "output_type": "execute_result",
          "data": {
            "text/html": [
              "<div>\n",
              "<style scoped>\n",
              "    .dataframe tbody tr th:only-of-type {\n",
              "        vertical-align: middle;\n",
              "    }\n",
              "\n",
              "    .dataframe tbody tr th {\n",
              "        vertical-align: top;\n",
              "    }\n",
              "\n",
              "    .dataframe thead th {\n",
              "        text-align: right;\n",
              "    }\n",
              "</style>\n",
              "<table border=\"1\" class=\"dataframe\">\n",
              "  <thead>\n",
              "    <tr style=\"text-align: right;\">\n",
              "      <th></th>\n",
              "      <th>Bidder_Tendency</th>\n",
              "      <th>Bidding_Ratio</th>\n",
              "      <th>Successive_Outbidding</th>\n",
              "      <th>Last_Bidding</th>\n",
              "      <th>Auction_Bids</th>\n",
              "      <th>Starting_Price_Average</th>\n",
              "      <th>Early_Bidding</th>\n",
              "      <th>Winning_Ratio</th>\n",
              "      <th>Auction_Duration</th>\n",
              "      <th>Class</th>\n",
              "    </tr>\n",
              "  </thead>\n",
              "  <tbody>\n",
              "    <tr>\n",
              "      <th>0</th>\n",
              "      <td>0.200000</td>\n",
              "      <td>0.400000</td>\n",
              "      <td>0.0</td>\n",
              "      <td>0.000028</td>\n",
              "      <td>0.000000</td>\n",
              "      <td>0.993593</td>\n",
              "      <td>0.000028</td>\n",
              "      <td>0.666667</td>\n",
              "      <td>5</td>\n",
              "      <td>0</td>\n",
              "    </tr>\n",
              "    <tr>\n",
              "      <th>1</th>\n",
              "      <td>0.024390</td>\n",
              "      <td>0.200000</td>\n",
              "      <td>0.0</td>\n",
              "      <td>0.013123</td>\n",
              "      <td>0.000000</td>\n",
              "      <td>0.993593</td>\n",
              "      <td>0.013123</td>\n",
              "      <td>0.944444</td>\n",
              "      <td>5</td>\n",
              "      <td>0</td>\n",
              "    </tr>\n",
              "    <tr>\n",
              "      <th>2</th>\n",
              "      <td>0.142857</td>\n",
              "      <td>0.200000</td>\n",
              "      <td>0.0</td>\n",
              "      <td>0.003042</td>\n",
              "      <td>0.000000</td>\n",
              "      <td>0.993593</td>\n",
              "      <td>0.003042</td>\n",
              "      <td>1.000000</td>\n",
              "      <td>5</td>\n",
              "      <td>0</td>\n",
              "    </tr>\n",
              "    <tr>\n",
              "      <th>3</th>\n",
              "      <td>0.100000</td>\n",
              "      <td>0.200000</td>\n",
              "      <td>0.0</td>\n",
              "      <td>0.097477</td>\n",
              "      <td>0.000000</td>\n",
              "      <td>0.993593</td>\n",
              "      <td>0.097477</td>\n",
              "      <td>1.000000</td>\n",
              "      <td>5</td>\n",
              "      <td>0</td>\n",
              "    </tr>\n",
              "    <tr>\n",
              "      <th>4</th>\n",
              "      <td>0.051282</td>\n",
              "      <td>0.222222</td>\n",
              "      <td>0.0</td>\n",
              "      <td>0.001318</td>\n",
              "      <td>0.000000</td>\n",
              "      <td>0.000000</td>\n",
              "      <td>0.001242</td>\n",
              "      <td>0.500000</td>\n",
              "      <td>7</td>\n",
              "      <td>0</td>\n",
              "    </tr>\n",
              "    <tr>\n",
              "      <th>5</th>\n",
              "      <td>0.038462</td>\n",
              "      <td>0.111111</td>\n",
              "      <td>0.0</td>\n",
              "      <td>0.016844</td>\n",
              "      <td>0.000000</td>\n",
              "      <td>0.000000</td>\n",
              "      <td>0.016844</td>\n",
              "      <td>0.800000</td>\n",
              "      <td>7</td>\n",
              "      <td>0</td>\n",
              "    </tr>\n",
              "    <tr>\n",
              "      <th>6</th>\n",
              "      <td>0.400000</td>\n",
              "      <td>0.222222</td>\n",
              "      <td>0.0</td>\n",
              "      <td>0.006781</td>\n",
              "      <td>0.000000</td>\n",
              "      <td>0.000000</td>\n",
              "      <td>0.006774</td>\n",
              "      <td>0.750000</td>\n",
              "      <td>7</td>\n",
              "      <td>0</td>\n",
              "    </tr>\n",
              "    <tr>\n",
              "      <th>7</th>\n",
              "      <td>0.137931</td>\n",
              "      <td>0.444444</td>\n",
              "      <td>1.0</td>\n",
              "      <td>0.768044</td>\n",
              "      <td>0.000000</td>\n",
              "      <td>0.000000</td>\n",
              "      <td>0.016311</td>\n",
              "      <td>1.000000</td>\n",
              "      <td>7</td>\n",
              "      <td>1</td>\n",
              "    </tr>\n",
              "    <tr>\n",
              "      <th>8</th>\n",
              "      <td>0.121951</td>\n",
              "      <td>0.185185</td>\n",
              "      <td>1.0</td>\n",
              "      <td>0.035021</td>\n",
              "      <td>0.333333</td>\n",
              "      <td>0.993528</td>\n",
              "      <td>0.023963</td>\n",
              "      <td>0.944444</td>\n",
              "      <td>7</td>\n",
              "      <td>1</td>\n",
              "    </tr>\n",
              "    <tr>\n",
              "      <th>9</th>\n",
              "      <td>0.155172</td>\n",
              "      <td>0.346154</td>\n",
              "      <td>0.5</td>\n",
              "      <td>0.570994</td>\n",
              "      <td>0.307692</td>\n",
              "      <td>0.993593</td>\n",
              "      <td>0.413788</td>\n",
              "      <td>0.611111</td>\n",
              "      <td>7</td>\n",
              "      <td>1</td>\n",
              "    </tr>\n",
              "  </tbody>\n",
              "</table>\n",
              "</div>"
            ],
            "text/plain": [
              "   Bidder_Tendency  Bidding_Ratio  ...  Auction_Duration  Class\n",
              "0         0.200000       0.400000  ...                 5      0\n",
              "1         0.024390       0.200000  ...                 5      0\n",
              "2         0.142857       0.200000  ...                 5      0\n",
              "3         0.100000       0.200000  ...                 5      0\n",
              "4         0.051282       0.222222  ...                 7      0\n",
              "5         0.038462       0.111111  ...                 7      0\n",
              "6         0.400000       0.222222  ...                 7      0\n",
              "7         0.137931       0.444444  ...                 7      1\n",
              "8         0.121951       0.185185  ...                 7      1\n",
              "9         0.155172       0.346154  ...                 7      1\n",
              "\n",
              "[10 rows x 10 columns]"
            ]
          },
          "metadata": {
            "tags": []
          },
          "execution_count": 12
        }
      ]
    },
    {
      "cell_type": "code",
      "metadata": {
        "id": "kkrII5t8Qi4-"
      },
      "source": [
        "# Data is preprocessed\n",
        "# As there is a classification issue addressed, outliers are not present.\n",
        "# There is no missing values and all rows contain polished data.\n",
        "# 'Record_ID','Auction_ID','Bidder_ID' are non-influential in determing the desired classification.so they are omitted."
      ],
      "execution_count": 13,
      "outputs": []
    },
    {
      "cell_type": "markdown",
      "metadata": {
        "id": "D6exmly6S2lm"
      },
      "source": [
        "MODEL CREATION AND TRAINING"
      ]
    },
    {
      "cell_type": "code",
      "metadata": {
        "id": "-f0TshdkS9B0"
      },
      "source": [
        "import tensorflow as tf\n",
        "import keras\n",
        "from keras.callbacks import *"
      ],
      "execution_count": 14,
      "outputs": []
    },
    {
      "cell_type": "code",
      "metadata": {
        "id": "fvG4057AY5U3",
        "colab": {
          "base_uri": "https://localhost:8080/"
        },
        "outputId": "b88e6e22-e125-49f7-98cf-feb8a3f902a7"
      },
      "source": [
        "features=df.iloc[:,:9]\n",
        "labels=df.iloc[:,-1]\n",
        "\n",
        "print(features.shape)\n",
        "print(labels.shape)"
      ],
      "execution_count": 15,
      "outputs": [
        {
          "output_type": "stream",
          "text": [
            "(6321, 9)\n",
            "(6321,)\n"
          ],
          "name": "stdout"
        }
      ]
    },
    {
      "cell_type": "code",
      "metadata": {
        "id": "e2zxK0ICThPd"
      },
      "source": [
        "from sklearn.model_selection import train_test_split\n",
        "\n",
        "x_train_full,x_test,y_train_full,y_test=train_test_split(features,labels,random_state=9)\n",
        "x_train,x_valid,y_train,y_valid=train_test_split(x_train_full,y_train_full,random_state=9)"
      ],
      "execution_count": 16,
      "outputs": []
    },
    {
      "cell_type": "code",
      "metadata": {
        "id": "WG6HuLR-awvn",
        "colab": {
          "base_uri": "https://localhost:8080/"
        },
        "outputId": "d6154419-78fc-4802-a31c-2b18a4b01bd3"
      },
      "source": [
        "x_train.shape"
      ],
      "execution_count": 17,
      "outputs": [
        {
          "output_type": "execute_result",
          "data": {
            "text/plain": [
              "(3555, 9)"
            ]
          },
          "metadata": {
            "tags": []
          },
          "execution_count": 17
        }
      ]
    },
    {
      "cell_type": "code",
      "metadata": {
        "id": "0G5IIMJEa_Na",
        "colab": {
          "base_uri": "https://localhost:8080/"
        },
        "outputId": "8a9310ae-5274-42e6-a02b-73427d5c962b"
      },
      "source": [
        "y_train.shape"
      ],
      "execution_count": 18,
      "outputs": [
        {
          "output_type": "execute_result",
          "data": {
            "text/plain": [
              "(3555,)"
            ]
          },
          "metadata": {
            "tags": []
          },
          "execution_count": 18
        }
      ]
    },
    {
      "cell_type": "code",
      "metadata": {
        "id": "TLbwCDw3bE4S",
        "colab": {
          "base_uri": "https://localhost:8080/"
        },
        "outputId": "598298da-4ba0-4762-deb5-9f8bf24ec08d"
      },
      "source": [
        "x_test.shape"
      ],
      "execution_count": 19,
      "outputs": [
        {
          "output_type": "execute_result",
          "data": {
            "text/plain": [
              "(1581, 9)"
            ]
          },
          "metadata": {
            "tags": []
          },
          "execution_count": 19
        }
      ]
    },
    {
      "cell_type": "code",
      "metadata": {
        "id": "JAXzp9DgbHTS",
        "colab": {
          "base_uri": "https://localhost:8080/"
        },
        "outputId": "32a1d705-86cd-4036-da90-f34d70ffef08"
      },
      "source": [
        "y_test.shape"
      ],
      "execution_count": 20,
      "outputs": [
        {
          "output_type": "execute_result",
          "data": {
            "text/plain": [
              "(1581,)"
            ]
          },
          "metadata": {
            "tags": []
          },
          "execution_count": 20
        }
      ]
    },
    {
      "cell_type": "code",
      "metadata": {
        "id": "ZQ8rQ6YBbK81",
        "colab": {
          "base_uri": "https://localhost:8080/"
        },
        "outputId": "ddde2f01-66a1-4a3a-ccd2-b8187d388c8f"
      },
      "source": [
        "x_valid.shape"
      ],
      "execution_count": 21,
      "outputs": [
        {
          "output_type": "execute_result",
          "data": {
            "text/plain": [
              "(1185, 9)"
            ]
          },
          "metadata": {
            "tags": []
          },
          "execution_count": 21
        }
      ]
    },
    {
      "cell_type": "code",
      "metadata": {
        "id": "WCAws7iLbPiz",
        "colab": {
          "base_uri": "https://localhost:8080/"
        },
        "outputId": "08dcd371-2364-44ba-b5d4-bfa3f3fe9dd1"
      },
      "source": [
        "y_valid.shape"
      ],
      "execution_count": 22,
      "outputs": [
        {
          "output_type": "execute_result",
          "data": {
            "text/plain": [
              "(1185,)"
            ]
          },
          "metadata": {
            "tags": []
          },
          "execution_count": 22
        }
      ]
    },
    {
      "cell_type": "code",
      "metadata": {
        "id": "3KmZqtebbQvq"
      },
      "source": [
        "# there is consistent division of the dataset into the training testing and validation biparts\n",
        "# 3555+1581+1185=6321"
      ],
      "execution_count": 23,
      "outputs": []
    },
    {
      "cell_type": "code",
      "metadata": {
        "id": "RsWEHp7HcFhn"
      },
      "source": [
        "np.random.seed(42)\n",
        "tf.random.set_seed(42)"
      ],
      "execution_count": 24,
      "outputs": []
    },
    {
      "cell_type": "code",
      "metadata": {
        "id": "kxsqm4Y1UKfn"
      },
      "source": [
        "from sklearn.metrics import confusion_matrix"
      ],
      "execution_count": 25,
      "outputs": []
    },
    {
      "cell_type": "markdown",
      "metadata": {
        "id": "yk_YlzxEcog_"
      },
      "source": [
        "**SEQUENTIAL MODEL**"
      ]
    },
    {
      "cell_type": "code",
      "metadata": {
        "id": "4c9C4ItXckq-"
      },
      "source": [
        "model=keras.models.Sequential([\n",
        "                               keras.layers.Dense(60,kernel_initializer='uniform',activation='relu',input_shape=[9]),\n",
        "                               keras.layers.Dense(60,kernel_initializer='uniform',activation='relu'),\n",
        "                               keras.layers.Dense(1,activation='sigmoid')\n",
        "])"
      ],
      "execution_count": 53,
      "outputs": []
    },
    {
      "cell_type": "code",
      "metadata": {
        "id": "iWA4djZhdJTw",
        "colab": {
          "base_uri": "https://localhost:8080/"
        },
        "outputId": "4e279899-ecdb-4f9f-8fdc-195742a51aa3"
      },
      "source": [
        "model.summary()"
      ],
      "execution_count": 54,
      "outputs": [
        {
          "output_type": "stream",
          "text": [
            "Model: \"sequential\"\n",
            "_________________________________________________________________\n",
            "Layer (type)                 Output Shape              Param #   \n",
            "=================================================================\n",
            "dense_3 (Dense)              (None, 60)                600       \n",
            "_________________________________________________________________\n",
            "dense_4 (Dense)              (None, 60)                3660      \n",
            "_________________________________________________________________\n",
            "dense_5 (Dense)              (None, 1)                 61        \n",
            "=================================================================\n",
            "Total params: 4,321\n",
            "Trainable params: 4,321\n",
            "Non-trainable params: 0\n",
            "_________________________________________________________________\n"
          ],
          "name": "stdout"
        }
      ]
    },
    {
      "cell_type": "code",
      "metadata": {
        "id": "QQ3zZgdndYP8"
      },
      "source": [
        "model.compile(optimizer='adam',\n",
        "              loss='mean_squared_error',\n",
        "              metrics=['accuracy'])"
      ],
      "execution_count": 55,
      "outputs": []
    },
    {
      "cell_type": "code",
      "metadata": {
        "id": "WNfwqi0epAsz"
      },
      "source": [
        "checkpoint=keras.callbacks.ModelCheckpoint('best-Model.h5',save_best_only=True)\n",
        "early=keras.callbacks.EarlyStopping(patience=20,restore_best_weights=True)"
      ],
      "execution_count": 56,
      "outputs": []
    },
    {
      "cell_type": "code",
      "metadata": {
        "id": "u_FrFJsojeK-",
        "colab": {
          "base_uri": "https://localhost:8080/"
        },
        "outputId": "4ee099c1-ac78-498b-d151-0c638a734014"
      },
      "source": [
        "model.fit(x_train,y_train,epochs=200,batch_size=10,validation_data=(x_valid,y_valid),callbacks=[checkpoint,early])"
      ],
      "execution_count": 57,
      "outputs": [
        {
          "output_type": "stream",
          "text": [
            "Epoch 1/200\n",
            "356/356 [==============================] - 2s 4ms/step - loss: 0.1124 - accuracy: 0.9002 - val_loss: 0.0164 - val_accuracy: 0.9705\n",
            "Epoch 2/200\n",
            "356/356 [==============================] - 1s 3ms/step - loss: 0.0168 - accuracy: 0.9774 - val_loss: 0.0148 - val_accuracy: 0.9797\n",
            "Epoch 3/200\n",
            "356/356 [==============================] - 1s 3ms/step - loss: 0.0175 - accuracy: 0.9760 - val_loss: 0.0136 - val_accuracy: 0.9797\n",
            "Epoch 4/200\n",
            "356/356 [==============================] - 1s 3ms/step - loss: 0.0148 - accuracy: 0.9772 - val_loss: 0.0174 - val_accuracy: 0.9772\n",
            "Epoch 5/200\n",
            "356/356 [==============================] - 1s 3ms/step - loss: 0.0156 - accuracy: 0.9783 - val_loss: 0.0136 - val_accuracy: 0.9823\n",
            "Epoch 6/200\n",
            "356/356 [==============================] - 1s 3ms/step - loss: 0.0105 - accuracy: 0.9868 - val_loss: 0.0111 - val_accuracy: 0.9865\n",
            "Epoch 7/200\n",
            "356/356 [==============================] - 1s 3ms/step - loss: 0.0096 - accuracy: 0.9898 - val_loss: 0.0111 - val_accuracy: 0.9873\n",
            "Epoch 8/200\n",
            "356/356 [==============================] - 1s 3ms/step - loss: 0.0062 - accuracy: 0.9938 - val_loss: 0.0091 - val_accuracy: 0.9890\n",
            "Epoch 9/200\n",
            "356/356 [==============================] - 1s 3ms/step - loss: 0.0045 - accuracy: 0.9963 - val_loss: 0.0079 - val_accuracy: 0.9916\n",
            "Epoch 10/200\n",
            "356/356 [==============================] - 1s 3ms/step - loss: 0.0070 - accuracy: 0.9930 - val_loss: 0.0082 - val_accuracy: 0.9882\n",
            "Epoch 11/200\n",
            "356/356 [==============================] - 1s 3ms/step - loss: 0.0056 - accuracy: 0.9931 - val_loss: 0.0076 - val_accuracy: 0.9916\n",
            "Epoch 12/200\n",
            "356/356 [==============================] - 1s 3ms/step - loss: 0.0030 - accuracy: 0.9974 - val_loss: 0.0075 - val_accuracy: 0.9916\n",
            "Epoch 13/200\n",
            "356/356 [==============================] - 1s 3ms/step - loss: 0.0080 - accuracy: 0.9879 - val_loss: 0.0067 - val_accuracy: 0.9916\n",
            "Epoch 14/200\n",
            "356/356 [==============================] - 1s 3ms/step - loss: 0.0033 - accuracy: 0.9973 - val_loss: 0.0063 - val_accuracy: 0.9932\n",
            "Epoch 15/200\n",
            "356/356 [==============================] - 1s 3ms/step - loss: 0.0020 - accuracy: 0.9984 - val_loss: 0.0065 - val_accuracy: 0.9932\n",
            "Epoch 16/200\n",
            "356/356 [==============================] - 1s 3ms/step - loss: 0.0027 - accuracy: 0.9977 - val_loss: 0.0074 - val_accuracy: 0.9916\n",
            "Epoch 17/200\n",
            "356/356 [==============================] - 1s 3ms/step - loss: 0.0036 - accuracy: 0.9964 - val_loss: 0.0068 - val_accuracy: 0.9932\n",
            "Epoch 18/200\n",
            "356/356 [==============================] - 1s 3ms/step - loss: 0.0025 - accuracy: 0.9970 - val_loss: 0.0059 - val_accuracy: 0.9924\n",
            "Epoch 19/200\n",
            "356/356 [==============================] - 1s 3ms/step - loss: 0.0029 - accuracy: 0.9963 - val_loss: 0.0062 - val_accuracy: 0.9924\n",
            "Epoch 20/200\n",
            "356/356 [==============================] - 1s 3ms/step - loss: 0.0013 - accuracy: 0.9990 - val_loss: 0.0055 - val_accuracy: 0.9932\n",
            "Epoch 21/200\n",
            "356/356 [==============================] - 1s 3ms/step - loss: 0.0019 - accuracy: 0.9983 - val_loss: 0.0070 - val_accuracy: 0.9932\n",
            "Epoch 22/200\n",
            "356/356 [==============================] - 1s 3ms/step - loss: 0.0041 - accuracy: 0.9942 - val_loss: 0.0070 - val_accuracy: 0.9924\n",
            "Epoch 23/200\n",
            "356/356 [==============================] - 1s 3ms/step - loss: 0.0026 - accuracy: 0.9977 - val_loss: 0.0062 - val_accuracy: 0.9932\n",
            "Epoch 24/200\n",
            "356/356 [==============================] - 1s 3ms/step - loss: 0.0030 - accuracy: 0.9972 - val_loss: 0.0058 - val_accuracy: 0.9932\n",
            "Epoch 25/200\n",
            "356/356 [==============================] - 1s 3ms/step - loss: 0.0026 - accuracy: 0.9977 - val_loss: 0.0062 - val_accuracy: 0.9924\n",
            "Epoch 26/200\n",
            "356/356 [==============================] - 1s 3ms/step - loss: 0.0018 - accuracy: 0.9983 - val_loss: 0.0063 - val_accuracy: 0.9924\n",
            "Epoch 27/200\n",
            "356/356 [==============================] - 1s 3ms/step - loss: 0.0017 - accuracy: 0.9981 - val_loss: 0.0116 - val_accuracy: 0.9865\n",
            "Epoch 28/200\n",
            "356/356 [==============================] - 1s 3ms/step - loss: 0.0031 - accuracy: 0.9966 - val_loss: 0.0073 - val_accuracy: 0.9924\n",
            "Epoch 29/200\n",
            "356/356 [==============================] - 1s 3ms/step - loss: 0.0022 - accuracy: 0.9979 - val_loss: 0.0066 - val_accuracy: 0.9932\n",
            "Epoch 30/200\n",
            "356/356 [==============================] - 1s 3ms/step - loss: 0.0023 - accuracy: 0.9979 - val_loss: 0.0067 - val_accuracy: 0.9924\n",
            "Epoch 31/200\n",
            "356/356 [==============================] - 1s 3ms/step - loss: 0.0018 - accuracy: 0.9983 - val_loss: 0.0063 - val_accuracy: 0.9932\n",
            "Epoch 32/200\n",
            "356/356 [==============================] - 1s 3ms/step - loss: 0.0028 - accuracy: 0.9971 - val_loss: 0.0064 - val_accuracy: 0.9932\n",
            "Epoch 33/200\n",
            "356/356 [==============================] - 1s 3ms/step - loss: 0.0016 - accuracy: 0.9985 - val_loss: 0.0066 - val_accuracy: 0.9932\n",
            "Epoch 34/200\n",
            "356/356 [==============================] - 1s 3ms/step - loss: 0.0021 - accuracy: 0.9977 - val_loss: 0.0063 - val_accuracy: 0.9924\n",
            "Epoch 35/200\n",
            "356/356 [==============================] - 1s 3ms/step - loss: 0.0020 - accuracy: 0.9979 - val_loss: 0.0064 - val_accuracy: 0.9932\n",
            "Epoch 36/200\n",
            "356/356 [==============================] - 1s 3ms/step - loss: 0.0013 - accuracy: 0.9988 - val_loss: 0.0064 - val_accuracy: 0.9932\n",
            "Epoch 37/200\n",
            "356/356 [==============================] - 1s 3ms/step - loss: 0.0022 - accuracy: 0.9976 - val_loss: 0.0105 - val_accuracy: 0.9873\n",
            "Epoch 38/200\n",
            "356/356 [==============================] - 1s 3ms/step - loss: 0.0080 - accuracy: 0.9906 - val_loss: 0.0067 - val_accuracy: 0.9932\n",
            "Epoch 39/200\n",
            "356/356 [==============================] - 1s 3ms/step - loss: 0.0022 - accuracy: 0.9977 - val_loss: 0.0065 - val_accuracy: 0.9924\n",
            "Epoch 40/200\n",
            "356/356 [==============================] - 1s 3ms/step - loss: 0.0027 - accuracy: 0.9971 - val_loss: 0.0073 - val_accuracy: 0.9932\n"
          ],
          "name": "stdout"
        },
        {
          "output_type": "execute_result",
          "data": {
            "text/plain": [
              "<keras.callbacks.History at 0x7fd00e6fe3d0>"
            ]
          },
          "metadata": {
            "tags": []
          },
          "execution_count": 57
        }
      ]
    },
    {
      "cell_type": "code",
      "metadata": {
        "id": "hemGuemvpnzf"
      },
      "source": [
        "trial=keras.models.load_model('best-Model.h5')"
      ],
      "execution_count": 58,
      "outputs": []
    },
    {
      "cell_type": "code",
      "metadata": {
        "id": "GqFIpEtXpoNh",
        "colab": {
          "base_uri": "https://localhost:8080/"
        },
        "outputId": "165f05f0-b597-46ee-e150-67f58f5d05fd"
      },
      "source": [
        "test=model.evaluate(x_test,y_test)"
      ],
      "execution_count": 59,
      "outputs": [
        {
          "output_type": "stream",
          "text": [
            "50/50 [==============================] - 0s 2ms/step - loss: 0.0041 - accuracy: 0.9943\n"
          ],
          "name": "stdout"
        }
      ]
    },
    {
      "cell_type": "code",
      "metadata": {
        "id": "8Ftv9VwXTotj"
      },
      "source": [
        "y_pred=model.predict(x_test)"
      ],
      "execution_count": 60,
      "outputs": []
    },
    {
      "cell_type": "code",
      "metadata": {
        "id": "dkzrXD8PYiPK",
        "colab": {
          "base_uri": "https://localhost:8080/"
        },
        "outputId": "f1ce3be2-0bac-4ab2-fc48-03e74a9efa7d"
      },
      "source": [
        "print(type(y_test))\n",
        "print(type(y_pred))"
      ],
      "execution_count": 61,
      "outputs": [
        {
          "output_type": "stream",
          "text": [
            "<class 'pandas.core.series.Series'>\n",
            "<class 'numpy.ndarray'>\n"
          ],
          "name": "stdout"
        }
      ]
    },
    {
      "cell_type": "code",
      "metadata": {
        "id": "ge-1KbWJVe3k",
        "colab": {
          "base_uri": "https://localhost:8080/"
        },
        "outputId": "08e90896-090c-4655-847f-fb3122bb549c"
      },
      "source": [
        "y_test.values"
      ],
      "execution_count": 62,
      "outputs": [
        {
          "output_type": "execute_result",
          "data": {
            "text/plain": [
              "array([0, 1, 0, ..., 0, 0, 0])"
            ]
          },
          "metadata": {
            "tags": []
          },
          "execution_count": 62
        }
      ]
    },
    {
      "cell_type": "code",
      "metadata": {
        "id": "1R6ImJ9_TuuZ",
        "colab": {
          "base_uri": "https://localhost:8080/"
        },
        "outputId": "daf3dc52-9da4-443f-e85a-2688cee80ded"
      },
      "source": [
        "y_pred"
      ],
      "execution_count": 63,
      "outputs": [
        {
          "output_type": "execute_result",
          "data": {
            "text/plain": [
              "array([[5.2989204e-08],\n",
              "       [9.9626225e-01],\n",
              "       [5.0711859e-04],\n",
              "       ...,\n",
              "       [2.6505033e-06],\n",
              "       [6.0068459e-08],\n",
              "       [2.9246405e-07]], dtype=float32)"
            ]
          },
          "metadata": {
            "tags": []
          },
          "execution_count": 63
        }
      ]
    },
    {
      "cell_type": "code",
      "metadata": {
        "id": "X5qHhZlJYsK2"
      },
      "source": [
        "y_pred=np.where(y_pred>=0.5,1,0)"
      ],
      "execution_count": null,
      "outputs": []
    },
    {
      "cell_type": "code",
      "metadata": {
        "id": "dL-vDZLiZtEO"
      },
      "source": [
        "y_pred=y_pred.flatten()"
      ],
      "execution_count": null,
      "outputs": []
    },
    {
      "cell_type": "code",
      "metadata": {
        "id": "xBfc1R00aPh0",
        "colab": {
          "base_uri": "https://localhost:8080/"
        },
        "outputId": "ff7ea5d7-2ca7-477b-cc97-a1c1c6e3c442"
      },
      "source": [
        "y_pred"
      ],
      "execution_count": null,
      "outputs": [
        {
          "output_type": "execute_result",
          "data": {
            "text/plain": [
              "array([0, 1, 0, ..., 0, 0, 0])"
            ]
          },
          "metadata": {
            "tags": []
          },
          "execution_count": 39
        }
      ]
    },
    {
      "cell_type": "code",
      "metadata": {
        "id": "NzFOh_uGVXuG",
        "colab": {
          "base_uri": "https://localhost:8080/"
        },
        "outputId": "a107df13-11e1-4510-a88a-8280f83d3325"
      },
      "source": [
        "confusion_matrix(y_test,y_pred)"
      ],
      "execution_count": null,
      "outputs": [
        {
          "output_type": "execute_result",
          "data": {
            "text/plain": [
              "array([[1397,    4],\n",
              "       [   2,  178]])"
            ]
          },
          "metadata": {
            "tags": []
          },
          "execution_count": 40
        }
      ]
    },
    {
      "cell_type": "code",
      "metadata": {
        "id": "RK9X0KlhOWsV",
        "colab": {
          "base_uri": "https://localhost:8080/",
          "height": 180
        },
        "outputId": "ba3e79d7-0e7f-43d1-95c1-56a1505a8b6d"
      },
      "source": [
        "y_probab=model.predict_proba(x_test)\n",
        "y_probab"
      ],
      "execution_count": 52,
      "outputs": [
        {
          "output_type": "error",
          "ename": "AttributeError",
          "evalue": "ignored",
          "traceback": [
            "\u001b[0;31m---------------------------------------------------------------------------\u001b[0m",
            "\u001b[0;31mAttributeError\u001b[0m                            Traceback (most recent call last)",
            "\u001b[0;32m<ipython-input-52-2c689acbf0c9>\u001b[0m in \u001b[0;36m<module>\u001b[0;34m()\u001b[0m\n\u001b[0;32m----> 1\u001b[0;31m \u001b[0my_probab\u001b[0m\u001b[0;34m=\u001b[0m\u001b[0mmodel\u001b[0m\u001b[0;34m.\u001b[0m\u001b[0mpredict_proba\u001b[0m\u001b[0;34m(\u001b[0m\u001b[0mx_test\u001b[0m\u001b[0;34m)\u001b[0m\u001b[0;34m\u001b[0m\u001b[0;34m\u001b[0m\u001b[0m\n\u001b[0m\u001b[1;32m      2\u001b[0m \u001b[0my_probab\u001b[0m\u001b[0;34m\u001b[0m\u001b[0;34m\u001b[0m\u001b[0m\n",
            "\u001b[0;31mAttributeError\u001b[0m: 'Functional' object has no attribute 'predict_proba'"
          ]
        }
      ]
    },
    {
      "cell_type": "code",
      "metadata": {
        "id": "XXyEYIgLH5Yx",
        "colab": {
          "base_uri": "https://localhost:8080/",
          "height": 295
        },
        "outputId": "f9382321-a18d-4787-f6c7-94d6b3faf8db"
      },
      "source": [
        "import numpy as np\n",
        "from sklearn import metrics\n",
        "import matplotlib.pyplot as plt\n",
        "from sklearn.metrics import roc_curve\n",
        "from sklearn.metrics import roc_auc_score\n",
        "\n",
        "y_pred=y_pred.ravel()\n",
        "fpr, tpr, thresholds = metrics.roc_curve(y_test, y_pred)\n",
        "\n",
        "plt.figure(1)\n",
        "plt.plot([0,1],[0,1],'y--')\n",
        "plt.plot(fpr,tpr,label=\"data\")\n",
        "plt.title('ROC curve')\n",
        "plt.xlabel('False Positive Rate')\n",
        "plt.ylabel('True Positive Rate')\n",
        "plt.legend(loc=4)\n",
        "plt.show()"
      ],
      "execution_count": 51,
      "outputs": [
        {
          "output_type": "display_data",
          "data": {
            "image/png": "[encoded data removed]",
            "text/plain": [
              "<Figure size 432x288 with 1 Axes>"
            ]
          },
          "metadata": {
            "tags": [],
            "needs_background": "light"
          }
        }
      ]
    },
    {
      "cell_type": "code",
      "metadata": {
        "colab": {
          "base_uri": "https://localhost:8080/"
        },
        "id": "MH6BtV61ZCM-",
        "outputId": "5dcc3a8f-3690-462c-a1b6-105d13ee6757"
      },
      "source": [
        "score = metrics.roc_auc_score(y_test,y_pred)\n",
        "score"
      ],
      "execution_count": 64,
      "outputs": [
        {
          "output_type": "execute_result",
          "data": {
            "text/plain": [
              "0.9975097152827346"
            ]
          },
          "metadata": {
            "tags": []
          },
          "execution_count": 64
        }
      ]
    },
    {
      "cell_type": "code",
      "metadata": {
        "id": "nTDdhR-0R8l3",
        "colab": {
          "base_uri": "https://localhost:8080/"
        },
        "outputId": "094bb316-f2c0-4dd5-ca91-4f115266e4f4"
      },
      "source": [
        "thresholds"
      ],
      "execution_count": null,
      "outputs": [
        {
          "output_type": "execute_result",
          "data": {
            "text/plain": [
              "array([1.9999982e+00, 9.9999821e-01, 9.9999595e-01, 9.9999547e-01,\n",
              "       9.9999464e-01, 9.9999452e-01, 9.9999440e-01, 9.9999416e-01,\n",
              "       9.9998891e-01, 9.9998605e-01, 9.9945205e-01, 9.9829727e-01,\n",
              "       9.9787700e-01, 9.9457729e-01, 9.9443406e-01, 8.3619773e-01,\n",
              "       7.4697077e-01, 3.8423389e-01, 2.8219356e-04, 2.8054565e-04,\n",
              "       6.4715898e-08], dtype=float32)"
            ]
          },
          "metadata": {
            "tags": []
          },
          "execution_count": 91
        }
      ]
    },
    {
      "cell_type": "code",
      "metadata": {
        "id": "1U9UdldRjtQv"
      },
      "source": [
        "keras.backend.clear_session()"
      ],
      "execution_count": null,
      "outputs": []
    },
    {
      "cell_type": "code",
      "metadata": {
        "id": "HMPaY8vJvGMt"
      },
      "source": [
        "del model"
      ],
      "execution_count": null,
      "outputs": []
    },
    {
      "cell_type": "markdown",
      "metadata": {
        "id": "_lQAfToYs5nB"
      },
      "source": [
        "FUNCTIONAL MODEL"
      ]
    },
    {
      "cell_type": "code",
      "metadata": {
        "id": "H4i9EzI6qcjS"
      },
      "source": [
        "input1=keras.layers.Input(shape=x_train.shape[1:])\n",
        "hidden1=keras.layers.Dense(60,kernel_initializer='uniform',activation='relu')(input1)\n",
        "hidden2=keras.layers.Dense(60,kernel_initializer='uniform',activation='relu')(hidden1)\n",
        "concat=keras.layers.concatenate([input1,hidden2])\n",
        "output=keras.layers.Dense(1,activation='sigmoid')(concat)\n",
        "model=keras.models.Model(inputs=[input1],outputs=[output])"
      ],
      "execution_count": 26,
      "outputs": []
    },
    {
      "cell_type": "code",
      "metadata": {
        "id": "AMvgLRHqt4xN",
        "colab": {
          "base_uri": "https://localhost:8080/"
        },
        "outputId": "92c8c79a-b14b-41b7-ba4b-d725f25a2d58"
      },
      "source": [
        "model.summary()"
      ],
      "execution_count": 27,
      "outputs": [
        {
          "output_type": "stream",
          "text": [
            "Model: \"model\"\n",
            "__________________________________________________________________________________________________\n",
            "Layer (type)                    Output Shape         Param #     Connected to                     \n",
            "==================================================================================================\n",
            "input_1 (InputLayer)            [(None, 9)]          0                                            \n",
            "__________________________________________________________________________________________________\n",
            "dense (Dense)                   (None, 60)           600         input_1[0][0]                    \n",
            "__________________________________________________________________________________________________\n",
            "dense_1 (Dense)                 (None, 60)           3660        dense[0][0]                      \n",
            "__________________________________________________________________________________________________\n",
            "concatenate (Concatenate)       (None, 69)           0           input_1[0][0]                    \n",
            "                                                                 dense_1[0][0]                    \n",
            "__________________________________________________________________________________________________\n",
            "dense_2 (Dense)                 (None, 1)            70          concatenate[0][0]                \n",
            "==================================================================================================\n",
            "Total params: 4,330\n",
            "Trainable params: 4,330\n",
            "Non-trainable params: 0\n",
            "__________________________________________________________________________________________________\n"
          ],
          "name": "stdout"
        }
      ]
    },
    {
      "cell_type": "code",
      "metadata": {
        "id": "iMQ0VqcFt7bX"
      },
      "source": [
        "model.compile(loss='mean_squared_error',\n",
        "              optimizer='adam',\n",
        "              metrics=['accuracy'])"
      ],
      "execution_count": 28,
      "outputs": []
    },
    {
      "cell_type": "code",
      "metadata": {
        "id": "XzVvKCx6uOz1"
      },
      "source": [
        "checkpoint=keras.callbacks.ModelCheckpoint('best-Model.h5',save_best_only=True)\n",
        "early=keras.callbacks.EarlyStopping(patience=20,restore_best_weights=True)"
      ],
      "execution_count": 29,
      "outputs": []
    },
    {
      "cell_type": "code",
      "metadata": {
        "id": "dc6G1XOPuVWN",
        "colab": {
          "base_uri": "https://localhost:8080/"
        },
        "outputId": "8dec975b-7536-4685-d820-d93cd701d6da"
      },
      "source": [
        "model.fit(x_train,y_train,epochs=200,batch_size=10,validation_data=(x_valid,y_valid),callbacks=[checkpoint,early])"
      ],
      "execution_count": 30,
      "outputs": [
        {
          "output_type": "stream",
          "text": [
            "Epoch 1/200\n",
            "356/356 [==============================] - 18s 4ms/step - loss: 0.0890 - accuracy: 0.9158 - val_loss: 0.0167 - val_accuracy: 0.9662\n",
            "Epoch 2/200\n",
            "356/356 [==============================] - 1s 3ms/step - loss: 0.0158 - accuracy: 0.9769 - val_loss: 0.0153 - val_accuracy: 0.9797\n",
            "Epoch 3/200\n",
            "356/356 [==============================] - 1s 3ms/step - loss: 0.0180 - accuracy: 0.9761 - val_loss: 0.0139 - val_accuracy: 0.9789\n",
            "Epoch 4/200\n",
            "356/356 [==============================] - 1s 3ms/step - loss: 0.0146 - accuracy: 0.9772 - val_loss: 0.0173 - val_accuracy: 0.9738\n",
            "Epoch 5/200\n",
            "356/356 [==============================] - 1s 3ms/step - loss: 0.0155 - accuracy: 0.9775 - val_loss: 0.0156 - val_accuracy: 0.9747\n",
            "Epoch 6/200\n",
            "356/356 [==============================] - 1s 3ms/step - loss: 0.0123 - accuracy: 0.9843 - val_loss: 0.0148 - val_accuracy: 0.9755\n",
            "Epoch 7/200\n",
            "356/356 [==============================] - 1s 3ms/step - loss: 0.0145 - accuracy: 0.9781 - val_loss: 0.0170 - val_accuracy: 0.9722\n",
            "Epoch 8/200\n",
            "356/356 [==============================] - 1s 3ms/step - loss: 0.0111 - accuracy: 0.9832 - val_loss: 0.0156 - val_accuracy: 0.9764\n",
            "Epoch 9/200\n",
            "356/356 [==============================] - 1s 3ms/step - loss: 0.0100 - accuracy: 0.9871 - val_loss: 0.0158 - val_accuracy: 0.9755\n",
            "Epoch 10/200\n",
            "356/356 [==============================] - 1s 3ms/step - loss: 0.0136 - accuracy: 0.9807 - val_loss: 0.0157 - val_accuracy: 0.9764\n",
            "Epoch 11/200\n",
            "356/356 [==============================] - 1s 3ms/step - loss: 0.0146 - accuracy: 0.9804 - val_loss: 0.0163 - val_accuracy: 0.9755\n",
            "Epoch 12/200\n",
            "356/356 [==============================] - 1s 3ms/step - loss: 0.0115 - accuracy: 0.9833 - val_loss: 0.0157 - val_accuracy: 0.9747\n",
            "Epoch 13/200\n",
            "356/356 [==============================] - 1s 3ms/step - loss: 0.0156 - accuracy: 0.9792 - val_loss: 0.0155 - val_accuracy: 0.9781\n",
            "Epoch 14/200\n",
            "356/356 [==============================] - 1s 3ms/step - loss: 0.0118 - accuracy: 0.9819 - val_loss: 0.0148 - val_accuracy: 0.9764\n",
            "Epoch 15/200\n",
            "356/356 [==============================] - 1s 3ms/step - loss: 0.0110 - accuracy: 0.9830 - val_loss: 0.0135 - val_accuracy: 0.9806\n",
            "Epoch 16/200\n",
            "356/356 [==============================] - 1s 3ms/step - loss: 0.0087 - accuracy: 0.9884 - val_loss: 0.0116 - val_accuracy: 0.9840\n",
            "Epoch 17/200\n",
            "356/356 [==============================] - 1s 3ms/step - loss: 0.0070 - accuracy: 0.9923 - val_loss: 0.0117 - val_accuracy: 0.9840\n",
            "Epoch 18/200\n",
            "356/356 [==============================] - 1s 3ms/step - loss: 0.0037 - accuracy: 0.9967 - val_loss: 0.0092 - val_accuracy: 0.9873\n",
            "Epoch 19/200\n",
            "356/356 [==============================] - 1s 3ms/step - loss: 0.0047 - accuracy: 0.9954 - val_loss: 0.0083 - val_accuracy: 0.9907\n",
            "Epoch 20/200\n",
            "356/356 [==============================] - 1s 3ms/step - loss: 0.0028 - accuracy: 0.9963 - val_loss: 0.0080 - val_accuracy: 0.9924\n",
            "Epoch 21/200\n",
            "356/356 [==============================] - 1s 3ms/step - loss: 0.0029 - accuracy: 0.9973 - val_loss: 0.0082 - val_accuracy: 0.9907\n",
            "Epoch 22/200\n",
            "356/356 [==============================] - 1s 3ms/step - loss: 0.0033 - accuracy: 0.9971 - val_loss: 0.0072 - val_accuracy: 0.9916\n",
            "Epoch 23/200\n",
            "356/356 [==============================] - 1s 3ms/step - loss: 0.0036 - accuracy: 0.9968 - val_loss: 0.0073 - val_accuracy: 0.9924\n",
            "Epoch 24/200\n",
            "356/356 [==============================] - 1s 3ms/step - loss: 0.0047 - accuracy: 0.9944 - val_loss: 0.0069 - val_accuracy: 0.9932\n",
            "Epoch 25/200\n",
            "356/356 [==============================] - 1s 3ms/step - loss: 0.0033 - accuracy: 0.9964 - val_loss: 0.0067 - val_accuracy: 0.9924\n",
            "Epoch 26/200\n",
            "356/356 [==============================] - 1s 3ms/step - loss: 0.0030 - accuracy: 0.9969 - val_loss: 0.0082 - val_accuracy: 0.9907\n",
            "Epoch 27/200\n",
            "356/356 [==============================] - 1s 3ms/step - loss: 0.0021 - accuracy: 0.9980 - val_loss: 0.0065 - val_accuracy: 0.9932\n",
            "Epoch 28/200\n",
            "356/356 [==============================] - 1s 3ms/step - loss: 0.0012 - accuracy: 0.9991 - val_loss: 0.0072 - val_accuracy: 0.9916\n",
            "Epoch 29/200\n",
            "356/356 [==============================] - 1s 3ms/step - loss: 0.0022 - accuracy: 0.9978 - val_loss: 0.0069 - val_accuracy: 0.9924\n",
            "Epoch 30/200\n",
            "356/356 [==============================] - 1s 3ms/step - loss: 0.0024 - accuracy: 0.9976 - val_loss: 0.0069 - val_accuracy: 0.9932\n",
            "Epoch 31/200\n",
            "356/356 [==============================] - 1s 3ms/step - loss: 0.0026 - accuracy: 0.9975 - val_loss: 0.0069 - val_accuracy: 0.9916\n",
            "Epoch 32/200\n",
            "356/356 [==============================] - 1s 3ms/step - loss: 0.0026 - accuracy: 0.9976 - val_loss: 0.0071 - val_accuracy: 0.9916\n",
            "Epoch 33/200\n",
            "356/356 [==============================] - 1s 3ms/step - loss: 0.0019 - accuracy: 0.9982 - val_loss: 0.0061 - val_accuracy: 0.9932\n",
            "Epoch 34/200\n",
            "356/356 [==============================] - 1s 3ms/step - loss: 0.0015 - accuracy: 0.9986 - val_loss: 0.0067 - val_accuracy: 0.9924\n",
            "Epoch 35/200\n",
            "356/356 [==============================] - 1s 3ms/step - loss: 0.0023 - accuracy: 0.9975 - val_loss: 0.0064 - val_accuracy: 0.9932\n",
            "Epoch 36/200\n",
            "356/356 [==============================] - 1s 3ms/step - loss: 0.0014 - accuracy: 0.9988 - val_loss: 0.0062 - val_accuracy: 0.9932\n",
            "Epoch 37/200\n",
            "356/356 [==============================] - 1s 3ms/step - loss: 0.0023 - accuracy: 0.9979 - val_loss: 0.0066 - val_accuracy: 0.9932\n",
            "Epoch 38/200\n",
            "356/356 [==============================] - 1s 3ms/step - loss: 0.0046 - accuracy: 0.9954 - val_loss: 0.0059 - val_accuracy: 0.9932\n",
            "Epoch 39/200\n",
            "356/356 [==============================] - 1s 3ms/step - loss: 0.0026 - accuracy: 0.9974 - val_loss: 0.0070 - val_accuracy: 0.9924\n",
            "Epoch 40/200\n",
            "356/356 [==============================] - 1s 3ms/step - loss: 0.0038 - accuracy: 0.9954 - val_loss: 0.0113 - val_accuracy: 0.9873\n",
            "Epoch 41/200\n",
            "356/356 [==============================] - 1s 3ms/step - loss: 0.0024 - accuracy: 0.9973 - val_loss: 0.0070 - val_accuracy: 0.9924\n",
            "Epoch 42/200\n",
            "356/356 [==============================] - 1s 3ms/step - loss: 0.0032 - accuracy: 0.9967 - val_loss: 0.0084 - val_accuracy: 0.9899\n",
            "Epoch 43/200\n",
            "356/356 [==============================] - 1s 3ms/step - loss: 0.0022 - accuracy: 0.9973 - val_loss: 0.0070 - val_accuracy: 0.9916\n",
            "Epoch 44/200\n",
            "356/356 [==============================] - 1s 3ms/step - loss: 0.0025 - accuracy: 0.9975 - val_loss: 0.0069 - val_accuracy: 0.9924\n",
            "Epoch 45/200\n",
            "356/356 [==============================] - 1s 3ms/step - loss: 0.0015 - accuracy: 0.9986 - val_loss: 0.0062 - val_accuracy: 0.9924\n",
            "Epoch 46/200\n",
            "356/356 [==============================] - 1s 3ms/step - loss: 0.0017 - accuracy: 0.9982 - val_loss: 0.0067 - val_accuracy: 0.9932\n",
            "Epoch 47/200\n",
            "356/356 [==============================] - 1s 3ms/step - loss: 0.0019 - accuracy: 0.9981 - val_loss: 0.0067 - val_accuracy: 0.9932\n",
            "Epoch 48/200\n",
            "356/356 [==============================] - 1s 3ms/step - loss: 0.0024 - accuracy: 0.9973 - val_loss: 0.0068 - val_accuracy: 0.9916\n",
            "Epoch 49/200\n",
            "356/356 [==============================] - 1s 3ms/step - loss: 0.0017 - accuracy: 0.9983 - val_loss: 0.0066 - val_accuracy: 0.9932\n",
            "Epoch 50/200\n",
            "356/356 [==============================] - 1s 3ms/step - loss: 9.9395e-04 - accuracy: 0.9990 - val_loss: 0.0069 - val_accuracy: 0.9924\n",
            "Epoch 51/200\n",
            "356/356 [==============================] - 1s 3ms/step - loss: 9.1808e-04 - accuracy: 0.9991 - val_loss: 0.0067 - val_accuracy: 0.9932\n",
            "Epoch 52/200\n",
            "356/356 [==============================] - 1s 3ms/step - loss: 0.0019 - accuracy: 0.9980 - val_loss: 0.0068 - val_accuracy: 0.9932\n",
            "Epoch 53/200\n",
            "356/356 [==============================] - 1s 3ms/step - loss: 0.0029 - accuracy: 0.9967 - val_loss: 0.0074 - val_accuracy: 0.9916\n",
            "Epoch 54/200\n",
            "356/356 [==============================] - 1s 3ms/step - loss: 0.0023 - accuracy: 0.9980 - val_loss: 0.0061 - val_accuracy: 0.9932\n",
            "Epoch 55/200\n",
            "356/356 [==============================] - 1s 3ms/step - loss: 0.0033 - accuracy: 0.9963 - val_loss: 0.0096 - val_accuracy: 0.9882\n",
            "Epoch 56/200\n",
            "356/356 [==============================] - 1s 3ms/step - loss: 0.0020 - accuracy: 0.9975 - val_loss: 0.0072 - val_accuracy: 0.9924\n",
            "Epoch 57/200\n",
            "356/356 [==============================] - 1s 3ms/step - loss: 0.0012 - accuracy: 0.9990 - val_loss: 0.0069 - val_accuracy: 0.9924\n",
            "Epoch 58/200\n",
            "356/356 [==============================] - 1s 3ms/step - loss: 0.0011 - accuracy: 0.9989 - val_loss: 0.0084 - val_accuracy: 0.9899\n"
          ],
          "name": "stdout"
        },
        {
          "output_type": "execute_result",
          "data": {
            "text/plain": [
              "<keras.callbacks.History at 0x7fd00f773e90>"
            ]
          },
          "metadata": {
            "tags": []
          },
          "execution_count": 30
        }
      ]
    },
    {
      "cell_type": "code",
      "metadata": {
        "id": "ydBFYeQjufdV"
      },
      "source": [
        "trial=keras.models.load_model('best-Model.h5')"
      ],
      "execution_count": 31,
      "outputs": []
    },
    {
      "cell_type": "code",
      "metadata": {
        "id": "X3zOSarVumn9",
        "colab": {
          "base_uri": "https://localhost:8080/"
        },
        "outputId": "417b28bc-6ada-4fcc-f690-486f2559d79f"
      },
      "source": [
        "test=model.evaluate(x_test,y_test)"
      ],
      "execution_count": 32,
      "outputs": [
        {
          "output_type": "stream",
          "text": [
            "50/50 [==============================] - 0s 2ms/step - loss: 0.0037 - accuracy: 0.9962\n"
          ],
          "name": "stdout"
        }
      ]
    },
    {
      "cell_type": "code",
      "metadata": {
        "id": "Ry_DSW5JUamF"
      },
      "source": [
        "y_pred=model.predict(x_test).ravel()"
      ],
      "execution_count": 43,
      "outputs": []
    },
    {
      "cell_type": "code",
      "metadata": {
        "id": "HiImC7QCc9td",
        "colab": {
          "base_uri": "https://localhost:8080/"
        },
        "outputId": "c8b65ca1-2f77-46a6-d6bd-1c316ae6140a"
      },
      "source": [
        "print(type(y_pred))\n",
        "print(type(y_test))"
      ],
      "execution_count": 35,
      "outputs": [
        {
          "output_type": "stream",
          "text": [
            "<class 'numpy.ndarray'>\n",
            "<class 'pandas.core.series.Series'>\n"
          ],
          "name": "stdout"
        }
      ]
    },
    {
      "cell_type": "code",
      "metadata": {
        "id": "sHei3dm_S8Ik"
      },
      "source": [
        ""
      ],
      "execution_count": 35,
      "outputs": []
    },
    {
      "cell_type": "code",
      "metadata": {
        "id": "zgBtEPPfdCbn",
        "colab": {
          "base_uri": "https://localhost:8080/"
        },
        "outputId": "5efeca20-ad71-4b48-a37b-40bf26ddaff4"
      },
      "source": [
        "y_pred"
      ],
      "execution_count": 36,
      "outputs": [
        {
          "output_type": "execute_result",
          "data": {
            "text/plain": [
              "array([5.2344939e-14, 9.9866128e-01, 1.2405225e-05, ..., 2.5538222e-12,\n",
              "       2.2774325e-13, 8.1943716e-14], dtype=float32)"
            ]
          },
          "metadata": {
            "tags": []
          },
          "execution_count": 36
        }
      ]
    },
    {
      "cell_type": "code",
      "metadata": {
        "id": "NoL9piGXdEnQ",
        "colab": {
          "base_uri": "https://localhost:8080/"
        },
        "outputId": "7e0bde40-72dd-4c59-8fbc-a979c3312d85"
      },
      "source": [
        "y_test.values"
      ],
      "execution_count": 37,
      "outputs": [
        {
          "output_type": "execute_result",
          "data": {
            "text/plain": [
              "array([0, 1, 0, ..., 0, 0, 0])"
            ]
          },
          "metadata": {
            "tags": []
          },
          "execution_count": 37
        }
      ]
    },
    {
      "cell_type": "code",
      "metadata": {
        "id": "E9sRjgkuS_hE"
      },
      "source": [
        ""
      ],
      "execution_count": 37,
      "outputs": []
    },
    {
      "cell_type": "code",
      "metadata": {
        "id": "Z6Jns76HTE56",
        "colab": {
          "base_uri": "https://localhost:8080/",
          "height": 295
        },
        "outputId": "679b514d-c62a-453c-e83c-f5945cd3493a"
      },
      "source": [
        "import numpy as np\n",
        "from sklearn import metrics\n",
        "import matplotlib.pyplot as plt\n",
        "from sklearn.metrics import roc_curve\n",
        "\n",
        "\n",
        "y_pred=y_pred.ravel()\n",
        "fpr, tpr, thresholds = metrics.roc_curve(y_test, y_pred)\n",
        "\n",
        "plt.figure(1)\n",
        "plt.plot([0,1],[0,1],'y--')\n",
        "plt.plot(fpr,tpr,label=\"data\")\n",
        "plt.title('ROC curve')\n",
        "plt.xlabel('False Positive Rate')\n",
        "plt.ylabel('True Positive Rate')\n",
        "plt.legend(loc=4)\n",
        "plt.show()"
      ],
      "execution_count": 45,
      "outputs": [
        {
          "output_type": "display_data",
          "data": {
            "image/png": "[encoded data removed]",
            "text/plain": [
              "<Figure size 432x288 with 1 Axes>"
            ]
          },
          "metadata": {
            "tags": [],
            "needs_background": "light"
          }
        }
      ]
    },
    {
      "cell_type": "code",
      "metadata": {
        "colab": {
          "base_uri": "https://localhost:8080/"
        },
        "id": "RKT77yo9Xot3",
        "outputId": "d22486cd-b2cc-4751-fb56-fae8e347951b"
      },
      "source": [
        "from sklearn.metrics import roc_auc_score\n",
        "\n",
        "score= metrics.roc_auc_score(y_test, y_pred)\n",
        "score"
      ],
      "execution_count": 50,
      "outputs": [
        {
          "output_type": "execute_result",
          "data": {
            "text/plain": [
              "0.9972836862558491"
            ]
          },
          "metadata": {
            "tags": []
          },
          "execution_count": 50
        }
      ]
    },
    {
      "cell_type": "code",
      "metadata": {
        "id": "0opCX2QDdimN",
        "colab": {
          "base_uri": "https://localhost:8080/"
        },
        "outputId": "f056d679-d7dd-4565-cb27-013fb83dd520"
      },
      "source": [
        "y_pred=np.where(y_pred>=0.5,1,0)\n",
        "y_pred=y_pred.flatten()\n",
        "confusion_matrix(y_test,y_pred)"
      ],
      "execution_count": 39,
      "outputs": [
        {
          "output_type": "execute_result",
          "data": {
            "text/plain": [
              "array([[1397,    4],\n",
              "       [   2,  178]])"
            ]
          },
          "metadata": {
            "tags": []
          },
          "execution_count": 39
        }
      ]
    },
    {
      "cell_type": "code",
      "metadata": {
        "colab": {
          "base_uri": "https://localhost:8080/"
        },
        "id": "7g3mP_PfUxAz",
        "outputId": "637b5ba3-d923-49b7-8cf4-7d323a5957b3"
      },
      "source": [
        "fpr"
      ],
      "execution_count": 41,
      "outputs": [
        {
          "output_type": "execute_result",
          "data": {
            "text/plain": [
              "array([0.        , 0.        , 0.        , 0.        , 0.        ,\n",
              "       0.        , 0.        , 0.        , 0.        , 0.00142755,\n",
              "       0.00142755, 0.00214133, 0.00214133, 0.0028551 , 0.0028551 ,\n",
              "       0.18772305, 0.18772305, 1.        ])"
            ]
          },
          "metadata": {
            "tags": []
          },
          "execution_count": 41
        }
      ]
    },
    {
      "cell_type": "code",
      "metadata": {
        "colab": {
          "base_uri": "https://localhost:8080/"
        },
        "id": "tqOOTupLUzvA",
        "outputId": "6fd0f9fb-399c-469f-ca35-d2503b585a8d"
      },
      "source": [
        "tpr"
      ],
      "execution_count": 42,
      "outputs": [
        {
          "output_type": "execute_result",
          "data": {
            "text/plain": [
              "array([0.        , 0.00555556, 0.02222222, 0.04444444, 0.05555556,\n",
              "       0.06666667, 0.09444444, 0.10555556, 0.15555556, 0.15555556,\n",
              "       0.35555556, 0.35555556, 0.96666667, 0.96666667, 0.99444444,\n",
              "       0.99444444, 1.        , 1.        ])"
            ]
          },
          "metadata": {
            "tags": []
          },
          "execution_count": 42
        }
      ]
    },
    {
      "cell_type": "code",
      "metadata": {
        "id": "OwzodsM9uq6V"
      },
      "source": [
        "keras.backend.clear_session()"
      ],
      "execution_count": null,
      "outputs": []
    },
    {
      "cell_type": "code",
      "metadata": {
        "id": "vWjqh48cuzBs"
      },
      "source": [
        "del model"
      ],
      "execution_count": null,
      "outputs": []
    },
    {
      "cell_type": "code",
      "metadata": {
        "id": "-G569k8Fu-9k"
      },
      "source": [
        ""
      ],
      "execution_count": null,
      "outputs": []
    }
  ]
}