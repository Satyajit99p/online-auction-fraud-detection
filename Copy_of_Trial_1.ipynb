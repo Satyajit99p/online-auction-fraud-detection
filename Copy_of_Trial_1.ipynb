{
  "nbformat": 4,
  "nbformat_minor": 0,
  "metadata": {
    "colab": {
      "name": "Copy of Trial_1.ipynb",
      "provenance": [],
      "collapsed_sections": [],
      "authorship_tag": "ABX9TyNkyJL8ptcwB2N7vY2UzGs1",
      "include_colab_link": true
    },
    "kernelspec": {
      "name": "python3",
      "display_name": "Python 3"
    },
    "accelerator": "GPU"
  },
  "cells": [
    {
      "cell_type": "markdown",
      "metadata": {
        "id": "view-in-github",
        "colab_type": "text"
      },
      "source": [
        "<a href=\"https://colab.research.google.com/github/Satyajit99p/online-auction-fraud-detection/blob/master/Copy_of_Trial_1.ipynb\" target=\"_parent\"><img src=\"https://colab.research.google.com/assets/colab-badge.svg\" alt=\"Open In Colab\"/></a>"
      ]
    },
    {
      "cell_type": "code",
      "metadata": {
        "id": "SL4YSaKO7uzu"
      },
      "source": [
        "from google.colab import drive"
      ],
      "execution_count": 1,
      "outputs": []
    },
    {
      "cell_type": "code",
      "metadata": {
        "id": "t2NtPDWN8LNs",
        "outputId": "aa6b87d3-b76a-4c67-8eb7-6c698fdcc756",
        "colab": {
          "base_uri": "https://localhost:8080/",
          "height": 34
        }
      },
      "source": [
        "drive.mount('/content/drive')"
      ],
      "execution_count": 2,
      "outputs": [
        {
          "output_type": "stream",
          "text": [
            "Mounted at /content/drive\n"
          ],
          "name": "stdout"
        }
      ]
    },
    {
      "cell_type": "code",
      "metadata": {
        "id": "KUoW3Axh8clO",
        "outputId": "751bf9f5-7f29-47ae-9c65-4a5e8fad6d7e",
        "colab": {
          "base_uri": "https://localhost:8080/",
          "height": 35
        }
      },
      "source": [
        "import os\n",
        "os.getcwd()"
      ],
      "execution_count": 3,
      "outputs": [
        {
          "output_type": "execute_result",
          "data": {
            "application/vnd.google.colaboratory.intrinsic+json": {
              "type": "string"
            },
            "text/plain": [
              "'/content'"
            ]
          },
          "metadata": {
            "tags": []
          },
          "execution_count": 3
        }
      ]
    },
    {
      "cell_type": "code",
      "metadata": {
        "id": "wuQfeDPL8oD1"
      },
      "source": [
        "os.chdir('/content/drive/My Drive/online auction fraud detection')"
      ],
      "execution_count": 4,
      "outputs": []
    },
    {
      "cell_type": "markdown",
      "metadata": {
        "id": "EmO15gGJOYPx"
      },
      "source": [
        "PREPROCESSING\n"
      ]
    },
    {
      "cell_type": "code",
      "metadata": {
        "id": "btf9h-hL85Y0",
        "outputId": "6aecfe1e-9f11-4007-ec58-eb95b3f79e0f",
        "colab": {
          "base_uri": "https://localhost:8080/",
          "height": 71
        }
      },
      "source": [
        "import pandas as pd\n",
        "import numpy as np\n",
        "import seaborn as sb"
      ],
      "execution_count": 5,
      "outputs": [
        {
          "output_type": "stream",
          "text": [
            "/usr/local/lib/python3.6/dist-packages/statsmodels/tools/_testing.py:19: FutureWarning: pandas.util.testing is deprecated. Use the functions in the public API at pandas.testing instead.\n",
            "  import pandas.util.testing as tm\n"
          ],
          "name": "stderr"
        }
      ]
    },
    {
      "cell_type": "code",
      "metadata": {
        "id": "DPEG4Sdj9Doz"
      },
      "source": [
        "data=pd.read_csv('Online Auction_Shill Bidding Dataset.csv')"
      ],
      "execution_count": 6,
      "outputs": []
    },
    {
      "cell_type": "code",
      "metadata": {
        "id": "c3MUnIBJ9Pur",
        "outputId": "4a4fdc2c-5877-459e-fd3d-27d258030062",
        "colab": {
          "base_uri": "https://localhost:8080/",
          "height": 317
        }
      },
      "source": [
        "data.describe()"
      ],
      "execution_count": 7,
      "outputs": [
        {
          "output_type": "execute_result",
          "data": {
            "text/html": [
              "<div>\n",
              "<style scoped>\n",
              "    .dataframe tbody tr th:only-of-type {\n",
              "        vertical-align: middle;\n",
              "    }\n",
              "\n",
              "    .dataframe tbody tr th {\n",
              "        vertical-align: top;\n",
              "    }\n",
              "\n",
              "    .dataframe thead th {\n",
              "        text-align: right;\n",
              "    }\n",
              "</style>\n",
              "<table border=\"1\" class=\"dataframe\">\n",
              "  <thead>\n",
              "    <tr style=\"text-align: right;\">\n",
              "      <th></th>\n",
              "      <th>Record_ID</th>\n",
              "      <th>Auction_ID</th>\n",
              "      <th>Bidder_Tendency</th>\n",
              "      <th>Bidding_Ratio</th>\n",
              "      <th>Successive_Outbidding</th>\n",
              "      <th>Last_Bidding</th>\n",
              "      <th>Auction_Bids</th>\n",
              "      <th>Starting_Price_Average</th>\n",
              "      <th>Early_Bidding</th>\n",
              "      <th>Winning_Ratio</th>\n",
              "      <th>Auction_Duration</th>\n",
              "      <th>Class</th>\n",
              "    </tr>\n",
              "  </thead>\n",
              "  <tbody>\n",
              "    <tr>\n",
              "      <th>count</th>\n",
              "      <td>6321.000000</td>\n",
              "      <td>6321.000000</td>\n",
              "      <td>6321.000000</td>\n",
              "      <td>6321.000000</td>\n",
              "      <td>6321.000000</td>\n",
              "      <td>6321.000000</td>\n",
              "      <td>6321.000000</td>\n",
              "      <td>6321.000000</td>\n",
              "      <td>6321.000000</td>\n",
              "      <td>6321.000000</td>\n",
              "      <td>6321.000000</td>\n",
              "      <td>6321.000000</td>\n",
              "    </tr>\n",
              "    <tr>\n",
              "      <th>mean</th>\n",
              "      <td>7535.829457</td>\n",
              "      <td>1241.388230</td>\n",
              "      <td>0.142541</td>\n",
              "      <td>0.127670</td>\n",
              "      <td>0.103781</td>\n",
              "      <td>0.463119</td>\n",
              "      <td>0.231606</td>\n",
              "      <td>0.472821</td>\n",
              "      <td>0.430683</td>\n",
              "      <td>0.367731</td>\n",
              "      <td>4.615093</td>\n",
              "      <td>0.106787</td>\n",
              "    </tr>\n",
              "    <tr>\n",
              "      <th>std</th>\n",
              "      <td>4364.759137</td>\n",
              "      <td>735.770789</td>\n",
              "      <td>0.197084</td>\n",
              "      <td>0.131530</td>\n",
              "      <td>0.279698</td>\n",
              "      <td>0.380097</td>\n",
              "      <td>0.255252</td>\n",
              "      <td>0.489912</td>\n",
              "      <td>0.380785</td>\n",
              "      <td>0.436573</td>\n",
              "      <td>2.466629</td>\n",
              "      <td>0.308867</td>\n",
              "    </tr>\n",
              "    <tr>\n",
              "      <th>min</th>\n",
              "      <td>1.000000</td>\n",
              "      <td>5.000000</td>\n",
              "      <td>0.000000</td>\n",
              "      <td>0.011765</td>\n",
              "      <td>0.000000</td>\n",
              "      <td>0.000000</td>\n",
              "      <td>0.000000</td>\n",
              "      <td>0.000000</td>\n",
              "      <td>0.000000</td>\n",
              "      <td>0.000000</td>\n",
              "      <td>1.000000</td>\n",
              "      <td>0.000000</td>\n",
              "    </tr>\n",
              "    <tr>\n",
              "      <th>25%</th>\n",
              "      <td>3778.000000</td>\n",
              "      <td>589.000000</td>\n",
              "      <td>0.027027</td>\n",
              "      <td>0.043478</td>\n",
              "      <td>0.000000</td>\n",
              "      <td>0.047928</td>\n",
              "      <td>0.000000</td>\n",
              "      <td>0.000000</td>\n",
              "      <td>0.026620</td>\n",
              "      <td>0.000000</td>\n",
              "      <td>3.000000</td>\n",
              "      <td>0.000000</td>\n",
              "    </tr>\n",
              "    <tr>\n",
              "      <th>50%</th>\n",
              "      <td>7591.000000</td>\n",
              "      <td>1246.000000</td>\n",
              "      <td>0.062500</td>\n",
              "      <td>0.083333</td>\n",
              "      <td>0.000000</td>\n",
              "      <td>0.440937</td>\n",
              "      <td>0.142857</td>\n",
              "      <td>0.000000</td>\n",
              "      <td>0.360104</td>\n",
              "      <td>0.000000</td>\n",
              "      <td>5.000000</td>\n",
              "      <td>0.000000</td>\n",
              "    </tr>\n",
              "    <tr>\n",
              "      <th>75%</th>\n",
              "      <td>11277.000000</td>\n",
              "      <td>1867.000000</td>\n",
              "      <td>0.166667</td>\n",
              "      <td>0.166667</td>\n",
              "      <td>0.000000</td>\n",
              "      <td>0.860363</td>\n",
              "      <td>0.454545</td>\n",
              "      <td>0.993593</td>\n",
              "      <td>0.826761</td>\n",
              "      <td>0.851852</td>\n",
              "      <td>7.000000</td>\n",
              "      <td>0.000000</td>\n",
              "    </tr>\n",
              "    <tr>\n",
              "      <th>max</th>\n",
              "      <td>15144.000000</td>\n",
              "      <td>2538.000000</td>\n",
              "      <td>1.000000</td>\n",
              "      <td>1.000000</td>\n",
              "      <td>1.000000</td>\n",
              "      <td>0.999900</td>\n",
              "      <td>0.788235</td>\n",
              "      <td>0.999935</td>\n",
              "      <td>0.999900</td>\n",
              "      <td>1.000000</td>\n",
              "      <td>10.000000</td>\n",
              "      <td>1.000000</td>\n",
              "    </tr>\n",
              "  </tbody>\n",
              "</table>\n",
              "</div>"
            ],
            "text/plain": [
              "          Record_ID   Auction_ID  ...  Auction_Duration        Class\n",
              "count   6321.000000  6321.000000  ...       6321.000000  6321.000000\n",
              "mean    7535.829457  1241.388230  ...          4.615093     0.106787\n",
              "std     4364.759137   735.770789  ...          2.466629     0.308867\n",
              "min        1.000000     5.000000  ...          1.000000     0.000000\n",
              "25%     3778.000000   589.000000  ...          3.000000     0.000000\n",
              "50%     7591.000000  1246.000000  ...          5.000000     0.000000\n",
              "75%    11277.000000  1867.000000  ...          7.000000     0.000000\n",
              "max    15144.000000  2538.000000  ...         10.000000     1.000000\n",
              "\n",
              "[8 rows x 12 columns]"
            ]
          },
          "metadata": {
            "tags": []
          },
          "execution_count": 7
        }
      ]
    },
    {
      "cell_type": "code",
      "metadata": {
        "id": "MUuIQbIp9SOD",
        "outputId": "7d1e39ed-91f7-46ff-d146-cd23bc84d999",
        "colab": {
          "base_uri": "https://localhost:8080/",
          "height": 357
        }
      },
      "source": [
        "data.info()"
      ],
      "execution_count": 8,
      "outputs": [
        {
          "output_type": "stream",
          "text": [
            "<class 'pandas.core.frame.DataFrame'>\n",
            "RangeIndex: 6321 entries, 0 to 6320\n",
            "Data columns (total 13 columns):\n",
            " #   Column                  Non-Null Count  Dtype  \n",
            "---  ------                  --------------  -----  \n",
            " 0   Record_ID               6321 non-null   int64  \n",
            " 1   Auction_ID              6321 non-null   int64  \n",
            " 2   Bidder_ID               6321 non-null   object \n",
            " 3   Bidder_Tendency         6321 non-null   float64\n",
            " 4   Bidding_Ratio           6321 non-null   float64\n",
            " 5   Successive_Outbidding   6321 non-null   float64\n",
            " 6   Last_Bidding            6321 non-null   float64\n",
            " 7   Auction_Bids            6321 non-null   float64\n",
            " 8   Starting_Price_Average  6321 non-null   float64\n",
            " 9   Early_Bidding           6321 non-null   float64\n",
            " 10  Winning_Ratio           6321 non-null   float64\n",
            " 11  Auction_Duration        6321 non-null   int64  \n",
            " 12  Class                   6321 non-null   int64  \n",
            "dtypes: float64(8), int64(4), object(1)\n",
            "memory usage: 642.1+ KB\n"
          ],
          "name": "stdout"
        }
      ]
    },
    {
      "cell_type": "code",
      "metadata": {
        "id": "KUyFnmsd9Vg6",
        "outputId": "8b9355e4-e2a8-4332-ae21-001bbc82317f",
        "colab": {
          "base_uri": "https://localhost:8080/",
          "height": 379
        }
      },
      "source": [
        "data.head(10)"
      ],
      "execution_count": 9,
      "outputs": [
        {
          "output_type": "execute_result",
          "data": {
            "text/html": [
              "<div>\n",
              "<style scoped>\n",
              "    .dataframe tbody tr th:only-of-type {\n",
              "        vertical-align: middle;\n",
              "    }\n",
              "\n",
              "    .dataframe tbody tr th {\n",
              "        vertical-align: top;\n",
              "    }\n",
              "\n",
              "    .dataframe thead th {\n",
              "        text-align: right;\n",
              "    }\n",
              "</style>\n",
              "<table border=\"1\" class=\"dataframe\">\n",
              "  <thead>\n",
              "    <tr style=\"text-align: right;\">\n",
              "      <th></th>\n",
              "      <th>Record_ID</th>\n",
              "      <th>Auction_ID</th>\n",
              "      <th>Bidder_ID</th>\n",
              "      <th>Bidder_Tendency</th>\n",
              "      <th>Bidding_Ratio</th>\n",
              "      <th>Successive_Outbidding</th>\n",
              "      <th>Last_Bidding</th>\n",
              "      <th>Auction_Bids</th>\n",
              "      <th>Starting_Price_Average</th>\n",
              "      <th>Early_Bidding</th>\n",
              "      <th>Winning_Ratio</th>\n",
              "      <th>Auction_Duration</th>\n",
              "      <th>Class</th>\n",
              "    </tr>\n",
              "  </thead>\n",
              "  <tbody>\n",
              "    <tr>\n",
              "      <th>0</th>\n",
              "      <td>1</td>\n",
              "      <td>732</td>\n",
              "      <td>_***i</td>\n",
              "      <td>0.200000</td>\n",
              "      <td>0.400000</td>\n",
              "      <td>0.0</td>\n",
              "      <td>0.000028</td>\n",
              "      <td>0.000000</td>\n",
              "      <td>0.993593</td>\n",
              "      <td>0.000028</td>\n",
              "      <td>0.666667</td>\n",
              "      <td>5</td>\n",
              "      <td>0</td>\n",
              "    </tr>\n",
              "    <tr>\n",
              "      <th>1</th>\n",
              "      <td>2</td>\n",
              "      <td>732</td>\n",
              "      <td>g***r</td>\n",
              "      <td>0.024390</td>\n",
              "      <td>0.200000</td>\n",
              "      <td>0.0</td>\n",
              "      <td>0.013123</td>\n",
              "      <td>0.000000</td>\n",
              "      <td>0.993593</td>\n",
              "      <td>0.013123</td>\n",
              "      <td>0.944444</td>\n",
              "      <td>5</td>\n",
              "      <td>0</td>\n",
              "    </tr>\n",
              "    <tr>\n",
              "      <th>2</th>\n",
              "      <td>3</td>\n",
              "      <td>732</td>\n",
              "      <td>t***p</td>\n",
              "      <td>0.142857</td>\n",
              "      <td>0.200000</td>\n",
              "      <td>0.0</td>\n",
              "      <td>0.003042</td>\n",
              "      <td>0.000000</td>\n",
              "      <td>0.993593</td>\n",
              "      <td>0.003042</td>\n",
              "      <td>1.000000</td>\n",
              "      <td>5</td>\n",
              "      <td>0</td>\n",
              "    </tr>\n",
              "    <tr>\n",
              "      <th>3</th>\n",
              "      <td>4</td>\n",
              "      <td>732</td>\n",
              "      <td>7***n</td>\n",
              "      <td>0.100000</td>\n",
              "      <td>0.200000</td>\n",
              "      <td>0.0</td>\n",
              "      <td>0.097477</td>\n",
              "      <td>0.000000</td>\n",
              "      <td>0.993593</td>\n",
              "      <td>0.097477</td>\n",
              "      <td>1.000000</td>\n",
              "      <td>5</td>\n",
              "      <td>0</td>\n",
              "    </tr>\n",
              "    <tr>\n",
              "      <th>4</th>\n",
              "      <td>5</td>\n",
              "      <td>900</td>\n",
              "      <td>z***z</td>\n",
              "      <td>0.051282</td>\n",
              "      <td>0.222222</td>\n",
              "      <td>0.0</td>\n",
              "      <td>0.001318</td>\n",
              "      <td>0.000000</td>\n",
              "      <td>0.000000</td>\n",
              "      <td>0.001242</td>\n",
              "      <td>0.500000</td>\n",
              "      <td>7</td>\n",
              "      <td>0</td>\n",
              "    </tr>\n",
              "    <tr>\n",
              "      <th>5</th>\n",
              "      <td>8</td>\n",
              "      <td>900</td>\n",
              "      <td>i***e</td>\n",
              "      <td>0.038462</td>\n",
              "      <td>0.111111</td>\n",
              "      <td>0.0</td>\n",
              "      <td>0.016844</td>\n",
              "      <td>0.000000</td>\n",
              "      <td>0.000000</td>\n",
              "      <td>0.016844</td>\n",
              "      <td>0.800000</td>\n",
              "      <td>7</td>\n",
              "      <td>0</td>\n",
              "    </tr>\n",
              "    <tr>\n",
              "      <th>6</th>\n",
              "      <td>10</td>\n",
              "      <td>900</td>\n",
              "      <td>m***p</td>\n",
              "      <td>0.400000</td>\n",
              "      <td>0.222222</td>\n",
              "      <td>0.0</td>\n",
              "      <td>0.006781</td>\n",
              "      <td>0.000000</td>\n",
              "      <td>0.000000</td>\n",
              "      <td>0.006774</td>\n",
              "      <td>0.750000</td>\n",
              "      <td>7</td>\n",
              "      <td>0</td>\n",
              "    </tr>\n",
              "    <tr>\n",
              "      <th>7</th>\n",
              "      <td>12</td>\n",
              "      <td>900</td>\n",
              "      <td>k***a</td>\n",
              "      <td>0.137931</td>\n",
              "      <td>0.444444</td>\n",
              "      <td>1.0</td>\n",
              "      <td>0.768044</td>\n",
              "      <td>0.000000</td>\n",
              "      <td>0.000000</td>\n",
              "      <td>0.016311</td>\n",
              "      <td>1.000000</td>\n",
              "      <td>7</td>\n",
              "      <td>1</td>\n",
              "    </tr>\n",
              "    <tr>\n",
              "      <th>8</th>\n",
              "      <td>13</td>\n",
              "      <td>2370</td>\n",
              "      <td>g***r</td>\n",
              "      <td>0.121951</td>\n",
              "      <td>0.185185</td>\n",
              "      <td>1.0</td>\n",
              "      <td>0.035021</td>\n",
              "      <td>0.333333</td>\n",
              "      <td>0.993528</td>\n",
              "      <td>0.023963</td>\n",
              "      <td>0.944444</td>\n",
              "      <td>7</td>\n",
              "      <td>1</td>\n",
              "    </tr>\n",
              "    <tr>\n",
              "      <th>9</th>\n",
              "      <td>27</td>\n",
              "      <td>600</td>\n",
              "      <td>e***t</td>\n",
              "      <td>0.155172</td>\n",
              "      <td>0.346154</td>\n",
              "      <td>0.5</td>\n",
              "      <td>0.570994</td>\n",
              "      <td>0.307692</td>\n",
              "      <td>0.993593</td>\n",
              "      <td>0.413788</td>\n",
              "      <td>0.611111</td>\n",
              "      <td>7</td>\n",
              "      <td>1</td>\n",
              "    </tr>\n",
              "  </tbody>\n",
              "</table>\n",
              "</div>"
            ],
            "text/plain": [
              "   Record_ID  Auction_ID Bidder_ID  ...  Winning_Ratio  Auction_Duration  Class\n",
              "0          1         732     _***i  ...       0.666667                 5      0\n",
              "1          2         732     g***r  ...       0.944444                 5      0\n",
              "2          3         732     t***p  ...       1.000000                 5      0\n",
              "3          4         732     7***n  ...       1.000000                 5      0\n",
              "4          5         900     z***z  ...       0.500000                 7      0\n",
              "5          8         900     i***e  ...       0.800000                 7      0\n",
              "6         10         900     m***p  ...       0.750000                 7      0\n",
              "7         12         900     k***a  ...       1.000000                 7      1\n",
              "8         13        2370     g***r  ...       0.944444                 7      1\n",
              "9         27         600     e***t  ...       0.611111                 7      1\n",
              "\n",
              "[10 rows x 13 columns]"
            ]
          },
          "metadata": {
            "tags": []
          },
          "execution_count": 9
        }
      ]
    },
    {
      "cell_type": "code",
      "metadata": {
        "id": "LhS_aQ2qSnL5",
        "outputId": "583723e5-2c62-42b4-f853-9b64cfc456f2",
        "colab": {
          "base_uri": "https://localhost:8080/",
          "height": 34
        }
      },
      "source": [
        "data.shape"
      ],
      "execution_count": 10,
      "outputs": [
        {
          "output_type": "execute_result",
          "data": {
            "text/plain": [
              "(6321, 13)"
            ]
          },
          "metadata": {
            "tags": []
          },
          "execution_count": 10
        }
      ]
    },
    {
      "cell_type": "code",
      "metadata": {
        "id": "PSQQQhByQWe9",
        "outputId": "49070935-f979-473e-e0a3-4c27cef46b3a",
        "colab": {
          "base_uri": "https://localhost:8080/",
          "height": 34
        }
      },
      "source": [
        "df=data.iloc[:,3:]\n",
        "type(df)"
      ],
      "execution_count": 11,
      "outputs": [
        {
          "output_type": "execute_result",
          "data": {
            "text/plain": [
              "pandas.core.frame.DataFrame"
            ]
          },
          "metadata": {
            "tags": []
          },
          "execution_count": 11
        }
      ]
    },
    {
      "cell_type": "code",
      "metadata": {
        "id": "KEOsk-v1Sqz-",
        "outputId": "28f0b038-9842-459d-a973-a1ab5a01920f",
        "colab": {
          "base_uri": "https://localhost:8080/",
          "height": 34
        }
      },
      "source": [
        "df.shape"
      ],
      "execution_count": 12,
      "outputs": [
        {
          "output_type": "execute_result",
          "data": {
            "text/plain": [
              "(6321, 10)"
            ]
          },
          "metadata": {
            "tags": []
          },
          "execution_count": 12
        }
      ]
    },
    {
      "cell_type": "code",
      "metadata": {
        "id": "F4-tkClGRnLC",
        "outputId": "2ba94b3b-e933-45ca-ea83-1fbcb55dfd9d",
        "colab": {
          "base_uri": "https://localhost:8080/",
          "height": 379
        }
      },
      "source": [
        "df.head(10)"
      ],
      "execution_count": 13,
      "outputs": [
        {
          "output_type": "execute_result",
          "data": {
            "text/html": [
              "<div>\n",
              "<style scoped>\n",
              "    .dataframe tbody tr th:only-of-type {\n",
              "        vertical-align: middle;\n",
              "    }\n",
              "\n",
              "    .dataframe tbody tr th {\n",
              "        vertical-align: top;\n",
              "    }\n",
              "\n",
              "    .dataframe thead th {\n",
              "        text-align: right;\n",
              "    }\n",
              "</style>\n",
              "<table border=\"1\" class=\"dataframe\">\n",
              "  <thead>\n",
              "    <tr style=\"text-align: right;\">\n",
              "      <th></th>\n",
              "      <th>Bidder_Tendency</th>\n",
              "      <th>Bidding_Ratio</th>\n",
              "      <th>Successive_Outbidding</th>\n",
              "      <th>Last_Bidding</th>\n",
              "      <th>Auction_Bids</th>\n",
              "      <th>Starting_Price_Average</th>\n",
              "      <th>Early_Bidding</th>\n",
              "      <th>Winning_Ratio</th>\n",
              "      <th>Auction_Duration</th>\n",
              "      <th>Class</th>\n",
              "    </tr>\n",
              "  </thead>\n",
              "  <tbody>\n",
              "    <tr>\n",
              "      <th>0</th>\n",
              "      <td>0.200000</td>\n",
              "      <td>0.400000</td>\n",
              "      <td>0.0</td>\n",
              "      <td>0.000028</td>\n",
              "      <td>0.000000</td>\n",
              "      <td>0.993593</td>\n",
              "      <td>0.000028</td>\n",
              "      <td>0.666667</td>\n",
              "      <td>5</td>\n",
              "      <td>0</td>\n",
              "    </tr>\n",
              "    <tr>\n",
              "      <th>1</th>\n",
              "      <td>0.024390</td>\n",
              "      <td>0.200000</td>\n",
              "      <td>0.0</td>\n",
              "      <td>0.013123</td>\n",
              "      <td>0.000000</td>\n",
              "      <td>0.993593</td>\n",
              "      <td>0.013123</td>\n",
              "      <td>0.944444</td>\n",
              "      <td>5</td>\n",
              "      <td>0</td>\n",
              "    </tr>\n",
              "    <tr>\n",
              "      <th>2</th>\n",
              "      <td>0.142857</td>\n",
              "      <td>0.200000</td>\n",
              "      <td>0.0</td>\n",
              "      <td>0.003042</td>\n",
              "      <td>0.000000</td>\n",
              "      <td>0.993593</td>\n",
              "      <td>0.003042</td>\n",
              "      <td>1.000000</td>\n",
              "      <td>5</td>\n",
              "      <td>0</td>\n",
              "    </tr>\n",
              "    <tr>\n",
              "      <th>3</th>\n",
              "      <td>0.100000</td>\n",
              "      <td>0.200000</td>\n",
              "      <td>0.0</td>\n",
              "      <td>0.097477</td>\n",
              "      <td>0.000000</td>\n",
              "      <td>0.993593</td>\n",
              "      <td>0.097477</td>\n",
              "      <td>1.000000</td>\n",
              "      <td>5</td>\n",
              "      <td>0</td>\n",
              "    </tr>\n",
              "    <tr>\n",
              "      <th>4</th>\n",
              "      <td>0.051282</td>\n",
              "      <td>0.222222</td>\n",
              "      <td>0.0</td>\n",
              "      <td>0.001318</td>\n",
              "      <td>0.000000</td>\n",
              "      <td>0.000000</td>\n",
              "      <td>0.001242</td>\n",
              "      <td>0.500000</td>\n",
              "      <td>7</td>\n",
              "      <td>0</td>\n",
              "    </tr>\n",
              "    <tr>\n",
              "      <th>5</th>\n",
              "      <td>0.038462</td>\n",
              "      <td>0.111111</td>\n",
              "      <td>0.0</td>\n",
              "      <td>0.016844</td>\n",
              "      <td>0.000000</td>\n",
              "      <td>0.000000</td>\n",
              "      <td>0.016844</td>\n",
              "      <td>0.800000</td>\n",
              "      <td>7</td>\n",
              "      <td>0</td>\n",
              "    </tr>\n",
              "    <tr>\n",
              "      <th>6</th>\n",
              "      <td>0.400000</td>\n",
              "      <td>0.222222</td>\n",
              "      <td>0.0</td>\n",
              "      <td>0.006781</td>\n",
              "      <td>0.000000</td>\n",
              "      <td>0.000000</td>\n",
              "      <td>0.006774</td>\n",
              "      <td>0.750000</td>\n",
              "      <td>7</td>\n",
              "      <td>0</td>\n",
              "    </tr>\n",
              "    <tr>\n",
              "      <th>7</th>\n",
              "      <td>0.137931</td>\n",
              "      <td>0.444444</td>\n",
              "      <td>1.0</td>\n",
              "      <td>0.768044</td>\n",
              "      <td>0.000000</td>\n",
              "      <td>0.000000</td>\n",
              "      <td>0.016311</td>\n",
              "      <td>1.000000</td>\n",
              "      <td>7</td>\n",
              "      <td>1</td>\n",
              "    </tr>\n",
              "    <tr>\n",
              "      <th>8</th>\n",
              "      <td>0.121951</td>\n",
              "      <td>0.185185</td>\n",
              "      <td>1.0</td>\n",
              "      <td>0.035021</td>\n",
              "      <td>0.333333</td>\n",
              "      <td>0.993528</td>\n",
              "      <td>0.023963</td>\n",
              "      <td>0.944444</td>\n",
              "      <td>7</td>\n",
              "      <td>1</td>\n",
              "    </tr>\n",
              "    <tr>\n",
              "      <th>9</th>\n",
              "      <td>0.155172</td>\n",
              "      <td>0.346154</td>\n",
              "      <td>0.5</td>\n",
              "      <td>0.570994</td>\n",
              "      <td>0.307692</td>\n",
              "      <td>0.993593</td>\n",
              "      <td>0.413788</td>\n",
              "      <td>0.611111</td>\n",
              "      <td>7</td>\n",
              "      <td>1</td>\n",
              "    </tr>\n",
              "  </tbody>\n",
              "</table>\n",
              "</div>"
            ],
            "text/plain": [
              "   Bidder_Tendency  Bidding_Ratio  ...  Auction_Duration  Class\n",
              "0         0.200000       0.400000  ...                 5      0\n",
              "1         0.024390       0.200000  ...                 5      0\n",
              "2         0.142857       0.200000  ...                 5      0\n",
              "3         0.100000       0.200000  ...                 5      0\n",
              "4         0.051282       0.222222  ...                 7      0\n",
              "5         0.038462       0.111111  ...                 7      0\n",
              "6         0.400000       0.222222  ...                 7      0\n",
              "7         0.137931       0.444444  ...                 7      1\n",
              "8         0.121951       0.185185  ...                 7      1\n",
              "9         0.155172       0.346154  ...                 7      1\n",
              "\n",
              "[10 rows x 10 columns]"
            ]
          },
          "metadata": {
            "tags": []
          },
          "execution_count": 13
        }
      ]
    },
    {
      "cell_type": "code",
      "metadata": {
        "id": "kkrII5t8Qi4-"
      },
      "source": [
        "# Data is preprocessed\n",
        "# As there is a classification issue addressed, outliers are not present.\n",
        "# There is no missing values and all rows contain polished data.\n",
        "# 'Record_ID','Auction_ID','Bidder_ID' are non-influential in determing the desired classification.so they are omitted."
      ],
      "execution_count": 14,
      "outputs": []
    },
    {
      "cell_type": "markdown",
      "metadata": {
        "id": "D6exmly6S2lm"
      },
      "source": [
        "MODEL CREATION AND TRAINING"
      ]
    },
    {
      "cell_type": "code",
      "metadata": {
        "id": "-f0TshdkS9B0"
      },
      "source": [
        "import tensorflow as tf\n",
        "import keras\n",
        "from keras.callbacks import *"
      ],
      "execution_count": 15,
      "outputs": []
    },
    {
      "cell_type": "code",
      "metadata": {
        "id": "fvG4057AY5U3",
        "outputId": "9f955009-75e5-49fd-9e72-d5e8a8483128",
        "colab": {
          "base_uri": "https://localhost:8080/",
          "height": 51
        }
      },
      "source": [
        "features=df.iloc[:,:9]\n",
        "labels=df.iloc[:,-1]\n",
        "\n",
        "print(features.shape)\n",
        "print(labels.shape)"
      ],
      "execution_count": 16,
      "outputs": [
        {
          "output_type": "stream",
          "text": [
            "(6321, 9)\n",
            "(6321,)\n"
          ],
          "name": "stdout"
        }
      ]
    },
    {
      "cell_type": "code",
      "metadata": {
        "id": "e2zxK0ICThPd"
      },
      "source": [
        "from sklearn.model_selection import train_test_split\n",
        "\n",
        "x_train_full,x_test,y_train_full,y_test=train_test_split(features,labels,random_state=9)\n",
        "x_train,x_valid,y_train,y_valid=train_test_split(x_train_full,y_train_full,random_state=9)"
      ],
      "execution_count": 17,
      "outputs": []
    },
    {
      "cell_type": "code",
      "metadata": {
        "id": "WG6HuLR-awvn",
        "outputId": "bc867e5b-b816-49a7-a13c-36a471137713",
        "colab": {
          "base_uri": "https://localhost:8080/",
          "height": 34
        }
      },
      "source": [
        "x_train.shape"
      ],
      "execution_count": 18,
      "outputs": [
        {
          "output_type": "execute_result",
          "data": {
            "text/plain": [
              "(3555, 9)"
            ]
          },
          "metadata": {
            "tags": []
          },
          "execution_count": 18
        }
      ]
    },
    {
      "cell_type": "code",
      "metadata": {
        "id": "0G5IIMJEa_Na",
        "outputId": "93e061ba-c609-4263-cc78-89ffc72366a6",
        "colab": {
          "base_uri": "https://localhost:8080/",
          "height": 34
        }
      },
      "source": [
        "y_train.shape"
      ],
      "execution_count": 19,
      "outputs": [
        {
          "output_type": "execute_result",
          "data": {
            "text/plain": [
              "(3555,)"
            ]
          },
          "metadata": {
            "tags": []
          },
          "execution_count": 19
        }
      ]
    },
    {
      "cell_type": "code",
      "metadata": {
        "id": "TLbwCDw3bE4S",
        "outputId": "4b3f3a18-551e-404a-df56-b8e158518543",
        "colab": {
          "base_uri": "https://localhost:8080/",
          "height": 34
        }
      },
      "source": [
        "x_test.shape"
      ],
      "execution_count": 20,
      "outputs": [
        {
          "output_type": "execute_result",
          "data": {
            "text/plain": [
              "(1581, 9)"
            ]
          },
          "metadata": {
            "tags": []
          },
          "execution_count": 20
        }
      ]
    },
    {
      "cell_type": "code",
      "metadata": {
        "id": "JAXzp9DgbHTS",
        "outputId": "0d7b9f43-9744-48e0-ae5e-70de9c7bfd72",
        "colab": {
          "base_uri": "https://localhost:8080/",
          "height": 34
        }
      },
      "source": [
        "y_test.shape"
      ],
      "execution_count": 21,
      "outputs": [
        {
          "output_type": "execute_result",
          "data": {
            "text/plain": [
              "(1581,)"
            ]
          },
          "metadata": {
            "tags": []
          },
          "execution_count": 21
        }
      ]
    },
    {
      "cell_type": "code",
      "metadata": {
        "id": "ZQ8rQ6YBbK81",
        "outputId": "fe5e7805-10c1-487c-b380-7e63b7fa2f50",
        "colab": {
          "base_uri": "https://localhost:8080/",
          "height": 34
        }
      },
      "source": [
        "x_valid.shape"
      ],
      "execution_count": 22,
      "outputs": [
        {
          "output_type": "execute_result",
          "data": {
            "text/plain": [
              "(1185, 9)"
            ]
          },
          "metadata": {
            "tags": []
          },
          "execution_count": 22
        }
      ]
    },
    {
      "cell_type": "code",
      "metadata": {
        "id": "WCAws7iLbPiz",
        "outputId": "32cdab15-e6d5-41fc-fd46-f08fd680b5d3",
        "colab": {
          "base_uri": "https://localhost:8080/",
          "height": 34
        }
      },
      "source": [
        "y_valid.shape"
      ],
      "execution_count": 23,
      "outputs": [
        {
          "output_type": "execute_result",
          "data": {
            "text/plain": [
              "(1185,)"
            ]
          },
          "metadata": {
            "tags": []
          },
          "execution_count": 23
        }
      ]
    },
    {
      "cell_type": "code",
      "metadata": {
        "id": "3KmZqtebbQvq"
      },
      "source": [
        "# there is consistent division of the dataset into the training testing and validation biparts\n",
        "# 3555+1581+1185=6321"
      ],
      "execution_count": 24,
      "outputs": []
    },
    {
      "cell_type": "code",
      "metadata": {
        "id": "RsWEHp7HcFhn"
      },
      "source": [
        "np.random.seed(42)\n",
        "tf.random.set_seed(42)"
      ],
      "execution_count": 25,
      "outputs": []
    },
    {
      "cell_type": "code",
      "metadata": {
        "id": "kxsqm4Y1UKfn"
      },
      "source": [
        "from sklearn.metrics import confusion_matrix"
      ],
      "execution_count": 26,
      "outputs": []
    },
    {
      "cell_type": "markdown",
      "metadata": {
        "id": "yk_YlzxEcog_"
      },
      "source": [
        "**SEQUENTIAL MODEL**"
      ]
    },
    {
      "cell_type": "code",
      "metadata": {
        "id": "4c9C4ItXckq-"
      },
      "source": [
        "model=keras.models.Sequential([\n",
        "                               keras.layers.Dense(60,kernel_initializer='uniform',activation='relu',input_shape=[9]),\n",
        "                               keras.layers.Dense(60,kernel_initializer='uniform',activation='relu'),\n",
        "                               keras.layers.Dense(1,activation='sigmoid')\n",
        "])"
      ],
      "execution_count": 27,
      "outputs": []
    },
    {
      "cell_type": "code",
      "metadata": {
        "id": "iWA4djZhdJTw",
        "outputId": "778ccb39-da38-4772-f701-23d5ab38496a",
        "colab": {
          "base_uri": "https://localhost:8080/",
          "height": 255
        }
      },
      "source": [
        "model.summary()"
      ],
      "execution_count": 28,
      "outputs": [
        {
          "output_type": "stream",
          "text": [
            "Model: \"sequential\"\n",
            "_________________________________________________________________\n",
            "Layer (type)                 Output Shape              Param #   \n",
            "=================================================================\n",
            "dense (Dense)                (None, 60)                600       \n",
            "_________________________________________________________________\n",
            "dense_1 (Dense)              (None, 60)                3660      \n",
            "_________________________________________________________________\n",
            "dense_2 (Dense)              (None, 1)                 61        \n",
            "=================================================================\n",
            "Total params: 4,321\n",
            "Trainable params: 4,321\n",
            "Non-trainable params: 0\n",
            "_________________________________________________________________\n"
          ],
          "name": "stdout"
        }
      ]
    },
    {
      "cell_type": "code",
      "metadata": {
        "id": "QQ3zZgdndYP8"
      },
      "source": [
        "model.compile(optimizer='adam',\n",
        "              loss='mean_squared_error',\n",
        "              metrics=['accuracy'])"
      ],
      "execution_count": 29,
      "outputs": []
    },
    {
      "cell_type": "code",
      "metadata": {
        "id": "WNfwqi0epAsz"
      },
      "source": [
        "checkpoint=keras.callbacks.ModelCheckpoint('best-Model.h5',save_best_only=True)\n",
        "early=keras.callbacks.EarlyStopping(patience=20,restore_best_weights=True)"
      ],
      "execution_count": 30,
      "outputs": []
    },
    {
      "cell_type": "code",
      "metadata": {
        "id": "u_FrFJsojeK-",
        "outputId": "7d277ce5-c330-44fd-e21c-de95ba0d00df",
        "colab": {
          "base_uri": "https://localhost:8080/",
          "height": 1000
        }
      },
      "source": [
        "model.fit(x_train,y_train,epochs=200,batch_size=10,validation_data=(x_valid,y_valid),callbacks=[checkpoint,early])"
      ],
      "execution_count": 31,
      "outputs": [
        {
          "output_type": "stream",
          "text": [
            "Epoch 1/200\n",
            "356/356 [==============================] - 1s 4ms/step - loss: 0.0570 - accuracy: 0.9446 - val_loss: 0.0165 - val_accuracy: 0.9688\n",
            "Epoch 2/200\n",
            "356/356 [==============================] - 1s 4ms/step - loss: 0.0160 - accuracy: 0.9781 - val_loss: 0.0152 - val_accuracy: 0.9789\n",
            "Epoch 3/200\n",
            "356/356 [==============================] - 1s 4ms/step - loss: 0.0160 - accuracy: 0.9761 - val_loss: 0.0139 - val_accuracy: 0.9747\n",
            "Epoch 4/200\n",
            "356/356 [==============================] - 1s 4ms/step - loss: 0.0142 - accuracy: 0.9781 - val_loss: 0.0170 - val_accuracy: 0.9738\n",
            "Epoch 5/200\n",
            "356/356 [==============================] - 1s 4ms/step - loss: 0.0140 - accuracy: 0.9800 - val_loss: 0.0156 - val_accuracy: 0.9772\n",
            "Epoch 6/200\n",
            "356/356 [==============================] - 1s 4ms/step - loss: 0.0128 - accuracy: 0.9823 - val_loss: 0.0147 - val_accuracy: 0.9772\n",
            "Epoch 7/200\n",
            "356/356 [==============================] - 1s 4ms/step - loss: 0.0118 - accuracy: 0.9823 - val_loss: 0.0157 - val_accuracy: 0.9764\n",
            "Epoch 8/200\n",
            "356/356 [==============================] - 1s 4ms/step - loss: 0.0111 - accuracy: 0.9834 - val_loss: 0.0141 - val_accuracy: 0.9781\n",
            "Epoch 9/200\n",
            "356/356 [==============================] - 1s 4ms/step - loss: 0.0093 - accuracy: 0.9876 - val_loss: 0.0119 - val_accuracy: 0.9797\n",
            "Epoch 10/200\n",
            "356/356 [==============================] - 1s 4ms/step - loss: 0.0086 - accuracy: 0.9876 - val_loss: 0.0112 - val_accuracy: 0.9857\n",
            "Epoch 11/200\n",
            "356/356 [==============================] - 1s 4ms/step - loss: 0.0061 - accuracy: 0.9949 - val_loss: 0.0097 - val_accuracy: 0.9882\n",
            "Epoch 12/200\n",
            "356/356 [==============================] - 1s 4ms/step - loss: 0.0055 - accuracy: 0.9941 - val_loss: 0.0096 - val_accuracy: 0.9907\n",
            "Epoch 13/200\n",
            "356/356 [==============================] - 1s 4ms/step - loss: 0.0048 - accuracy: 0.9941 - val_loss: 0.0077 - val_accuracy: 0.9916\n",
            "Epoch 14/200\n",
            "356/356 [==============================] - 1s 4ms/step - loss: 0.0033 - accuracy: 0.9969 - val_loss: 0.0084 - val_accuracy: 0.9907\n",
            "Epoch 15/200\n",
            "356/356 [==============================] - 1s 4ms/step - loss: 0.0036 - accuracy: 0.9955 - val_loss: 0.0074 - val_accuracy: 0.9916\n",
            "Epoch 16/200\n",
            "356/356 [==============================] - 1s 4ms/step - loss: 0.0032 - accuracy: 0.9972 - val_loss: 0.0089 - val_accuracy: 0.9882\n",
            "Epoch 17/200\n",
            "356/356 [==============================] - 1s 4ms/step - loss: 0.0074 - accuracy: 0.9916 - val_loss: 0.0090 - val_accuracy: 0.9907\n",
            "Epoch 18/200\n",
            "356/356 [==============================] - 1s 4ms/step - loss: 0.0030 - accuracy: 0.9969 - val_loss: 0.0069 - val_accuracy: 0.9924\n",
            "Epoch 19/200\n",
            "356/356 [==============================] - 1s 4ms/step - loss: 0.0031 - accuracy: 0.9963 - val_loss: 0.0071 - val_accuracy: 0.9924\n",
            "Epoch 20/200\n",
            "356/356 [==============================] - 1s 4ms/step - loss: 0.0024 - accuracy: 0.9980 - val_loss: 0.0066 - val_accuracy: 0.9916\n",
            "Epoch 21/200\n",
            "356/356 [==============================] - 1s 4ms/step - loss: 0.0028 - accuracy: 0.9972 - val_loss: 0.0080 - val_accuracy: 0.9907\n",
            "Epoch 22/200\n",
            "356/356 [==============================] - 1s 4ms/step - loss: 0.0026 - accuracy: 0.9977 - val_loss: 0.0072 - val_accuracy: 0.9916\n",
            "Epoch 23/200\n",
            "356/356 [==============================] - 1s 4ms/step - loss: 0.0035 - accuracy: 0.9963 - val_loss: 0.0070 - val_accuracy: 0.9924\n",
            "Epoch 24/200\n",
            "356/356 [==============================] - 1s 4ms/step - loss: 0.0023 - accuracy: 0.9977 - val_loss: 0.0062 - val_accuracy: 0.9924\n",
            "Epoch 25/200\n",
            "356/356 [==============================] - 1s 4ms/step - loss: 0.0022 - accuracy: 0.9980 - val_loss: 0.0071 - val_accuracy: 0.9924\n",
            "Epoch 26/200\n",
            "356/356 [==============================] - 1s 4ms/step - loss: 0.0025 - accuracy: 0.9975 - val_loss: 0.0096 - val_accuracy: 0.9882\n",
            "Epoch 27/200\n",
            "356/356 [==============================] - 1s 4ms/step - loss: 0.0035 - accuracy: 0.9955 - val_loss: 0.0091 - val_accuracy: 0.9890\n",
            "Epoch 28/200\n",
            "356/356 [==============================] - 1s 4ms/step - loss: 0.0024 - accuracy: 0.9977 - val_loss: 0.0106 - val_accuracy: 0.9873\n",
            "Epoch 29/200\n",
            "356/356 [==============================] - 1s 4ms/step - loss: 0.0027 - accuracy: 0.9972 - val_loss: 0.0066 - val_accuracy: 0.9916\n",
            "Epoch 30/200\n",
            "356/356 [==============================] - 1s 4ms/step - loss: 0.0023 - accuracy: 0.9977 - val_loss: 0.0073 - val_accuracy: 0.9924\n",
            "Epoch 31/200\n",
            "356/356 [==============================] - 1s 4ms/step - loss: 0.0020 - accuracy: 0.9980 - val_loss: 0.0075 - val_accuracy: 0.9924\n",
            "Epoch 32/200\n",
            "356/356 [==============================] - 1s 3ms/step - loss: 0.0023 - accuracy: 0.9975 - val_loss: 0.0064 - val_accuracy: 0.9924\n",
            "Epoch 33/200\n",
            "356/356 [==============================] - 1s 4ms/step - loss: 0.0023 - accuracy: 0.9977 - val_loss: 0.0072 - val_accuracy: 0.9924\n",
            "Epoch 34/200\n",
            "356/356 [==============================] - 1s 4ms/step - loss: 0.0022 - accuracy: 0.9975 - val_loss: 0.0073 - val_accuracy: 0.9924\n",
            "Epoch 35/200\n",
            "356/356 [==============================] - 1s 4ms/step - loss: 0.0024 - accuracy: 0.9972 - val_loss: 0.0065 - val_accuracy: 0.9924\n",
            "Epoch 36/200\n",
            "356/356 [==============================] - 1s 4ms/step - loss: 0.0023 - accuracy: 0.9969 - val_loss: 0.0067 - val_accuracy: 0.9924\n",
            "Epoch 37/200\n",
            "356/356 [==============================] - 2s 5ms/step - loss: 0.0025 - accuracy: 0.9966 - val_loss: 0.0057 - val_accuracy: 0.9924\n",
            "Epoch 38/200\n",
            "356/356 [==============================] - 1s 4ms/step - loss: 0.0024 - accuracy: 0.9969 - val_loss: 0.0065 - val_accuracy: 0.9932\n",
            "Epoch 39/200\n",
            "356/356 [==============================] - 1s 4ms/step - loss: 0.0019 - accuracy: 0.9980 - val_loss: 0.0069 - val_accuracy: 0.9924\n",
            "Epoch 40/200\n",
            "356/356 [==============================] - 1s 4ms/step - loss: 0.0019 - accuracy: 0.9980 - val_loss: 0.0069 - val_accuracy: 0.9924\n",
            "Epoch 41/200\n",
            "356/356 [==============================] - 1s 4ms/step - loss: 0.0022 - accuracy: 0.9972 - val_loss: 0.0094 - val_accuracy: 0.9882\n",
            "Epoch 42/200\n",
            "356/356 [==============================] - 1s 4ms/step - loss: 0.0026 - accuracy: 0.9963 - val_loss: 0.0072 - val_accuracy: 0.9924\n",
            "Epoch 43/200\n",
            "356/356 [==============================] - 1s 4ms/step - loss: 0.0020 - accuracy: 0.9977 - val_loss: 0.0065 - val_accuracy: 0.9916\n",
            "Epoch 44/200\n",
            "356/356 [==============================] - 1s 4ms/step - loss: 0.0021 - accuracy: 0.9975 - val_loss: 0.0063 - val_accuracy: 0.9932\n",
            "Epoch 45/200\n",
            "356/356 [==============================] - 1s 4ms/step - loss: 0.0024 - accuracy: 0.9969 - val_loss: 0.0067 - val_accuracy: 0.9916\n",
            "Epoch 46/200\n",
            "356/356 [==============================] - 1s 4ms/step - loss: 0.0017 - accuracy: 0.9983 - val_loss: 0.0067 - val_accuracy: 0.9932\n",
            "Epoch 47/200\n",
            "356/356 [==============================] - 1s 4ms/step - loss: 0.0019 - accuracy: 0.9980 - val_loss: 0.0063 - val_accuracy: 0.9932\n",
            "Epoch 48/200\n",
            "356/356 [==============================] - 1s 4ms/step - loss: 0.0016 - accuracy: 0.9986 - val_loss: 0.0064 - val_accuracy: 0.9924\n",
            "Epoch 49/200\n",
            "356/356 [==============================] - 1s 4ms/step - loss: 0.0021 - accuracy: 0.9977 - val_loss: 0.0075 - val_accuracy: 0.9924\n",
            "Epoch 50/200\n",
            "356/356 [==============================] - 1s 4ms/step - loss: 0.0028 - accuracy: 0.9966 - val_loss: 0.0082 - val_accuracy: 0.9899\n",
            "Epoch 51/200\n",
            "356/356 [==============================] - 1s 4ms/step - loss: 0.0018 - accuracy: 0.9983 - val_loss: 0.0069 - val_accuracy: 0.9924\n",
            "Epoch 52/200\n",
            "356/356 [==============================] - 1s 4ms/step - loss: 0.0017 - accuracy: 0.9983 - val_loss: 0.0069 - val_accuracy: 0.9916\n",
            "Epoch 53/200\n",
            "356/356 [==============================] - 1s 4ms/step - loss: 0.0023 - accuracy: 0.9980 - val_loss: 0.0073 - val_accuracy: 0.9924\n",
            "Epoch 54/200\n",
            "356/356 [==============================] - 1s 4ms/step - loss: 0.0019 - accuracy: 0.9977 - val_loss: 0.0069 - val_accuracy: 0.9924\n",
            "Epoch 55/200\n",
            "356/356 [==============================] - 1s 4ms/step - loss: 0.0025 - accuracy: 0.9972 - val_loss: 0.0072 - val_accuracy: 0.9924\n",
            "Epoch 56/200\n",
            "356/356 [==============================] - 1s 4ms/step - loss: 0.0018 - accuracy: 0.9980 - val_loss: 0.0070 - val_accuracy: 0.9924\n",
            "Epoch 57/200\n",
            "356/356 [==============================] - 1s 4ms/step - loss: 0.0021 - accuracy: 0.9975 - val_loss: 0.0068 - val_accuracy: 0.9932\n"
          ],
          "name": "stdout"
        },
        {
          "output_type": "execute_result",
          "data": {
            "text/plain": [
              "<tensorflow.python.keras.callbacks.History at 0x7f42004b3f60>"
            ]
          },
          "metadata": {
            "tags": []
          },
          "execution_count": 31
        }
      ]
    },
    {
      "cell_type": "code",
      "metadata": {
        "id": "hemGuemvpnzf"
      },
      "source": [
        "trial=keras.models.load_model('best-Model.h5')"
      ],
      "execution_count": 32,
      "outputs": []
    },
    {
      "cell_type": "code",
      "metadata": {
        "id": "GqFIpEtXpoNh",
        "outputId": "c0955807-6040-4bdb-95e2-3f92a5f1e1ad",
        "colab": {
          "base_uri": "https://localhost:8080/",
          "height": 34
        }
      },
      "source": [
        "test=model.evaluate(x_test,y_test)"
      ],
      "execution_count": 33,
      "outputs": [
        {
          "output_type": "stream",
          "text": [
            "50/50 [==============================] - 0s 2ms/step - loss: 0.0043 - accuracy: 0.9943\n"
          ],
          "name": "stdout"
        }
      ]
    },
    {
      "cell_type": "code",
      "metadata": {
        "id": "8Ftv9VwXTotj"
      },
      "source": [
        "y_pred=model.predict(x_test)"
      ],
      "execution_count": 34,
      "outputs": []
    },
    {
      "cell_type": "code",
      "metadata": {
        "id": "dkzrXD8PYiPK",
        "outputId": "63a098fd-1628-456b-b5fd-1ca3e4824aed",
        "colab": {
          "base_uri": "https://localhost:8080/",
          "height": 51
        }
      },
      "source": [
        "print(type(y_test))\n",
        "print(type(y_pred))"
      ],
      "execution_count": 41,
      "outputs": [
        {
          "output_type": "stream",
          "text": [
            "<class 'pandas.core.series.Series'>\n",
            "<class 'numpy.ndarray'>\n"
          ],
          "name": "stdout"
        }
      ]
    },
    {
      "cell_type": "code",
      "metadata": {
        "id": "ge-1KbWJVe3k",
        "outputId": "426fc05b-6648-4792-f1fd-94f7853ab067",
        "colab": {
          "base_uri": "https://localhost:8080/",
          "height": 34
        }
      },
      "source": [
        "y_test.values"
      ],
      "execution_count": 38,
      "outputs": [
        {
          "output_type": "execute_result",
          "data": {
            "text/plain": [
              "array([0, 1, 0, ..., 0, 0, 0])"
            ]
          },
          "metadata": {
            "tags": []
          },
          "execution_count": 38
        }
      ]
    },
    {
      "cell_type": "code",
      "metadata": {
        "id": "1R6ImJ9_TuuZ",
        "outputId": "337baeda-d7a6-434c-e0c0-51027b858e89",
        "colab": {
          "base_uri": "https://localhost:8080/",
          "height": 136
        }
      },
      "source": [
        "y_pred"
      ],
      "execution_count": 40,
      "outputs": [
        {
          "output_type": "execute_result",
          "data": {
            "text/plain": [
              "array([[7.3043405e-10],\n",
              "       [9.9742717e-01],\n",
              "       [4.3093823e-05],\n",
              "       ...,\n",
              "       [1.8646462e-08],\n",
              "       [6.6379036e-10],\n",
              "       [4.6614264e-08]], dtype=float32)"
            ]
          },
          "metadata": {
            "tags": []
          },
          "execution_count": 40
        }
      ]
    },
    {
      "cell_type": "code",
      "metadata": {
        "id": "X5qHhZlJYsK2"
      },
      "source": [
        "y_pred=np.where(y_pred>=0.5,1,0)"
      ],
      "execution_count": 42,
      "outputs": []
    },
    {
      "cell_type": "code",
      "metadata": {
        "id": "dL-vDZLiZtEO"
      },
      "source": [
        "y_pred=y_pred.flatten()"
      ],
      "execution_count": 48,
      "outputs": []
    },
    {
      "cell_type": "code",
      "metadata": {
        "id": "xBfc1R00aPh0",
        "outputId": "22201a98-de59-4a7a-e6f9-652b806e8187",
        "colab": {
          "base_uri": "https://localhost:8080/",
          "height": 34
        }
      },
      "source": [
        "y_pred"
      ],
      "execution_count": 49,
      "outputs": [
        {
          "output_type": "execute_result",
          "data": {
            "text/plain": [
              "array([0, 1, 0, ..., 0, 0, 0])"
            ]
          },
          "metadata": {
            "tags": []
          },
          "execution_count": 49
        }
      ]
    },
    {
      "cell_type": "code",
      "metadata": {
        "id": "NzFOh_uGVXuG",
        "outputId": "b4c50a6a-ca67-4ca9-9f5c-111b997dc1c5",
        "colab": {
          "base_uri": "https://localhost:8080/",
          "height": 51
        }
      },
      "source": [
        "confusion_matrix(y_test,y_pred)"
      ],
      "execution_count": 50,
      "outputs": [
        {
          "output_type": "execute_result",
          "data": {
            "text/plain": [
              "array([[1397,    4],\n",
              "       [   5,  175]])"
            ]
          },
          "metadata": {
            "tags": []
          },
          "execution_count": 50
        }
      ]
    },
    {
      "cell_type": "code",
      "metadata": {
        "id": "1U9UdldRjtQv"
      },
      "source": [
        "keras.backend.clear_session()"
      ],
      "execution_count": 51,
      "outputs": []
    },
    {
      "cell_type": "code",
      "metadata": {
        "id": "HMPaY8vJvGMt"
      },
      "source": [
        "del model"
      ],
      "execution_count": 52,
      "outputs": []
    },
    {
      "cell_type": "markdown",
      "metadata": {
        "id": "_lQAfToYs5nB"
      },
      "source": [
        "FUNCTIONAL MODEL"
      ]
    },
    {
      "cell_type": "code",
      "metadata": {
        "id": "H4i9EzI6qcjS"
      },
      "source": [
        "input1=keras.layers.Input(shape=x_train.shape[1:])\n",
        "hidden1=keras.layers.Dense(60,kernel_initializer='uniform',activation='relu')(input1)\n",
        "hidden2=keras.layers.Dense(60,kernel_initializer='uniform',activation='relu')(hidden1)\n",
        "concat=keras.layers.concatenate([input1,hidden2])\n",
        "output=keras.layers.Dense(1,activation='sigmoid')(concat)\n",
        "model=keras.models.Model(inputs=[input1],outputs=[output])"
      ],
      "execution_count": 76,
      "outputs": []
    },
    {
      "cell_type": "code",
      "metadata": {
        "id": "AMvgLRHqt4xN",
        "outputId": "64167898-4c62-4333-b931-3cef6e9f4d5e",
        "colab": {
          "base_uri": "https://localhost:8080/",
          "height": 340
        }
      },
      "source": [
        "model.summary()"
      ],
      "execution_count": 77,
      "outputs": [
        {
          "output_type": "stream",
          "text": [
            "Model: \"functional_1\"\n",
            "__________________________________________________________________________________________________\n",
            "Layer (type)                    Output Shape         Param #     Connected to                     \n",
            "==================================================================================================\n",
            "input_1 (InputLayer)            [(None, 9)]          0                                            \n",
            "__________________________________________________________________________________________________\n",
            "dense (Dense)                   (None, 60)           600         input_1[0][0]                    \n",
            "__________________________________________________________________________________________________\n",
            "dense_1 (Dense)                 (None, 60)           3660        dense[0][0]                      \n",
            "__________________________________________________________________________________________________\n",
            "concatenate (Concatenate)       (None, 69)           0           input_1[0][0]                    \n",
            "                                                                 dense_1[0][0]                    \n",
            "__________________________________________________________________________________________________\n",
            "dense_2 (Dense)                 (None, 1)            70          concatenate[0][0]                \n",
            "==================================================================================================\n",
            "Total params: 4,330\n",
            "Trainable params: 4,330\n",
            "Non-trainable params: 0\n",
            "__________________________________________________________________________________________________\n"
          ],
          "name": "stdout"
        }
      ]
    },
    {
      "cell_type": "code",
      "metadata": {
        "id": "iMQ0VqcFt7bX"
      },
      "source": [
        "model.compile(loss='mean_squared_error',\n",
        "              optimizer='adam',\n",
        "              metrics=['accuracy'])"
      ],
      "execution_count": 78,
      "outputs": []
    },
    {
      "cell_type": "code",
      "metadata": {
        "id": "XzVvKCx6uOz1"
      },
      "source": [
        "checkpoint=keras.callbacks.ModelCheckpoint('best-Model.h5',save_best_only=True)\n",
        "early=keras.callbacks.EarlyStopping(patience=20,restore_best_weights=True)"
      ],
      "execution_count": 79,
      "outputs": []
    },
    {
      "cell_type": "code",
      "metadata": {
        "id": "dc6G1XOPuVWN",
        "outputId": "dbe01909-a255-4c51-da7b-00e3240824f7",
        "colab": {
          "base_uri": "https://localhost:8080/",
          "height": 1000
        }
      },
      "source": [
        "model.fit(x_train,y_train,epochs=200,batch_size=10,validation_data=(x_valid,y_valid),callbacks=[checkpoint,early])"
      ],
      "execution_count": 80,
      "outputs": [
        {
          "output_type": "stream",
          "text": [
            "Epoch 1/200\n",
            "356/356 [==============================] - 2s 4ms/step - loss: 0.0791 - accuracy: 0.8878 - val_loss: 0.0174 - val_accuracy: 0.9671\n",
            "Epoch 2/200\n",
            "356/356 [==============================] - 1s 4ms/step - loss: 0.0177 - accuracy: 0.9764 - val_loss: 0.0150 - val_accuracy: 0.9814\n",
            "Epoch 3/200\n",
            "356/356 [==============================] - 1s 4ms/step - loss: 0.0181 - accuracy: 0.9738 - val_loss: 0.0137 - val_accuracy: 0.9806\n",
            "Epoch 4/200\n",
            "356/356 [==============================] - 1s 4ms/step - loss: 0.0158 - accuracy: 0.9758 - val_loss: 0.0185 - val_accuracy: 0.9738\n",
            "Epoch 5/200\n",
            "356/356 [==============================] - 1s 4ms/step - loss: 0.0162 - accuracy: 0.9767 - val_loss: 0.0164 - val_accuracy: 0.9764\n",
            "Epoch 6/200\n",
            "356/356 [==============================] - 1s 4ms/step - loss: 0.0159 - accuracy: 0.9783 - val_loss: 0.0143 - val_accuracy: 0.9772\n",
            "Epoch 7/200\n",
            "356/356 [==============================] - 1s 4ms/step - loss: 0.0144 - accuracy: 0.9792 - val_loss: 0.0164 - val_accuracy: 0.9747\n",
            "Epoch 8/200\n",
            "356/356 [==============================] - 1s 4ms/step - loss: 0.0148 - accuracy: 0.9772 - val_loss: 0.0155 - val_accuracy: 0.9772\n",
            "Epoch 9/200\n",
            "356/356 [==============================] - 1s 4ms/step - loss: 0.0141 - accuracy: 0.9800 - val_loss: 0.0227 - val_accuracy: 0.9671\n",
            "Epoch 10/200\n",
            "356/356 [==============================] - 1s 4ms/step - loss: 0.0145 - accuracy: 0.9795 - val_loss: 0.0152 - val_accuracy: 0.9772\n",
            "Epoch 11/200\n",
            "356/356 [==============================] - 1s 4ms/step - loss: 0.0133 - accuracy: 0.9820 - val_loss: 0.0154 - val_accuracy: 0.9789\n",
            "Epoch 12/200\n",
            "356/356 [==============================] - 2s 5ms/step - loss: 0.0120 - accuracy: 0.9823 - val_loss: 0.0135 - val_accuracy: 0.9797\n",
            "Epoch 13/200\n",
            "356/356 [==============================] - 1s 4ms/step - loss: 0.0096 - accuracy: 0.9873 - val_loss: 0.0105 - val_accuracy: 0.9882\n",
            "Epoch 14/200\n",
            "356/356 [==============================] - 1s 4ms/step - loss: 0.0066 - accuracy: 0.9935 - val_loss: 0.0090 - val_accuracy: 0.9899\n",
            "Epoch 15/200\n",
            "356/356 [==============================] - 1s 4ms/step - loss: 0.0062 - accuracy: 0.9938 - val_loss: 0.0082 - val_accuracy: 0.9907\n",
            "Epoch 16/200\n",
            "356/356 [==============================] - 1s 4ms/step - loss: 0.0048 - accuracy: 0.9958 - val_loss: 0.0078 - val_accuracy: 0.9907\n",
            "Epoch 17/200\n",
            "356/356 [==============================] - 1s 4ms/step - loss: 0.0040 - accuracy: 0.9963 - val_loss: 0.0080 - val_accuracy: 0.9924\n",
            "Epoch 18/200\n",
            "356/356 [==============================] - 1s 4ms/step - loss: 0.0049 - accuracy: 0.9944 - val_loss: 0.0064 - val_accuracy: 0.9916\n",
            "Epoch 19/200\n",
            "356/356 [==============================] - 1s 4ms/step - loss: 0.0036 - accuracy: 0.9961 - val_loss: 0.0068 - val_accuracy: 0.9932\n",
            "Epoch 20/200\n",
            "356/356 [==============================] - 1s 4ms/step - loss: 0.0032 - accuracy: 0.9966 - val_loss: 0.0063 - val_accuracy: 0.9924\n",
            "Epoch 21/200\n",
            "356/356 [==============================] - 1s 4ms/step - loss: 0.0030 - accuracy: 0.9966 - val_loss: 0.0066 - val_accuracy: 0.9932\n",
            "Epoch 22/200\n",
            "356/356 [==============================] - 1s 4ms/step - loss: 0.0031 - accuracy: 0.9963 - val_loss: 0.0064 - val_accuracy: 0.9924\n",
            "Epoch 23/200\n",
            "356/356 [==============================] - 1s 4ms/step - loss: 0.0029 - accuracy: 0.9966 - val_loss: 0.0064 - val_accuracy: 0.9932\n",
            "Epoch 24/200\n",
            "356/356 [==============================] - 1s 4ms/step - loss: 0.0028 - accuracy: 0.9969 - val_loss: 0.0061 - val_accuracy: 0.9932\n",
            "Epoch 25/200\n",
            "356/356 [==============================] - 1s 4ms/step - loss: 0.0029 - accuracy: 0.9966 - val_loss: 0.0062 - val_accuracy: 0.9932\n",
            "Epoch 26/200\n",
            "356/356 [==============================] - 1s 4ms/step - loss: 0.0022 - accuracy: 0.9977 - val_loss: 0.0094 - val_accuracy: 0.9899\n",
            "Epoch 27/200\n",
            "356/356 [==============================] - 1s 4ms/step - loss: 0.0025 - accuracy: 0.9972 - val_loss: 0.0059 - val_accuracy: 0.9924\n",
            "Epoch 28/200\n",
            "356/356 [==============================] - 1s 4ms/step - loss: 0.0019 - accuracy: 0.9983 - val_loss: 0.0062 - val_accuracy: 0.9932\n",
            "Epoch 29/200\n",
            "356/356 [==============================] - 1s 4ms/step - loss: 0.0023 - accuracy: 0.9977 - val_loss: 0.0061 - val_accuracy: 0.9916\n",
            "Epoch 30/200\n",
            "356/356 [==============================] - 1s 4ms/step - loss: 0.0023 - accuracy: 0.9977 - val_loss: 0.0063 - val_accuracy: 0.9932\n",
            "Epoch 31/200\n",
            "356/356 [==============================] - 1s 4ms/step - loss: 0.0025 - accuracy: 0.9972 - val_loss: 0.0064 - val_accuracy: 0.9924\n",
            "Epoch 32/200\n",
            "356/356 [==============================] - 1s 4ms/step - loss: 0.0020 - accuracy: 0.9983 - val_loss: 0.0065 - val_accuracy: 0.9924\n",
            "Epoch 33/200\n",
            "356/356 [==============================] - 1s 4ms/step - loss: 0.0022 - accuracy: 0.9977 - val_loss: 0.0071 - val_accuracy: 0.9916\n",
            "Epoch 34/200\n",
            "356/356 [==============================] - 1s 4ms/step - loss: 0.0027 - accuracy: 0.9969 - val_loss: 0.0064 - val_accuracy: 0.9932\n",
            "Epoch 35/200\n",
            "356/356 [==============================] - 1s 4ms/step - loss: 0.0020 - accuracy: 0.9980 - val_loss: 0.0065 - val_accuracy: 0.9932\n",
            "Epoch 36/200\n",
            "356/356 [==============================] - 1s 4ms/step - loss: 0.0019 - accuracy: 0.9980 - val_loss: 0.0065 - val_accuracy: 0.9932\n",
            "Epoch 37/200\n",
            "356/356 [==============================] - 1s 4ms/step - loss: 0.0018 - accuracy: 0.9983 - val_loss: 0.0065 - val_accuracy: 0.9932\n",
            "Epoch 38/200\n",
            "356/356 [==============================] - 1s 4ms/step - loss: 0.0032 - accuracy: 0.9961 - val_loss: 0.0071 - val_accuracy: 0.9924\n",
            "Epoch 39/200\n",
            "356/356 [==============================] - 1s 4ms/step - loss: 0.0025 - accuracy: 0.9969 - val_loss: 0.0063 - val_accuracy: 0.9932\n",
            "Epoch 40/200\n",
            "356/356 [==============================] - 1s 4ms/step - loss: 0.0020 - accuracy: 0.9980 - val_loss: 0.0065 - val_accuracy: 0.9932\n",
            "Epoch 41/200\n",
            "356/356 [==============================] - 1s 4ms/step - loss: 0.0018 - accuracy: 0.9983 - val_loss: 0.0066 - val_accuracy: 0.9932\n",
            "Epoch 42/200\n",
            "356/356 [==============================] - 1s 4ms/step - loss: 0.0020 - accuracy: 0.9980 - val_loss: 0.0063 - val_accuracy: 0.9916\n",
            "Epoch 43/200\n",
            "356/356 [==============================] - 1s 4ms/step - loss: 0.0021 - accuracy: 0.9980 - val_loss: 0.0068 - val_accuracy: 0.9924\n",
            "Epoch 44/200\n",
            "356/356 [==============================] - 1s 4ms/step - loss: 0.0020 - accuracy: 0.9980 - val_loss: 0.0068 - val_accuracy: 0.9924\n",
            "Epoch 45/200\n",
            "356/356 [==============================] - 1s 4ms/step - loss: 0.0017 - accuracy: 0.9983 - val_loss: 0.0066 - val_accuracy: 0.9932\n",
            "Epoch 46/200\n",
            "356/356 [==============================] - 1s 4ms/step - loss: 0.0033 - accuracy: 0.9958 - val_loss: 0.0077 - val_accuracy: 0.9907\n",
            "Epoch 47/200\n",
            "356/356 [==============================] - 1s 4ms/step - loss: 0.0026 - accuracy: 0.9972 - val_loss: 0.0066 - val_accuracy: 0.9932\n"
          ],
          "name": "stdout"
        },
        {
          "output_type": "execute_result",
          "data": {
            "text/plain": [
              "<tensorflow.python.keras.callbacks.History at 0x7f41a8dda6d8>"
            ]
          },
          "metadata": {
            "tags": []
          },
          "execution_count": 80
        }
      ]
    },
    {
      "cell_type": "code",
      "metadata": {
        "id": "ydBFYeQjufdV"
      },
      "source": [
        "trial=keras.models.load_model('best-Model.h5')"
      ],
      "execution_count": 81,
      "outputs": []
    },
    {
      "cell_type": "code",
      "metadata": {
        "id": "X3zOSarVumn9",
        "outputId": "2eab08af-2f3e-4393-a905-bb53f2cdd5ed",
        "colab": {
          "base_uri": "https://localhost:8080/",
          "height": 34
        }
      },
      "source": [
        "test=model.evaluate(x_test,y_test)"
      ],
      "execution_count": 82,
      "outputs": [
        {
          "output_type": "stream",
          "text": [
            "50/50 [==============================] - 0s 2ms/step - loss: 0.0035 - accuracy: 0.9962\n"
          ],
          "name": "stdout"
        }
      ]
    },
    {
      "cell_type": "code",
      "metadata": {
        "id": "HiImC7QCc9td",
        "outputId": "3f4d0749-e863-4bf1-d3be-97fc21663eae",
        "colab": {
          "base_uri": "https://localhost:8080/",
          "height": 51
        }
      },
      "source": [
        "print(type(y_pred))\n",
        "print(type(y_test))"
      ],
      "execution_count": 83,
      "outputs": [
        {
          "output_type": "stream",
          "text": [
            "<class 'numpy.ndarray'>\n",
            "<class 'pandas.core.series.Series'>\n"
          ],
          "name": "stdout"
        }
      ]
    },
    {
      "cell_type": "code",
      "metadata": {
        "id": "zgBtEPPfdCbn",
        "outputId": "cbe3423b-ef3b-4310-a7ae-9d7c1c889677",
        "colab": {
          "base_uri": "https://localhost:8080/",
          "height": 34
        }
      },
      "source": [
        "y_pred"
      ],
      "execution_count": 84,
      "outputs": [
        {
          "output_type": "execute_result",
          "data": {
            "text/plain": [
              "array([0, 1, 0, ..., 0, 0, 0])"
            ]
          },
          "metadata": {
            "tags": []
          },
          "execution_count": 84
        }
      ]
    },
    {
      "cell_type": "code",
      "metadata": {
        "id": "NoL9piGXdEnQ",
        "outputId": "05709ff8-068a-4fdd-a605-ae061ccc7c23",
        "colab": {
          "base_uri": "https://localhost:8080/",
          "height": 34
        }
      },
      "source": [
        "y_test.values"
      ],
      "execution_count": 85,
      "outputs": [
        {
          "output_type": "execute_result",
          "data": {
            "text/plain": [
              "array([0, 1, 0, ..., 0, 0, 0])"
            ]
          },
          "metadata": {
            "tags": []
          },
          "execution_count": 85
        }
      ]
    },
    {
      "cell_type": "code",
      "metadata": {
        "id": "0opCX2QDdimN",
        "outputId": "1f4adb7b-88d3-4b0e-a4c5-9caccbdbc190",
        "colab": {
          "base_uri": "https://localhost:8080/",
          "height": 51
        }
      },
      "source": [
        "confusion_matrix(y_test,y_pred)"
      ],
      "execution_count": 86,
      "outputs": [
        {
          "output_type": "execute_result",
          "data": {
            "text/plain": [
              "array([[1397,    4],\n",
              "       [   5,  175]])"
            ]
          },
          "metadata": {
            "tags": []
          },
          "execution_count": 86
        }
      ]
    },
    {
      "cell_type": "code",
      "metadata": {
        "id": "OwzodsM9uq6V"
      },
      "source": [
        "keras.backend.clear_session()"
      ],
      "execution_count": 87,
      "outputs": []
    },
    {
      "cell_type": "code",
      "metadata": {
        "id": "vWjqh48cuzBs"
      },
      "source": [
        "del model"
      ],
      "execution_count": 88,
      "outputs": []
    },
    {
      "cell_type": "code",
      "metadata": {
        "id": "-G569k8Fu-9k"
      },
      "source": [
        ""
      ],
      "execution_count": null,
      "outputs": []
    }
  ]
}